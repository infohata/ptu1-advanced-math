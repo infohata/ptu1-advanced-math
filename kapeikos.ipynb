{
 "cells": [
  {
   "cell_type": "code",
   "execution_count": 14,
   "metadata": {},
   "outputs": [
    {
     "data": {
      "text/plain": [
       "[25, 25, 25, 10, 10, 2, 1]"
      ]
     },
     "execution_count": 14,
     "metadata": {},
     "output_type": "execute_result"
    }
   ],
   "source": [
    "kapeikos = [1, 2, 5, 10, 20, 50]\n",
    "\n",
    "def graza(suma, kapeikos):\n",
    "    desc = iter(sorted(kapeikos)[::-1])\n",
    "    nominalas = next(desc)\n",
    "    while suma:\n",
    "        while suma < nominalas:\n",
    "            nominalas = next(desc)\n",
    "        suma -= nominalas\n",
    "        yield nominalas\n",
    "\n",
    "list(graza(98, kapeikos))"
   ]
  }
 ],
 "metadata": {
  "interpreter": {
   "hash": "5ae69545c1cf3fb0aba38c2758566221bd22a383128d6c1b08b3df0fe12d454d"
  },
  "kernelspec": {
   "display_name": "Python 3.10.1 ('venv': venv)",
   "language": "python",
   "name": "python3"
  },
  "language_info": {
   "codemirror_mode": {
    "name": "ipython",
    "version": 3
   },
   "file_extension": ".py",
   "mimetype": "text/x-python",
   "name": "python",
   "nbconvert_exporter": "python",
   "pygments_lexer": "ipython3",
   "version": "3.10.1"
  },
  "orig_nbformat": 4
 },
 "nbformat": 4,
 "nbformat_minor": 2
}
