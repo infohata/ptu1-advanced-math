{
 "cells": [
  {
   "cell_type": "code",
   "execution_count": 24,
   "metadata": {},
   "outputs": [
    {
     "data": {
      "text/plain": [
       "[50, 20, 20, 5, 2, 1]"
      ]
     },
     "execution_count": 24,
     "metadata": {},
     "output_type": "execute_result"
    }
   ],
   "source": [
    "kapeikos = [1, 2, 5, 10, 20, 50]\n",
    "\n",
    "def graza(suma, kapeikos):\n",
    "    desc = iter(sorted(kapeikos)[::-1])\n",
    "    nominalas = next(desc)\n",
    "    while suma:\n",
    "        while suma < nominalas:\n",
    "            try:\n",
    "                nominalas = next(desc)\n",
    "            except StopIteration:\n",
    "                yield suma\n",
    "                suma = 0\n",
    "        suma -= nominalas\n",
    "        yield nominalas\n",
    "\n",
    "change = graza(98, kapeikos)\n",
    "while True:\n",
    "    try:\n",
    "        print(next(change), end=' ')\n",
    "    except StopIteration:\n",
    "        break\n",
    "\n",
    "# list(change)"
   ]
  }
 ],
 "metadata": {
  "interpreter": {
   "hash": "5ae69545c1cf3fb0aba38c2758566221bd22a383128d6c1b08b3df0fe12d454d"
  },
  "kernelspec": {
   "display_name": "Python 3.10.1 ('venv': venv)",
   "language": "python",
   "name": "python3"
  },
  "language_info": {
   "name": "python",
   "version": "3.10.1"
  },
  "orig_nbformat": 4
 },
 "nbformat": 4,
 "nbformat_minor": 2
}
