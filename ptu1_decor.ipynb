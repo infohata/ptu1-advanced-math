{
 "cells": [
  {
   "cell_type": "code",
   "execution_count": 4,
   "metadata": {},
   "outputs": [
    {
     "data": {
      "text/plain": [
       "'Laba diena, kaip gyvenat?'"
      ]
     },
     "execution_count": 4,
     "metadata": {},
     "output_type": "execute_result"
    }
   ],
   "source": [
    "text = \"Laba diena, kaip gyvenat?\"\n",
    "\n",
    "def returns_string(some_string):\n",
    "    return some_string\n",
    "\n",
    "returns_string(text)"
   ]
  },
  {
   "cell_type": "code",
   "execution_count": 7,
   "metadata": {},
   "outputs": [
    {
     "data": {
      "text/plain": [
       "'?tanevyg piak ,aneid abaL'"
      ]
     },
     "execution_count": 7,
     "metadata": {},
     "output_type": "execute_result"
    }
   ],
   "source": [
    "def returns_reversed_string(text):\n",
    "    return text[::-1]\n",
    "\n",
    "returns_reversed_string(text)"
   ]
  },
  {
   "cell_type": "code",
   "execution_count": 12,
   "metadata": {},
   "outputs": [
    {
     "data": {
      "text/plain": [
       "'?TANEVYG PIAK ,ANEID ABAL'"
      ]
     },
     "execution_count": 12,
     "metadata": {},
     "output_type": "execute_result"
    }
   ],
   "source": [
    "def returns_upper_string(text, func):\n",
    "    if type(text) == str and callable(func):\n",
    "        return func(text).upper()\n",
    "    else:\n",
    "        raise ValueError('`text` argument must be string, and `func` must be a callable function')\n",
    "\n",
    "returns_upper_string(text, returns_reversed_string)"
   ]
  },
  {
   "cell_type": "code",
   "execution_count": 32,
   "metadata": {},
   "outputs": [
    {
     "data": {
      "text/plain": [
       "'LABADIENAKAIPGYVENATDARVIENAEILUTEIRDARVIENA'"
      ]
     },
     "execution_count": 32,
     "metadata": {},
     "output_type": "execute_result"
    }
   ],
   "source": [
    "def upper_decorator(func):\n",
    "    def wrapper(textas):\n",
    "        if type(textas) == str:\n",
    "            textas = func(textas)\n",
    "            textas = textas.upper()\n",
    "            return textas\n",
    "        else:\n",
    "            raise ValueError('`text` argument must be string, and `func` must be a callable function')\n",
    "    return wrapper\n",
    "\n",
    "# @upper_decorator\n",
    "# def returns_reversed_upper_string(text):\n",
    "#     return text[::-1]\n",
    "\n",
    "@upper_decorator\n",
    "def returns_just_letters(text):\n",
    "    text += \"\\ndar viena eilute\\nir dar viena\"\n",
    "    return ''.join([letter for letter in text if letter.isalpha()])\n",
    "\n",
    "returns_just_letters(text)"
   ]
  }
 ],
 "metadata": {
  "interpreter": {
   "hash": "5ae69545c1cf3fb0aba38c2758566221bd22a383128d6c1b08b3df0fe12d454d"
  },
  "kernelspec": {
   "display_name": "Python 3.10.1 ('venv': venv)",
   "language": "python",
   "name": "python3"
  },
  "language_info": {
   "codemirror_mode": {
    "name": "ipython",
    "version": 3
   },
   "file_extension": ".py",
   "mimetype": "text/x-python",
   "name": "python",
   "nbconvert_exporter": "python",
   "pygments_lexer": "ipython3",
   "version": "3.10.1"
  },
  "orig_nbformat": 4
 },
 "nbformat": 4,
 "nbformat_minor": 2
}
