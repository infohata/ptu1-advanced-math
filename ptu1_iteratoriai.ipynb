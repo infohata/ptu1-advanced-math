{
 "cells": [
  {
   "cell_type": "markdown",
   "metadata": {},
   "source": [
    "# Elementari teorija apie iteratorius"
   ]
  },
  {
   "cell_type": "code",
   "execution_count": 17,
   "metadata": {},
   "outputs": [
    {
     "data": {
      "text/plain": [
       "<str_iterator at 0x1bad01907c0>"
      ]
     },
     "execution_count": 17,
     "metadata": {},
     "output_type": "execute_result"
    }
   ],
   "source": [
    "kede = iter(\"kede\")\n",
    "kede"
   ]
  },
  {
   "cell_type": "code",
   "execution_count": 21,
   "metadata": {},
   "outputs": [
    {
     "data": {
      "text/plain": [
       "'e'"
      ]
     },
     "execution_count": 21,
     "metadata": {},
     "output_type": "execute_result"
    }
   ],
   "source": [
    "next(kede)"
   ]
  },
  {
   "cell_type": "code",
   "execution_count": 15,
   "metadata": {},
   "outputs": [
    {
     "name": "stdout",
     "output_type": "stream",
     "text": [
      "0123456789"
     ]
    }
   ],
   "source": [
    "nums = range(10)\n",
    "for skaicius in nums:\n",
    "    print(skaicius, end=\"\")"
   ]
  },
  {
   "cell_type": "code",
   "execution_count": 16,
   "metadata": {},
   "outputs": [
    {
     "name": "stdout",
     "output_type": "stream",
     "text": [
      "0123456789"
     ]
    }
   ],
   "source": [
    "iter_nums = iter(nums)\n",
    "while True:\n",
    "    try:\n",
    "        print(next(iter_nums), end=\"\")\n",
    "    except StopIteration:\n",
    "        break"
   ]
  },
  {
   "cell_type": "markdown",
   "metadata": {},
   "source": [
    "# Objektinis dziaugsmas"
   ]
  },
  {
   "cell_type": "code",
   "execution_count": 24,
   "metadata": {},
   "outputs": [],
   "source": [
    "def iteruoklis(objektas, funkcija):\n",
    "    iteratorius = iter(objektas)\n",
    "    while True:\n",
    "        try:\n",
    "            result = next(iteratorius)\n",
    "        except StopIteration:\n",
    "            break\n",
    "        else:\n",
    "            # print(f'leidziam {funkcija.__name__} su objekto savybe {iteratorius}')\n",
    "            funkcija(result)\n"
   ]
  },
  {
   "cell_type": "code",
   "execution_count": 43,
   "metadata": {},
   "outputs": [
    {
     "name": "stdout",
     "output_type": "stream",
     "text": [
      "jurgiss\n",
      "antanas\n",
      "aloyzas\n",
      "martynelis\n"
     ]
    }
   ],
   "source": [
    "broliai = ['jurgiss', 'antanas', 'aloyzas', 'martynelis']\n",
    "iteruoklis(broliai, print)"
   ]
  },
  {
   "cell_type": "code",
   "execution_count": 29,
   "metadata": {},
   "outputs": [
    {
     "name": "stdout",
     "output_type": "stream",
     "text": [
      "Jurgis; Antanas; Aloyzas; Martynas; "
     ]
    }
   ],
   "source": [
    "iteruoklis(broliai, lambda x: print(x.capitalize(), end='; '))"
   ]
  },
  {
   "cell_type": "code",
   "execution_count": 31,
   "metadata": {},
   "outputs": [
    {
     "name": "stdout",
     "output_type": "stream",
     "text": [
      "0\n",
      "1\n",
      "4\n",
      "9\n",
      "16\n",
      "25\n",
      "36\n",
      "49\n",
      "64\n",
      "81\n"
     ]
    }
   ],
   "source": [
    "iteruoklis(nums, lambda x: print(x ** 2))"
   ]
  },
  {
   "cell_type": "code",
   "execution_count": 32,
   "metadata": {},
   "outputs": [],
   "source": [
    "def uberiteruoklis(objektas, funkcija, *args, **kwargs):\n",
    "    iteratorius = iter(objektas)\n",
    "    while True:\n",
    "        try:\n",
    "            result = next(iteratorius)\n",
    "        except StopIteration:\n",
    "            break\n",
    "        else:\n",
    "            # print(f'leidziam {funkcija.__name__} su objekto savybe {iteratorius}')\n",
    "            funkcija(result, *args, **kwargs)\n"
   ]
  },
  {
   "cell_type": "code",
   "execution_count": 44,
   "metadata": {},
   "outputs": [
    {
     "name": "stdout",
     "output_type": "stream",
     "text": [
      "martynelis | brolis\taloyzas | brolis\tantanas | brolis\tjurgiss | brolis\t"
     ]
    }
   ],
   "source": [
    "uberiteruoklis(broliai[::-1], print, \"brolis\", sep=' | ', end=\"\\t\")"
   ]
  },
  {
   "cell_type": "markdown",
   "metadata": {},
   "source": [
    "# Generatoriai"
   ]
  },
  {
   "cell_type": "code",
   "execution_count": 46,
   "metadata": {},
   "outputs": [
    {
     "data": {
      "text/plain": [
       "<generator object skaiciuojam_iki at 0x000001BAD0A9E180>"
      ]
     },
     "execution_count": 46,
     "metadata": {},
     "output_type": "execute_result"
    }
   ],
   "source": [
    "def skaiciuojam_iki(iki_kiek, nuo_kiek=1):\n",
    "    count = nuo_kiek\n",
    "    while count <= iki_kiek:\n",
    "        yield count\n",
    "        count += 1\n",
    "\n",
    "skaiciuojam_iki(10)"
   ]
  },
  {
   "cell_type": "code",
   "execution_count": 53,
   "metadata": {},
   "outputs": [
    {
     "name": "stdout",
     "output_type": "stream",
     "text": [
      "0, 1, 2, 3, 4, 5, 6, 7, 8, 9, 10, 11, 12, 13, 14, 15, 16, 17, 18, 19, 20, 21, 22, 23, 24, 25, 26, 27, 28, 29, 30, 31, 32, 33, 34, 35, 36, 37, 38, 39, 40, 41, 42, 43, 44, 45, 46, 47, 48, 49, 50, 51, 52, 53, 54, 55, 56, 57, 58, 59, 60, 61, 62, 63, 64, 65, 66, 67, 68, 69, 70, 71, 72, 73, 74, 75, 76, 77, 78, 79, 80, 81, 82, 83, 84, 85, 86, 87, 88, 89, 90, 91, 92, 93, 94, 95, 96, 97, 98, 99, 100, "
     ]
    }
   ],
   "source": [
    "uberiteruoklis(skaiciuojam_iki(100, nuo=0), print, end=', ')"
   ]
  },
  {
   "cell_type": "code",
   "execution_count": 55,
   "metadata": {},
   "outputs": [
    {
     "data": {
      "text/plain": [
       "[1, 2, 3, 4, 5, 6, 7]"
      ]
     },
     "execution_count": 55,
     "metadata": {},
     "output_type": "execute_result"
    }
   ],
   "source": [
    "list(skaiciuojam_iki(7))"
   ]
  },
  {
   "cell_type": "code",
   "execution_count": 56,
   "metadata": {},
   "outputs": [
    {
     "name": "stdout",
     "output_type": "stream",
     "text": [
      "1, 2, 3, 4, 5, 6, 7, "
     ]
    }
   ],
   "source": [
    "for skaicius in skaiciuojam_iki(7):\n",
    "    print(skaicius, end=', ')"
   ]
  },
  {
   "cell_type": "code",
   "execution_count": 59,
   "metadata": {},
   "outputs": [
    {
     "name": "stdout",
     "output_type": "stream",
     "text": [
      "1\n",
      "2\n",
      "3\n"
     ]
    }
   ],
   "source": [
    "like_skaiciai = skaiciuojam_iki(7)\n",
    "print(next(like_skaiciai))\n",
    "print(next(like_skaiciai))\n",
    "print(next(like_skaiciai))"
   ]
  },
  {
   "cell_type": "code",
   "execution_count": 60,
   "metadata": {},
   "outputs": [
    {
     "data": {
      "text/plain": [
       "[4, 5, 6, 7]"
      ]
     },
     "execution_count": 60,
     "metadata": {},
     "output_type": "execute_result"
    }
   ],
   "source": [
    "list(like_skaiciai)"
   ]
  },
  {
   "cell_type": "code",
   "execution_count": 85,
   "metadata": {},
   "outputs": [
    {
     "name": "stdout",
     "output_type": "stream",
     "text": [
      "ilgis: 0, vienetu: 0, nuliu: 0, bin: 0b0, skaicius: 0\n",
      "ilgis: 1, vienetu: 1, nuliu: 0, bin: 0b1, skaicius: 1\n",
      "ilgis: 3, vienetu: 1, nuliu: 2, bin: 0b100, skaicius: 4\n",
      "ilgis: 4, vienetu: 2, nuliu: 2, bin: 0b1001, skaicius: 9\n",
      "ilgis: 5, vienetu: 1, nuliu: 4, bin: 0b10000, skaicius: 16\n",
      "ilgis: 5, vienetu: 3, nuliu: 2, bin: 0b11001, skaicius: 25\n",
      "ilgis: 6, vienetu: 2, nuliu: 4, bin: 0b100100, skaicius: 36\n",
      "ilgis: 6, vienetu: 3, nuliu: 3, bin: 0b110001, skaicius: 49\n",
      "ilgis: 7, vienetu: 1, nuliu: 6, bin: 0b1000000, skaicius: 64\n",
      "ilgis: 7, vienetu: 3, nuliu: 4, bin: 0b1010001, skaicius: 81\n",
      "ilgis: 7, vienetu: 3, nuliu: 4, bin: 0b1100100, skaicius: 100\n",
      "ilgis: 7, vienetu: 5, nuliu: 2, bin: 0b1111001, skaicius: 121\n",
      "ilgis: 8, vienetu: 2, nuliu: 6, bin: 0b10010000, skaicius: 144\n",
      "ilgis: 8, vienetu: 4, nuliu: 4, bin: 0b10101001, skaicius: 169\n",
      "ilgis: 8, vienetu: 3, nuliu: 5, bin: 0b11000100, skaicius: 196\n",
      "ilgis: 8, vienetu: 4, nuliu: 4, bin: 0b11100001, skaicius: 225\n",
      "ilgis: 9, vienetu: 1, nuliu: 8, bin: 0b100000000, skaicius: 256\n",
      "ilgis: 9, vienetu: 3, nuliu: 6, bin: 0b100100001, skaicius: 289\n",
      "ilgis: 9, vienetu: 3, nuliu: 6, bin: 0b101000100, skaicius: 324\n",
      "ilgis: 9, vienetu: 5, nuliu: 4, bin: 0b101101001, skaicius: 361\n",
      "ilgis: 9, vienetu: 3, nuliu: 6, bin: 0b110010000, skaicius: 400\n",
      "ilgis: 9, vienetu: 6, nuliu: 3, bin: 0b110111001, skaicius: 441\n",
      "ilgis: 9, vienetu: 5, nuliu: 4, bin: 0b111100100, skaicius: 484\n",
      "ilgis: 10, vienetu: 3, nuliu: 7, bin: 0b1000010001, skaicius: 529\n",
      "ilgis: 10, vienetu: 2, nuliu: 8, bin: 0b1001000000, skaicius: 576\n",
      "ilgis: 10, vienetu: 5, nuliu: 5, bin: 0b1001110001, skaicius: 625\n",
      "ilgis: 10, vienetu: 4, nuliu: 6, bin: 0b1010100100, skaicius: 676\n",
      "ilgis: 10, vienetu: 6, nuliu: 4, bin: 0b1011011001, skaicius: 729\n",
      "ilgis: 10, vienetu: 3, nuliu: 7, bin: 0b1100010000, skaicius: 784\n",
      "ilgis: 10, vienetu: 5, nuliu: 5, bin: 0b1101001001, skaicius: 841\n",
      "ilgis: 10, vienetu: 4, nuliu: 6, bin: 0b1110000100, skaicius: 900\n",
      "ilgis: 10, vienetu: 5, nuliu: 5, bin: 0b1111000001, skaicius: 961\n",
      "ilgis: 11, vienetu: 1, nuliu: 10, bin: 0b10000000000, skaicius: 1024\n",
      "ilgis: 11, vienetu: 3, nuliu: 8, bin: 0b10001000001, skaicius: 1089\n",
      "ilgis: 11, vienetu: 3, nuliu: 8, bin: 0b10010000100, skaicius: 1156\n",
      "ilgis: 11, vienetu: 5, nuliu: 6, bin: 0b10011001001, skaicius: 1225\n",
      "ilgis: 11, vienetu: 3, nuliu: 8, bin: 0b10100010000, skaicius: 1296\n",
      "ilgis: 11, vienetu: 6, nuliu: 5, bin: 0b10101011001, skaicius: 1369\n",
      "ilgis: 11, vienetu: 5, nuliu: 6, bin: 0b10110100100, skaicius: 1444\n",
      "ilgis: 11, vienetu: 7, nuliu: 4, bin: 0b10111110001, skaicius: 1521\n",
      "ilgis: 11, vienetu: 3, nuliu: 8, bin: 0b11001000000, skaicius: 1600\n",
      "ilgis: 11, vienetu: 5, nuliu: 6, bin: 0b11010010001, skaicius: 1681\n",
      "ilgis: 11, vienetu: 6, nuliu: 5, bin: 0b11011100100, skaicius: 1764\n",
      "ilgis: 11, vienetu: 7, nuliu: 4, bin: 0b11100111001, skaicius: 1849\n",
      "ilgis: 11, vienetu: 5, nuliu: 6, bin: 0b11110010000, skaicius: 1936\n",
      "ilgis: 11, vienetu: 8, nuliu: 3, bin: 0b11111101001, skaicius: 2025\n",
      "ilgis: 12, vienetu: 3, nuliu: 9, bin: 0b100001000100, skaicius: 2116\n",
      "ilgis: 12, vienetu: 4, nuliu: 8, bin: 0b100010100001, skaicius: 2209\n",
      "ilgis: 12, vienetu: 2, nuliu: 10, bin: 0b100100000000, skaicius: 2304\n",
      "ilgis: 12, vienetu: 5, nuliu: 7, bin: 0b100101100001, skaicius: 2401\n"
     ]
    }
   ],
   "source": [
    "g = (skaicius ** 2 for skaicius in range(50))\n",
    "while True:\n",
    "    prev_l = 0\n",
    "    try:\n",
    "        sekantis = g.__next__()\n",
    "    except StopIteration:\n",
    "        break\n",
    "    else:\n",
    "        print(f'ilgis: {sekantis.bit_length()}, vienetu: {sekantis.bit_count()}, nuliu: {sekantis.bit_length() - sekantis.bit_count()}, bin: {bin(sekantis)}, skaicius: {sekantis}')\n"
   ]
  }
 ],
 "metadata": {
  "interpreter": {
   "hash": "5ae69545c1cf3fb0aba38c2758566221bd22a383128d6c1b08b3df0fe12d454d"
  },
  "kernelspec": {
   "display_name": "Python 3.10.1 ('venv': venv)",
   "language": "python",
   "name": "python3"
  },
  "language_info": {
   "codemirror_mode": {
    "name": "ipython",
    "version": 3
   },
   "file_extension": ".py",
   "mimetype": "text/x-python",
   "name": "python",
   "nbconvert_exporter": "python",
   "pygments_lexer": "ipython3",
   "version": "3.10.1"
  },
  "orig_nbformat": 4
 },
 "nbformat": 4,
 "nbformat_minor": 2
}
