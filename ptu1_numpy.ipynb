{
 "cells": [
  {
   "cell_type": "markdown",
   "metadata": {},
   "source": [
    "# NumPy paskaita\n",
    "\n",
    "[nuoroda i kurso medziaga](https://github.com/robotautas/kursas/blob/master/NumPy/numpy.ipynb)"
   ]
  },
  {
   "cell_type": "markdown",
   "metadata": {},
   "source": [
    "### importuojami daiktai"
   ]
  },
  {
   "cell_type": "code",
   "execution_count": 182,
   "metadata": {},
   "outputs": [],
   "source": [
    "import numpy as np"
   ]
  },
  {
   "cell_type": "markdown",
   "metadata": {},
   "source": [
    "nustatom neribota eilutes ilgi, skaiciu po kablelio tiksluma..."
   ]
  },
  {
   "cell_type": "code",
   "execution_count": 183,
   "metadata": {},
   "outputs": [],
   "source": [
    "np.set_printoptions(linewidth=np.inf, precision=2)"
   ]
  },
  {
   "cell_type": "code",
   "execution_count": 184,
   "metadata": {},
   "outputs": [
    {
     "data": {
      "text/plain": [
       "[5, 3, 1, 7, 9]"
      ]
     },
     "execution_count": 184,
     "metadata": {},
     "output_type": "execute_result"
    }
   ],
   "source": [
    "listas = [5, 3, 1, 7, 9]\n",
    "listas"
   ]
  },
  {
   "cell_type": "markdown",
   "metadata": {},
   "source": [
    "### masyvas"
   ]
  },
  {
   "cell_type": "code",
   "execution_count": 185,
   "metadata": {},
   "outputs": [
    {
     "data": {
      "text/plain": [
       "array([5, 3, 1, 7, 9])"
      ]
     },
     "execution_count": 185,
     "metadata": {},
     "output_type": "execute_result"
    }
   ],
   "source": [
    "masyvas = np.array(listas)\n",
    "masyvas"
   ]
  },
  {
   "cell_type": "code",
   "execution_count": 186,
   "metadata": {},
   "outputs": [
    {
     "data": {
      "text/plain": [
       "array([ 1,  3,  5,  7,  9, 11, 13, 15])"
      ]
     },
     "execution_count": 186,
     "metadata": {},
     "output_type": "execute_result"
    }
   ],
   "source": [
    "eile = np.arange(1, 16, 2)\n",
    "eile"
   ]
  },
  {
   "cell_type": "code",
   "execution_count": 187,
   "metadata": {},
   "outputs": [
    {
     "data": {
      "text/plain": [
       "array([0, 0, 0, 0, 0, 0, 0, 0, 0, 0])"
      ]
     },
     "execution_count": 187,
     "metadata": {},
     "output_type": "execute_result"
    }
   ],
   "source": [
    "nuliai = np.zeros(10, int)\n",
    "nuliai"
   ]
  },
  {
   "cell_type": "markdown",
   "metadata": {},
   "source": [
    "#### Linear Space"
   ]
  },
  {
   "cell_type": "code",
   "execution_count": 188,
   "metadata": {},
   "outputs": [
    {
     "data": {
      "text/plain": [
       "array([ 0. ,  2.5,  5. ,  7.5, 10. ])"
      ]
     },
     "execution_count": 188,
     "metadata": {},
     "output_type": "execute_result"
    }
   ],
   "source": [
    "paskirstyta = np.linspace(0, 10, 5)\n",
    "paskirstyta"
   ]
  },
  {
   "cell_type": "code",
   "execution_count": 189,
   "metadata": {},
   "outputs": [
    {
     "data": {
      "text/plain": [
       "array([ 0.,  2.,  4.,  6.,  8., 10., 12., 14., 16.])"
      ]
     },
     "execution_count": 189,
     "metadata": {},
     "output_type": "execute_result"
    }
   ],
   "source": [
    "np.linspace(0, 16, 9)"
   ]
  },
  {
   "cell_type": "markdown",
   "metadata": {},
   "source": [
    "### matrica"
   ]
  },
  {
   "cell_type": "code",
   "execution_count": 190,
   "metadata": {},
   "outputs": [
    {
     "data": {
      "text/plain": [
       "array([[1, 2, 3],\n",
       "       [6, 5, 4],\n",
       "       [8, 9, 7]])"
      ]
     },
     "execution_count": 190,
     "metadata": {},
     "output_type": "execute_result"
    }
   ],
   "source": [
    "pirminis_listas = [[1, 2, 3], [6, 5, 4], [8, 9, 7]]\n",
    "matrica = np.array(pirminis_listas)\n",
    "matrica"
   ]
  },
  {
   "cell_type": "code",
   "execution_count": 191,
   "metadata": {},
   "outputs": [
    {
     "data": {
      "text/plain": [
       "array([[0, 0, 0, 0, 0],\n",
       "       [0, 0, 0, 0, 0],\n",
       "       [0, 0, 0, 0, 0],\n",
       "       [0, 0, 0, 0, 0],\n",
       "       [0, 0, 0, 0, 0]])"
      ]
     },
     "execution_count": 191,
     "metadata": {},
     "output_type": "execute_result"
    }
   ],
   "source": [
    "np.zeros((5, 5), int)"
   ]
  },
  {
   "cell_type": "code",
   "execution_count": 192,
   "metadata": {},
   "outputs": [
    {
     "data": {
      "text/plain": [
       "array([[1, 1, 1],\n",
       "       [1, 1, 1],\n",
       "       [1, 1, 1]])"
      ]
     },
     "execution_count": 192,
     "metadata": {},
     "output_type": "execute_result"
    }
   ],
   "source": [
    "np.ones((3, 3), int)"
   ]
  },
  {
   "cell_type": "code",
   "execution_count": 193,
   "metadata": {},
   "outputs": [
    {
     "data": {
      "text/plain": [
       "array([[1., 0., 0., 0., 0., 0., 0., 0., 0.],\n",
       "       [0., 1., 0., 0., 0., 0., 0., 0., 0.],\n",
       "       [0., 0., 1., 0., 0., 0., 0., 0., 0.],\n",
       "       [0., 0., 0., 1., 0., 0., 0., 0., 0.],\n",
       "       [0., 0., 0., 0., 1., 0., 0., 0., 0.],\n",
       "       [0., 0., 0., 0., 0., 1., 0., 0., 0.],\n",
       "       [0., 0., 0., 0., 0., 0., 1., 0., 0.],\n",
       "       [0., 0., 0., 0., 0., 0., 0., 1., 0.],\n",
       "       [0., 0., 0., 0., 0., 0., 0., 0., 1.]])"
      ]
     },
     "execution_count": 193,
     "metadata": {},
     "output_type": "execute_result"
    }
   ],
   "source": [
    "np.eye(9)"
   ]
  },
  {
   "cell_type": "markdown",
   "metadata": {},
   "source": [
    "### Random Masyvai ir Matricos"
   ]
  },
  {
   "cell_type": "code",
   "execution_count": 194,
   "metadata": {},
   "outputs": [
    {
     "data": {
      "text/plain": [
       "array([0.12, 0.9 , 0.36, 0.24, 0.7 , 0.12, 0.41, 0.3 , 0.78, 0.81])"
      ]
     },
     "execution_count": 194,
     "metadata": {},
     "output_type": "execute_result"
    }
   ],
   "source": [
    "np.random.rand(10)"
   ]
  },
  {
   "cell_type": "code",
   "execution_count": 195,
   "metadata": {},
   "outputs": [
    {
     "data": {
      "text/plain": [
       "array([[0.27, 0.37, 0.1 , 0.7 , 0.18],\n",
       "       [0.55, 0.05, 0.12, 0.7 , 0.8 ],\n",
       "       [0.95, 0.95, 0.36, 0.04, 0.07],\n",
       "       [0.52, 0.12, 0.4 , 0.44, 0.78],\n",
       "       [0.97, 0.69, 0.22, 0.9 , 0.55]])"
      ]
     },
     "execution_count": 195,
     "metadata": {},
     "output_type": "execute_result"
    }
   ],
   "source": [
    "np.random.rand(5, 5)"
   ]
  },
  {
   "cell_type": "code",
   "execution_count": 196,
   "metadata": {},
   "outputs": [
    {
     "data": {
      "text/plain": [
       "array([[ 0.55, -1.56,  0.23],\n",
       "       [-2.64,  0.08,  0.17],\n",
       "       [ 3.02,  1.21,  0.18]])"
      ]
     },
     "execution_count": 196,
     "metadata": {},
     "output_type": "execute_result"
    }
   ],
   "source": [
    "np.random.randn(3, 3)"
   ]
  },
  {
   "cell_type": "code",
   "execution_count": 197,
   "metadata": {},
   "outputs": [
    {
     "data": {
      "text/plain": [
       "array([103, 125, 136, 106, 128, 109, 177, 116, 187, 164, 166, 146, 148, 135, 193, 104, 110])"
      ]
     },
     "execution_count": 197,
     "metadata": {},
     "output_type": "execute_result"
    }
   ],
   "source": [
    "# masyvas\n",
    "np.random.randint(100, 200, 17)"
   ]
  },
  {
   "cell_type": "code",
   "execution_count": 198,
   "metadata": {},
   "outputs": [
    {
     "data": {
      "text/plain": [
       "array([[145, 109, 185, 153, 141, 197, 162],\n",
       "       [113, 170, 144, 126, 155, 188, 118],\n",
       "       [191, 102, 187, 132, 188, 171, 129],\n",
       "       [183, 174, 122, 105, 132, 147, 165],\n",
       "       [135, 113, 157, 189, 151, 131, 142],\n",
       "       [171, 117, 174, 125, 193, 128, 162],\n",
       "       [121, 169, 123, 192, 111, 132, 155]])"
      ]
     },
     "execution_count": 198,
     "metadata": {},
     "output_type": "execute_result"
    }
   ],
   "source": [
    "# matrica\n",
    "np.random.randint(100, 200, (7, 7))"
   ]
  },
  {
   "cell_type": "markdown",
   "metadata": {},
   "source": [
    "### Masyvu pertvarkymas"
   ]
  },
  {
   "cell_type": "code",
   "execution_count": 199,
   "metadata": {},
   "outputs": [
    {
     "data": {
      "text/plain": [
       "array([39, 76, 56, 92, 89, 75, 19, 67, 19, 23, 59, 11, 46, 14, 48, 56, 53, 99, 46, 33, 87, 72, 47, 17, 72, 44, 88, 54, 42, 40, 71, 53, 44, 30, 83, 68, 46, 95, 84, 95, 30, 13, 97, 23, 53, 31, 88, 22, 84, 31, 88, 99, 14, 54, 69, 86, 66, 75, 27, 18, 96, 43, 81, 78])"
      ]
     },
     "execution_count": 199,
     "metadata": {},
     "output_type": "execute_result"
    }
   ],
   "source": [
    "ilgas64 = np.random.randint(10, 100, 64)\n",
    "ilgas64"
   ]
  },
  {
   "cell_type": "code",
   "execution_count": 200,
   "metadata": {},
   "outputs": [
    {
     "data": {
      "text/plain": [
       "array([[39, 76, 56, 92, 89, 75, 19, 67],\n",
       "       [19, 23, 59, 11, 46, 14, 48, 56],\n",
       "       [53, 99, 46, 33, 87, 72, 47, 17],\n",
       "       [72, 44, 88, 54, 42, 40, 71, 53],\n",
       "       [44, 30, 83, 68, 46, 95, 84, 95],\n",
       "       [30, 13, 97, 23, 53, 31, 88, 22],\n",
       "       [84, 31, 88, 99, 14, 54, 69, 86],\n",
       "       [66, 75, 27, 18, 96, 43, 81, 78]])"
      ]
     },
     "execution_count": 200,
     "metadata": {},
     "output_type": "execute_result"
    }
   ],
   "source": [
    "matrica8x8 = ilgas64.reshape(8, 8)\n",
    "matrica8x8"
   ]
  },
  {
   "cell_type": "markdown",
   "metadata": {},
   "source": [
    "### Naudingi metodai"
   ]
  },
  {
   "cell_type": "code",
   "execution_count": 201,
   "metadata": {},
   "outputs": [
    {
     "data": {
      "text/plain": [
       "11"
      ]
     },
     "execution_count": 201,
     "metadata": {},
     "output_type": "execute_result"
    }
   ],
   "source": [
    "matrica8x8.min()"
   ]
  },
  {
   "cell_type": "code",
   "execution_count": 202,
   "metadata": {},
   "outputs": [
    {
     "data": {
      "text/plain": [
       "11"
      ]
     },
     "execution_count": 202,
     "metadata": {},
     "output_type": "execute_result"
    }
   ],
   "source": [
    "matrica8x8.argmin()"
   ]
  },
  {
   "cell_type": "code",
   "execution_count": 203,
   "metadata": {},
   "outputs": [
    {
     "data": {
      "text/plain": [
       "99"
      ]
     },
     "execution_count": 203,
     "metadata": {},
     "output_type": "execute_result"
    }
   ],
   "source": [
    "matrica8x8.max()"
   ]
  },
  {
   "cell_type": "code",
   "execution_count": 204,
   "metadata": {},
   "outputs": [
    {
     "data": {
      "text/plain": [
       "17"
      ]
     },
     "execution_count": 204,
     "metadata": {},
     "output_type": "execute_result"
    }
   ],
   "source": [
    "matrica8x8.argmax()"
   ]
  },
  {
   "cell_type": "code",
   "execution_count": 205,
   "metadata": {},
   "outputs": [
    {
     "data": {
      "text/plain": [
       "(8, 8)"
      ]
     },
     "execution_count": 205,
     "metadata": {},
     "output_type": "execute_result"
    }
   ],
   "source": [
    "matrica8x8.shape"
   ]
  },
  {
   "cell_type": "code",
   "execution_count": 206,
   "metadata": {},
   "outputs": [
    {
     "data": {
      "text/plain": [
       "dtype('int32')"
      ]
     },
     "execution_count": 206,
     "metadata": {},
     "output_type": "execute_result"
    }
   ],
   "source": [
    "matrica8x8.dtype"
   ]
  },
  {
   "cell_type": "markdown",
   "metadata": {},
   "source": [
    "### Indeksacija ir reiksmiu traukimas"
   ]
  },
  {
   "cell_type": "markdown",
   "metadata": {},
   "source": [
    "#### is masyvo"
   ]
  },
  {
   "cell_type": "code",
   "execution_count": 207,
   "metadata": {},
   "outputs": [
    {
     "data": {
      "text/plain": [
       "75"
      ]
     },
     "execution_count": 207,
     "metadata": {},
     "output_type": "execute_result"
    }
   ],
   "source": [
    "ilgas64[5]"
   ]
  },
  {
   "cell_type": "code",
   "execution_count": 208,
   "metadata": {},
   "outputs": [
    {
     "data": {
      "text/plain": [
       "array([99, 46, 33, 87, 72, 47, 17, 72, 44, 88, 54, 42, 40, 71, 53, 44])"
      ]
     },
     "execution_count": 208,
     "metadata": {},
     "output_type": "execute_result"
    }
   ],
   "source": [
    "ilgas64[17:33]"
   ]
  },
  {
   "cell_type": "code",
   "execution_count": 209,
   "metadata": {},
   "outputs": [
    {
     "data": {
      "text/plain": [
       "array([[39, 89, 19, 46],\n",
       "       [53, 87, 72, 42],\n",
       "       [44, 46, 30, 53],\n",
       "       [84, 14, 66, 96]])"
      ]
     },
     "execution_count": 209,
     "metadata": {},
     "output_type": "execute_result"
    }
   ],
   "source": [
    "ilgas64[::4].reshape(4, 4)"
   ]
  },
  {
   "cell_type": "code",
   "execution_count": 210,
   "metadata": {},
   "outputs": [
    {
     "data": {
      "text/plain": [
       "18"
      ]
     },
     "execution_count": 210,
     "metadata": {},
     "output_type": "execute_result"
    }
   ],
   "source": [
    "ilgas64[-5] # nuo galo"
   ]
  },
  {
   "cell_type": "code",
   "execution_count": 211,
   "metadata": {},
   "outputs": [
    {
     "data": {
      "text/plain": [
       "array([77, 76, 56, 92, 77, 75, 19, 67, 77, 23, 59, 11, 77, 14, 48, 56, 77, 99, 46, 33, 77, 72, 47, 17, 77, 44, 88, 54, 77, 40, 71, 53, 77, 30, 83, 68, 77, 95, 84, 95, 77, 13, 97, 23, 77, 31, 88, 22, 77, 31, 88, 99, 77, 54, 69, 86, 77, 75, 27, 18, 77, 43, 81, 78])"
      ]
     },
     "execution_count": 211,
     "metadata": {},
     "output_type": "execute_result"
    }
   ],
   "source": [
    "kreivas64 = ilgas64.copy()\n",
    "kreivas64[::4] = 77\n",
    "kreivas64"
   ]
  },
  {
   "cell_type": "markdown",
   "metadata": {},
   "source": [
    "#### is matricos"
   ]
  },
  {
   "cell_type": "code",
   "execution_count": 217,
   "metadata": {},
   "outputs": [
    {
     "data": {
      "text/plain": [
       "array([[39, 76, 56, 92, 89, 75, 19, 67],\n",
       "       [19, 23, 59, 11, 46, 14, 48, 56],\n",
       "       [53, 99, 46, 33, 87, 72, 47, 17],\n",
       "       [72, 44, 88, 54, 42, 40, 71, 53],\n",
       "       [44, 30, 83, 68, 46, 95, 84, 95],\n",
       "       [30, 13, 97, 23, 53, 31, 88, 22],\n",
       "       [84, 31, 88, 99, 14, 54, 69, 86],\n",
       "       [66, 75, 27, 18, 96, 43, 81, 78]])"
      ]
     },
     "execution_count": 217,
     "metadata": {},
     "output_type": "execute_result"
    }
   ],
   "source": [
    "matrica8x8"
   ]
  },
  {
   "cell_type": "code",
   "execution_count": 213,
   "metadata": {},
   "outputs": [
    {
     "data": {
      "text/plain": [
       "83"
      ]
     },
     "execution_count": 213,
     "metadata": {},
     "output_type": "execute_result"
    }
   ],
   "source": [
    "matrica8x8[4, 2]"
   ]
  },
  {
   "cell_type": "code",
   "execution_count": 214,
   "metadata": {},
   "outputs": [
    {
     "data": {
      "text/plain": [
       "array([[23, 59, 11, 46, 14, 48],\n",
       "       [99, 46, 33, 87, 72, 47],\n",
       "       [44, 88, 54, 42, 40, 71],\n",
       "       [30, 83, 68, 46, 95, 84],\n",
       "       [13, 97, 23, 53, 31, 88],\n",
       "       [31, 88, 99, 14, 54, 69]])"
      ]
     },
     "execution_count": 214,
     "metadata": {},
     "output_type": "execute_result"
    }
   ],
   "source": [
    "matrica8x8[1:7, 1:7]"
   ]
  },
  {
   "cell_type": "code",
   "execution_count": 215,
   "metadata": {},
   "outputs": [
    {
     "data": {
      "text/plain": [
       "array([[31, 88, 22],\n",
       "       [54, 69, 86],\n",
       "       [43, 81, 78]])"
      ]
     },
     "execution_count": 215,
     "metadata": {},
     "output_type": "execute_result"
    }
   ],
   "source": [
    "matrica8x8[-3:, -3:]"
   ]
  },
  {
   "cell_type": "code",
   "execution_count": 181,
   "metadata": {},
   "outputs": [
    {
     "data": {
      "text/plain": [
       "array([[43, 26, 36],\n",
       "       [74, 72, 21],\n",
       "       [84, 17, 31]])"
      ]
     },
     "execution_count": 181,
     "metadata": {},
     "output_type": "execute_result"
    }
   ],
   "source": [
    "matrica8x8[:3, -3:]"
   ]
  },
  {
   "cell_type": "markdown",
   "metadata": {},
   "source": [
    "### Salyginis traukimas"
   ]
  },
  {
   "cell_type": "code",
   "execution_count": 219,
   "metadata": {},
   "outputs": [
    {
     "data": {
      "text/plain": [
       "array([[39, 76, 56, 92, 89, 75, 19, 67],\n",
       "       [19, 23, 59, 11, 46, 14, 48, 56],\n",
       "       [53, 99, 46, 33, 87, 72, 47, 17],\n",
       "       [72, 44, 88, 54, 42, 40, 71, 53],\n",
       "       [44, 30, 83, 68, 46, 95, 84, 95],\n",
       "       [30, 13, 97, 23, 53, 31, 88, 22],\n",
       "       [84, 31, 88, 99, 14, 54, 69, 86],\n",
       "       [66, 75, 27, 18, 96, 43, 81, 78]])"
      ]
     },
     "execution_count": 219,
     "metadata": {},
     "output_type": "execute_result"
    }
   ],
   "source": [
    "matrica8x8"
   ]
  },
  {
   "cell_type": "code",
   "execution_count": 224,
   "metadata": {},
   "outputs": [
    {
     "data": {
      "text/plain": [
       "array([[False,  True, False,  True,  True,  True, False, False],\n",
       "       [False, False, False, False, False, False, False, False],\n",
       "       [False,  True, False, False,  True,  True, False, False],\n",
       "       [ True, False,  True, False, False, False,  True, False],\n",
       "       [False, False,  True, False, False,  True,  True,  True],\n",
       "       [False, False,  True, False, False, False,  True, False],\n",
       "       [ True, False,  True,  True, False, False, False,  True],\n",
       "       [False,  True, False, False,  True, False,  True,  True]])"
      ]
     },
     "execution_count": 224,
     "metadata": {},
     "output_type": "execute_result"
    }
   ],
   "source": [
    "virs70 = matrica8x8 >= 70\n",
    "virs70"
   ]
  },
  {
   "cell_type": "code",
   "execution_count": 225,
   "metadata": {},
   "outputs": [
    {
     "data": {
      "text/plain": [
       "array([76, 92, 89, 75, 99, 87, 72, 72, 88, 71, 83, 95, 84, 95, 97, 88, 84, 88, 99, 86, 75, 96, 81, 78])"
      ]
     },
     "execution_count": 225,
     "metadata": {},
     "output_type": "execute_result"
    }
   ],
   "source": [
    "matrica8x8[virs70]"
   ]
  },
  {
   "cell_type": "code",
   "execution_count": 226,
   "metadata": {},
   "outputs": [
    {
     "data": {
      "text/plain": [
       "array([92, 99, 95, 95, 97, 99, 96])"
      ]
     },
     "execution_count": 226,
     "metadata": {},
     "output_type": "execute_result"
    }
   ],
   "source": [
    "matrica8x8[matrica8x8 > 90]"
   ]
  },
  {
   "cell_type": "markdown",
   "metadata": {},
   "source": [
    "#### python native"
   ]
  },
  {
   "cell_type": "code",
   "execution_count": 234,
   "metadata": {},
   "outputs": [
    {
     "data": {
      "text/plain": [
       "[46,\n",
       " 73,\n",
       " 42,\n",
       " 53,\n",
       " 34,\n",
       " 85,\n",
       " 22,\n",
       " 80,\n",
       " 17,\n",
       " 67,\n",
       " 81,\n",
       " 48,\n",
       " 29,\n",
       " 90,\n",
       " 60,\n",
       " 12,\n",
       " 66,\n",
       " 26,\n",
       " 66,\n",
       " 76,\n",
       " 30,\n",
       " 98,\n",
       " 27,\n",
       " 47,\n",
       " 60,\n",
       " 99,\n",
       " 82,\n",
       " 90,\n",
       " 28,\n",
       " 90,\n",
       " 39,\n",
       " 40,\n",
       " 88,\n",
       " 62,\n",
       " 41,\n",
       " 78,\n",
       " 32,\n",
       " 43,\n",
       " 86,\n",
       " 60,\n",
       " 91,\n",
       " 45,\n",
       " 38,\n",
       " 63,\n",
       " 35,\n",
       " 31,\n",
       " 87,\n",
       " 86,\n",
       " 88,\n",
       " 63,\n",
       " 83,\n",
       " 34,\n",
       " 89,\n",
       " 56,\n",
       " 53,\n",
       " 44,\n",
       " 47,\n",
       " 31,\n",
       " 93,\n",
       " 79,\n",
       " 90,\n",
       " 70,\n",
       " 74,\n",
       " 73,\n",
       " 28,\n",
       " 84,\n",
       " 100,\n",
       " 65,\n",
       " 96,\n",
       " 88,\n",
       " 91,\n",
       " 68,\n",
       " 97,\n",
       " 35,\n",
       " 52,\n",
       " 67,\n",
       " 91,\n",
       " 72,\n",
       " 12,\n",
       " 29,\n",
       " 43,\n",
       " 96,\n",
       " 62,\n",
       " 34,\n",
       " 25,\n",
       " 82,\n",
       " 85,\n",
       " 90,\n",
       " 75,\n",
       " 60,\n",
       " 98,\n",
       " 57,\n",
       " 12,\n",
       " 47,\n",
       " 89,\n",
       " 16,\n",
       " 10,\n",
       " 89,\n",
       " 64,\n",
       " 30]"
      ]
     },
     "execution_count": 234,
     "metadata": {},
     "output_type": "execute_result"
    }
   ],
   "source": [
    "from random import randint\n",
    "eilute = []\n",
    "for i in range(0, 100):\n",
    "    eilute.append(randint(10, 100))\n",
    "\n",
    "eilute # [eilute > 50] neveiks"
   ]
  },
  {
   "cell_type": "markdown",
   "metadata": {},
   "source": [
    "### Numpy elgsenos ipatumai"
   ]
  },
  {
   "cell_type": "code",
   "execution_count": 235,
   "metadata": {},
   "outputs": [
    {
     "data": {
      "text/plain": [
       "array([ 4, 10, 12,  9,  4, 18, 13,  8, 19, 19, 19,  6, 13,  7, 15,  9, 18, 18, 18, 10])"
      ]
     },
     "execution_count": 235,
     "metadata": {},
     "output_type": "execute_result"
    }
   ],
   "source": [
    "pvz = np.random.randint(1, 21, 20)\n",
    "pvz"
   ]
  },
  {
   "cell_type": "code",
   "execution_count": 237,
   "metadata": {},
   "outputs": [
    {
     "data": {
      "text/plain": [
       "array([18, 13,  8, 19, 19, 19,  6, 13,  7, 15])"
      ]
     },
     "execution_count": 237,
     "metadata": {},
     "output_type": "execute_result"
    }
   ],
   "source": [
    "ispjova = pvz[5:15]\n",
    "ispjova"
   ]
  },
  {
   "cell_type": "code",
   "execution_count": 239,
   "metadata": {},
   "outputs": [
    {
     "data": {
      "text/plain": [
       "array([99, 99, 99, 99, 99, 99, 99, 99, 99, 99])"
      ]
     },
     "execution_count": 239,
     "metadata": {},
     "output_type": "execute_result"
    }
   ],
   "source": [
    "ispjova[:] = 99\n",
    "ispjova"
   ]
  },
  {
   "cell_type": "code",
   "execution_count": 246,
   "metadata": {},
   "outputs": [
    {
     "data": {
      "text/plain": [
       "array([ 4, 10, 12,  9,  4, 99, 99, 99, 99, 99, 99, 99, 99, 99, 99,  9, 18, 18, 18, 10])"
      ]
     },
     "execution_count": 246,
     "metadata": {},
     "output_type": "execute_result"
    }
   ],
   "source": [
    "pvz"
   ]
  },
  {
   "cell_type": "code",
   "execution_count": 247,
   "metadata": {},
   "outputs": [
    {
     "data": {
      "text/plain": [
       "array([ 4, 10, 12,  9,  4, 99, 99, 99, 99, 99, 99, 99, 99, 99, 99,  9, 18, 18, 18, 10])"
      ]
     },
     "execution_count": 247,
     "metadata": {},
     "output_type": "execute_result"
    }
   ],
   "source": [
    "pvzc = pvz.copy()\n",
    "pvzc"
   ]
  },
  {
   "cell_type": "code",
   "execution_count": 248,
   "metadata": {},
   "outputs": [
    {
     "data": {
      "text/plain": [
       "array([ True,  True,  True,  True,  True,  True,  True,  True,  True,  True,  True,  True,  True,  True,  True,  True,  True,  True,  True,  True])"
      ]
     },
     "execution_count": 248,
     "metadata": {},
     "output_type": "execute_result"
    }
   ],
   "source": [
    "pvzc == pvz"
   ]
  },
  {
   "cell_type": "code",
   "execution_count": 249,
   "metadata": {},
   "outputs": [
    {
     "data": {
      "text/plain": [
       "array([ 4, 10, 12,  9,  4, 77, 77, 77, 77, 77, 77, 77, 77, 77, 77,  9, 18, 18, 18, 10])"
      ]
     },
     "execution_count": 249,
     "metadata": {},
     "output_type": "execute_result"
    }
   ],
   "source": [
    "pvzc_ispjova = pvzc[5:15]\n",
    "pvzc_ispjova[:] = 77\n",
    "pvzc"
   ]
  },
  {
   "cell_type": "code",
   "execution_count": 250,
   "metadata": {},
   "outputs": [
    {
     "data": {
      "text/plain": [
       "array([ 4, 10, 12,  9,  4, 77, 77, 77, 77, 77, 77, 77, 77, 77, 77,  9, 18, 18, 18, 10])"
      ]
     },
     "execution_count": 250,
     "metadata": {},
     "output_type": "execute_result"
    }
   ],
   "source": [
    "pvz"
   ]
  }
 ],
 "metadata": {
  "interpreter": {
   "hash": "afa4dd3da4087d5c6238fd8833e07e71fa69923c9868061c584542cdf9b5a2b1"
  },
  "kernelspec": {
   "display_name": "Python 3.10.1 ('venv': venv)",
   "language": "python",
   "name": "python3"
  },
  "language_info": {
   "codemirror_mode": {
    "name": "ipython",
    "version": 3
   },
   "file_extension": ".py",
   "mimetype": "text/x-python",
   "name": "python",
   "nbconvert_exporter": "python",
   "pygments_lexer": "ipython3",
   "version": "3.10.1"
  },
  "orig_nbformat": 4
 },
 "nbformat": 4,
 "nbformat_minor": 2
}
