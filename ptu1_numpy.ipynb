{
 "cells": [
  {
   "cell_type": "markdown",
   "metadata": {},
   "source": [
    "# NumPy paskaita\n",
    "\n",
    "[nuoroda i kurso medziaga](https://github.com/robotautas/kursas/blob/master/NumPy/numpy.ipynb)"
   ]
  },
  {
   "cell_type": "markdown",
   "metadata": {},
   "source": [
    "### importuojami daiktai"
   ]
  },
  {
   "cell_type": "code",
   "execution_count": 2,
   "metadata": {},
   "outputs": [],
   "source": [
    "import numpy as np"
   ]
  },
  {
   "cell_type": "markdown",
   "metadata": {},
   "source": [
    "nustatom neribota eilutes ilgi, skaiciu po kablelio tiksluma..."
   ]
  },
  {
   "cell_type": "code",
   "execution_count": 3,
   "metadata": {},
   "outputs": [],
   "source": [
    "np.set_printoptions(linewidth=np.inf, precision=2)"
   ]
  },
  {
   "cell_type": "code",
   "execution_count": 4,
   "metadata": {},
   "outputs": [
    {
     "data": {
      "text/plain": [
       "[5, 3, 1, 7, 9]"
      ]
     },
     "execution_count": 4,
     "metadata": {},
     "output_type": "execute_result"
    }
   ],
   "source": [
    "listas = [5, 3, 1, 7, 9]\n",
    "listas"
   ]
  },
  {
   "cell_type": "markdown",
   "metadata": {},
   "source": [
    "### masyvas"
   ]
  },
  {
   "cell_type": "code",
   "execution_count": 5,
   "metadata": {},
   "outputs": [
    {
     "data": {
      "text/plain": [
       "array([5, 3, 1, 7, 9])"
      ]
     },
     "execution_count": 5,
     "metadata": {},
     "output_type": "execute_result"
    }
   ],
   "source": [
    "masyvas = np.array(listas)\n",
    "masyvas"
   ]
  },
  {
   "cell_type": "code",
   "execution_count": 6,
   "metadata": {},
   "outputs": [
    {
     "data": {
      "text/plain": [
       "array([ 1,  3,  5,  7,  9, 11, 13, 15])"
      ]
     },
     "execution_count": 6,
     "metadata": {},
     "output_type": "execute_result"
    }
   ],
   "source": [
    "eile = np.arange(1, 16, 2)\n",
    "eile"
   ]
  },
  {
   "cell_type": "code",
   "execution_count": 7,
   "metadata": {},
   "outputs": [
    {
     "data": {
      "text/plain": [
       "array([0, 0, 0, 0, 0, 0, 0, 0, 0, 0])"
      ]
     },
     "execution_count": 7,
     "metadata": {},
     "output_type": "execute_result"
    }
   ],
   "source": [
    "nuliai = np.zeros(10, int)\n",
    "nuliai"
   ]
  },
  {
   "cell_type": "markdown",
   "metadata": {},
   "source": [
    "#### Linear Space"
   ]
  },
  {
   "cell_type": "code",
   "execution_count": 8,
   "metadata": {},
   "outputs": [
    {
     "data": {
      "text/plain": [
       "array([ 0. ,  2.5,  5. ,  7.5, 10. ])"
      ]
     },
     "execution_count": 8,
     "metadata": {},
     "output_type": "execute_result"
    }
   ],
   "source": [
    "paskirstyta = np.linspace(0, 10, 5)\n",
    "paskirstyta"
   ]
  },
  {
   "cell_type": "code",
   "execution_count": 9,
   "metadata": {},
   "outputs": [
    {
     "data": {
      "text/plain": [
       "array([ 0.,  2.,  4.,  6.,  8., 10., 12., 14., 16.])"
      ]
     },
     "execution_count": 9,
     "metadata": {},
     "output_type": "execute_result"
    }
   ],
   "source": [
    "np.linspace(0, 16, 9)"
   ]
  },
  {
   "cell_type": "markdown",
   "metadata": {},
   "source": [
    "### matrica"
   ]
  },
  {
   "cell_type": "code",
   "execution_count": 10,
   "metadata": {},
   "outputs": [
    {
     "data": {
      "text/plain": [
       "array([[1, 2, 3],\n",
       "       [6, 5, 4],\n",
       "       [8, 9, 7]])"
      ]
     },
     "execution_count": 10,
     "metadata": {},
     "output_type": "execute_result"
    }
   ],
   "source": [
    "pirminis_listas = [[1, 2, 3], [6, 5, 4], [8, 9, 7]]\n",
    "matrica = np.array(pirminis_listas)\n",
    "matrica"
   ]
  },
  {
   "cell_type": "code",
   "execution_count": 11,
   "metadata": {},
   "outputs": [
    {
     "data": {
      "text/plain": [
       "array([[0, 0, 0, 0, 0],\n",
       "       [0, 0, 0, 0, 0],\n",
       "       [0, 0, 0, 0, 0],\n",
       "       [0, 0, 0, 0, 0],\n",
       "       [0, 0, 0, 0, 0]])"
      ]
     },
     "execution_count": 11,
     "metadata": {},
     "output_type": "execute_result"
    }
   ],
   "source": [
    "np.zeros((5, 5), int)"
   ]
  },
  {
   "cell_type": "code",
   "execution_count": 12,
   "metadata": {},
   "outputs": [
    {
     "data": {
      "text/plain": [
       "array([[1, 1, 1],\n",
       "       [1, 1, 1],\n",
       "       [1, 1, 1]])"
      ]
     },
     "execution_count": 12,
     "metadata": {},
     "output_type": "execute_result"
    }
   ],
   "source": [
    "np.ones((3, 3), int)"
   ]
  },
  {
   "cell_type": "code",
   "execution_count": 13,
   "metadata": {},
   "outputs": [
    {
     "data": {
      "text/plain": [
       "array([[1., 0., 0., 0., 0., 0., 0., 0., 0.],\n",
       "       [0., 1., 0., 0., 0., 0., 0., 0., 0.],\n",
       "       [0., 0., 1., 0., 0., 0., 0., 0., 0.],\n",
       "       [0., 0., 0., 1., 0., 0., 0., 0., 0.],\n",
       "       [0., 0., 0., 0., 1., 0., 0., 0., 0.],\n",
       "       [0., 0., 0., 0., 0., 1., 0., 0., 0.],\n",
       "       [0., 0., 0., 0., 0., 0., 1., 0., 0.],\n",
       "       [0., 0., 0., 0., 0., 0., 0., 1., 0.],\n",
       "       [0., 0., 0., 0., 0., 0., 0., 0., 1.]])"
      ]
     },
     "execution_count": 13,
     "metadata": {},
     "output_type": "execute_result"
    }
   ],
   "source": [
    "np.eye(9)"
   ]
  },
  {
   "cell_type": "markdown",
   "metadata": {},
   "source": [
    "### Random Masyvai ir Matricos"
   ]
  },
  {
   "cell_type": "code",
   "execution_count": 14,
   "metadata": {},
   "outputs": [
    {
     "data": {
      "text/plain": [
       "array([0.13, 0.78, 0.98, 0.08, 0.13, 1.  , 0.56, 0.51, 0.65, 0.2 ])"
      ]
     },
     "execution_count": 14,
     "metadata": {},
     "output_type": "execute_result"
    }
   ],
   "source": [
    "np.random.rand(10)"
   ]
  },
  {
   "cell_type": "code",
   "execution_count": 15,
   "metadata": {},
   "outputs": [
    {
     "data": {
      "text/plain": [
       "array([[0.88, 0.04, 0.3 , 0.64, 0.86],\n",
       "       [0.43, 0.28, 0.76, 0.79, 0.71],\n",
       "       [0.94, 0.98, 0.5 , 0.17, 0.09],\n",
       "       [0.13, 0.23, 0.71, 0.68, 0.42],\n",
       "       [0.64, 0.  , 0.75, 0.22, 0.45]])"
      ]
     },
     "execution_count": 15,
     "metadata": {},
     "output_type": "execute_result"
    }
   ],
   "source": [
    "np.random.rand(5, 5)"
   ]
  },
  {
   "cell_type": "code",
   "execution_count": 16,
   "metadata": {},
   "outputs": [
    {
     "data": {
      "text/plain": [
       "array([[-1.94, -1.07, -0.22],\n",
       "       [-0.34, -1.38,  0.29],\n",
       "       [-0.57,  2.34,  0.3 ]])"
      ]
     },
     "execution_count": 16,
     "metadata": {},
     "output_type": "execute_result"
    }
   ],
   "source": [
    "np.random.randn(3, 3)"
   ]
  },
  {
   "cell_type": "code",
   "execution_count": 17,
   "metadata": {},
   "outputs": [
    {
     "data": {
      "text/plain": [
       "array([142, 105, 199, 126, 173, 107, 124, 157, 185, 143, 147, 198, 167, 106, 127, 134, 108])"
      ]
     },
     "execution_count": 17,
     "metadata": {},
     "output_type": "execute_result"
    }
   ],
   "source": [
    "# masyvas\n",
    "np.random.randint(100, 200, 17)"
   ]
  },
  {
   "cell_type": "code",
   "execution_count": 18,
   "metadata": {},
   "outputs": [
    {
     "data": {
      "text/plain": [
       "array([[130, 169, 160, 122, 167, 177, 168],\n",
       "       [105, 180, 158, 103, 158, 183, 188],\n",
       "       [110, 155, 117, 117, 147, 119, 134],\n",
       "       [150, 169, 103, 160, 135, 117, 160],\n",
       "       [152, 156, 151, 147, 134, 124, 168],\n",
       "       [109, 171, 166, 109, 167, 103, 125],\n",
       "       [198, 124, 144, 189, 194, 141, 160]])"
      ]
     },
     "execution_count": 18,
     "metadata": {},
     "output_type": "execute_result"
    }
   ],
   "source": [
    "# matrica\n",
    "np.random.randint(100, 200, (7, 7))"
   ]
  },
  {
   "cell_type": "markdown",
   "metadata": {},
   "source": [
    "### Masyvu pertvarkymas"
   ]
  },
  {
   "cell_type": "code",
   "execution_count": 19,
   "metadata": {},
   "outputs": [
    {
     "data": {
      "text/plain": [
       "array([30, 58, 31, 62, 77, 22, 47, 32, 36, 48, 81, 44, 82, 11, 30, 17, 61, 35, 71, 56, 21, 20, 91, 94, 81, 27, 79, 78, 79, 65, 60, 23, 45, 77, 82, 15, 93, 44, 29, 72, 91, 64, 58, 77, 56, 63, 69, 22, 95, 52, 66, 27, 41, 43, 52, 42, 74, 61, 19, 58, 64, 24, 48, 11])"
      ]
     },
     "execution_count": 19,
     "metadata": {},
     "output_type": "execute_result"
    }
   ],
   "source": [
    "ilgas64 = np.random.randint(10, 100, 64)\n",
    "ilgas64"
   ]
  },
  {
   "cell_type": "code",
   "execution_count": 20,
   "metadata": {},
   "outputs": [
    {
     "data": {
      "text/plain": [
       "array([[30, 58, 31, 62, 77, 22, 47, 32],\n",
       "       [36, 48, 81, 44, 82, 11, 30, 17],\n",
       "       [61, 35, 71, 56, 21, 20, 91, 94],\n",
       "       [81, 27, 79, 78, 79, 65, 60, 23],\n",
       "       [45, 77, 82, 15, 93, 44, 29, 72],\n",
       "       [91, 64, 58, 77, 56, 63, 69, 22],\n",
       "       [95, 52, 66, 27, 41, 43, 52, 42],\n",
       "       [74, 61, 19, 58, 64, 24, 48, 11]])"
      ]
     },
     "execution_count": 20,
     "metadata": {},
     "output_type": "execute_result"
    }
   ],
   "source": [
    "matrica8x8 = ilgas64.reshape(8, 8)\n",
    "matrica8x8"
   ]
  },
  {
   "cell_type": "markdown",
   "metadata": {},
   "source": [
    "### Naudingi metodai"
   ]
  },
  {
   "cell_type": "code",
   "execution_count": 21,
   "metadata": {},
   "outputs": [
    {
     "data": {
      "text/plain": [
       "11"
      ]
     },
     "execution_count": 21,
     "metadata": {},
     "output_type": "execute_result"
    }
   ],
   "source": [
    "matrica8x8.min()"
   ]
  },
  {
   "cell_type": "code",
   "execution_count": 22,
   "metadata": {},
   "outputs": [
    {
     "data": {
      "text/plain": [
       "13"
      ]
     },
     "execution_count": 22,
     "metadata": {},
     "output_type": "execute_result"
    }
   ],
   "source": [
    "matrica8x8.argmin()"
   ]
  },
  {
   "cell_type": "code",
   "execution_count": 23,
   "metadata": {},
   "outputs": [
    {
     "data": {
      "text/plain": [
       "95"
      ]
     },
     "execution_count": 23,
     "metadata": {},
     "output_type": "execute_result"
    }
   ],
   "source": [
    "matrica8x8.max()"
   ]
  },
  {
   "cell_type": "code",
   "execution_count": 24,
   "metadata": {},
   "outputs": [
    {
     "data": {
      "text/plain": [
       "48"
      ]
     },
     "execution_count": 24,
     "metadata": {},
     "output_type": "execute_result"
    }
   ],
   "source": [
    "matrica8x8.argmax()"
   ]
  },
  {
   "cell_type": "code",
   "execution_count": 25,
   "metadata": {},
   "outputs": [
    {
     "data": {
      "text/plain": [
       "(8, 8)"
      ]
     },
     "execution_count": 25,
     "metadata": {},
     "output_type": "execute_result"
    }
   ],
   "source": [
    "matrica8x8.shape"
   ]
  },
  {
   "cell_type": "code",
   "execution_count": 26,
   "metadata": {},
   "outputs": [
    {
     "data": {
      "text/plain": [
       "dtype('int32')"
      ]
     },
     "execution_count": 26,
     "metadata": {},
     "output_type": "execute_result"
    }
   ],
   "source": [
    "matrica8x8.dtype"
   ]
  },
  {
   "cell_type": "markdown",
   "metadata": {},
   "source": [
    "### Indeksacija ir reiksmiu traukimas"
   ]
  },
  {
   "cell_type": "markdown",
   "metadata": {},
   "source": [
    "#### is masyvo"
   ]
  },
  {
   "cell_type": "code",
   "execution_count": 27,
   "metadata": {},
   "outputs": [
    {
     "data": {
      "text/plain": [
       "22"
      ]
     },
     "execution_count": 27,
     "metadata": {},
     "output_type": "execute_result"
    }
   ],
   "source": [
    "ilgas64[5]"
   ]
  },
  {
   "cell_type": "code",
   "execution_count": 28,
   "metadata": {},
   "outputs": [
    {
     "data": {
      "text/plain": [
       "array([35, 71, 56, 21, 20, 91, 94, 81, 27, 79, 78, 79, 65, 60, 23, 45])"
      ]
     },
     "execution_count": 28,
     "metadata": {},
     "output_type": "execute_result"
    }
   ],
   "source": [
    "ilgas64[17:33]"
   ]
  },
  {
   "cell_type": "code",
   "execution_count": 29,
   "metadata": {},
   "outputs": [
    {
     "data": {
      "text/plain": [
       "array([[30, 77, 36, 82],\n",
       "       [61, 21, 81, 79],\n",
       "       [45, 93, 91, 56],\n",
       "       [95, 41, 74, 64]])"
      ]
     },
     "execution_count": 29,
     "metadata": {},
     "output_type": "execute_result"
    }
   ],
   "source": [
    "ilgas64[::4].reshape(4, 4)"
   ]
  },
  {
   "cell_type": "code",
   "execution_count": 30,
   "metadata": {},
   "outputs": [
    {
     "data": {
      "text/plain": [
       "58"
      ]
     },
     "execution_count": 30,
     "metadata": {},
     "output_type": "execute_result"
    }
   ],
   "source": [
    "ilgas64[-5] # nuo galo"
   ]
  },
  {
   "cell_type": "code",
   "execution_count": 31,
   "metadata": {},
   "outputs": [
    {
     "data": {
      "text/plain": [
       "array([77, 58, 31, 62, 77, 22, 47, 32, 77, 48, 81, 44, 77, 11, 30, 17, 77, 35, 71, 56, 77, 20, 91, 94, 77, 27, 79, 78, 77, 65, 60, 23, 77, 77, 82, 15, 77, 44, 29, 72, 77, 64, 58, 77, 77, 63, 69, 22, 77, 52, 66, 27, 77, 43, 52, 42, 77, 61, 19, 58, 77, 24, 48, 11])"
      ]
     },
     "execution_count": 31,
     "metadata": {},
     "output_type": "execute_result"
    }
   ],
   "source": [
    "kreivas64 = ilgas64.copy()\n",
    "kreivas64[::4] = 77\n",
    "kreivas64"
   ]
  },
  {
   "cell_type": "markdown",
   "metadata": {},
   "source": [
    "#### is matricos"
   ]
  },
  {
   "cell_type": "code",
   "execution_count": 32,
   "metadata": {},
   "outputs": [
    {
     "data": {
      "text/plain": [
       "array([[30, 58, 31, 62, 77, 22, 47, 32],\n",
       "       [36, 48, 81, 44, 82, 11, 30, 17],\n",
       "       [61, 35, 71, 56, 21, 20, 91, 94],\n",
       "       [81, 27, 79, 78, 79, 65, 60, 23],\n",
       "       [45, 77, 82, 15, 93, 44, 29, 72],\n",
       "       [91, 64, 58, 77, 56, 63, 69, 22],\n",
       "       [95, 52, 66, 27, 41, 43, 52, 42],\n",
       "       [74, 61, 19, 58, 64, 24, 48, 11]])"
      ]
     },
     "execution_count": 32,
     "metadata": {},
     "output_type": "execute_result"
    }
   ],
   "source": [
    "matrica8x8"
   ]
  },
  {
   "cell_type": "code",
   "execution_count": 33,
   "metadata": {},
   "outputs": [
    {
     "data": {
      "text/plain": [
       "82"
      ]
     },
     "execution_count": 33,
     "metadata": {},
     "output_type": "execute_result"
    }
   ],
   "source": [
    "matrica8x8[4, 2]"
   ]
  },
  {
   "cell_type": "code",
   "execution_count": 34,
   "metadata": {},
   "outputs": [
    {
     "data": {
      "text/plain": [
       "array([[48, 81, 44, 82, 11, 30],\n",
       "       [35, 71, 56, 21, 20, 91],\n",
       "       [27, 79, 78, 79, 65, 60],\n",
       "       [77, 82, 15, 93, 44, 29],\n",
       "       [64, 58, 77, 56, 63, 69],\n",
       "       [52, 66, 27, 41, 43, 52]])"
      ]
     },
     "execution_count": 34,
     "metadata": {},
     "output_type": "execute_result"
    }
   ],
   "source": [
    "matrica8x8[1:7, 1:7]"
   ]
  },
  {
   "cell_type": "code",
   "execution_count": 35,
   "metadata": {},
   "outputs": [
    {
     "data": {
      "text/plain": [
       "array([[63, 69, 22],\n",
       "       [43, 52, 42],\n",
       "       [24, 48, 11]])"
      ]
     },
     "execution_count": 35,
     "metadata": {},
     "output_type": "execute_result"
    }
   ],
   "source": [
    "matrica8x8[-3:, -3:]"
   ]
  },
  {
   "cell_type": "code",
   "execution_count": 36,
   "metadata": {},
   "outputs": [
    {
     "data": {
      "text/plain": [
       "array([[22, 47, 32],\n",
       "       [11, 30, 17],\n",
       "       [20, 91, 94]])"
      ]
     },
     "execution_count": 36,
     "metadata": {},
     "output_type": "execute_result"
    }
   ],
   "source": [
    "matrica8x8[:3, -3:]"
   ]
  },
  {
   "cell_type": "markdown",
   "metadata": {},
   "source": [
    "### Salyginis traukimas"
   ]
  },
  {
   "cell_type": "code",
   "execution_count": 37,
   "metadata": {},
   "outputs": [
    {
     "data": {
      "text/plain": [
       "array([[30, 58, 31, 62, 77, 22, 47, 32],\n",
       "       [36, 48, 81, 44, 82, 11, 30, 17],\n",
       "       [61, 35, 71, 56, 21, 20, 91, 94],\n",
       "       [81, 27, 79, 78, 79, 65, 60, 23],\n",
       "       [45, 77, 82, 15, 93, 44, 29, 72],\n",
       "       [91, 64, 58, 77, 56, 63, 69, 22],\n",
       "       [95, 52, 66, 27, 41, 43, 52, 42],\n",
       "       [74, 61, 19, 58, 64, 24, 48, 11]])"
      ]
     },
     "execution_count": 37,
     "metadata": {},
     "output_type": "execute_result"
    }
   ],
   "source": [
    "matrica8x8"
   ]
  },
  {
   "cell_type": "code",
   "execution_count": 38,
   "metadata": {},
   "outputs": [
    {
     "data": {
      "text/plain": [
       "array([[False, False, False, False,  True, False, False, False],\n",
       "       [False, False,  True, False,  True, False, False, False],\n",
       "       [False, False,  True, False, False, False,  True,  True],\n",
       "       [ True, False,  True,  True,  True, False, False, False],\n",
       "       [False,  True,  True, False,  True, False, False,  True],\n",
       "       [ True, False, False,  True, False, False, False, False],\n",
       "       [ True, False, False, False, False, False, False, False],\n",
       "       [ True, False, False, False, False, False, False, False]])"
      ]
     },
     "execution_count": 38,
     "metadata": {},
     "output_type": "execute_result"
    }
   ],
   "source": [
    "virs70 = matrica8x8 >= 70\n",
    "virs70"
   ]
  },
  {
   "cell_type": "code",
   "execution_count": 39,
   "metadata": {},
   "outputs": [
    {
     "data": {
      "text/plain": [
       "array([77, 81, 82, 71, 91, 94, 81, 79, 78, 79, 77, 82, 93, 72, 91, 77, 95, 74])"
      ]
     },
     "execution_count": 39,
     "metadata": {},
     "output_type": "execute_result"
    }
   ],
   "source": [
    "matrica8x8[virs70]"
   ]
  },
  {
   "cell_type": "code",
   "execution_count": 40,
   "metadata": {},
   "outputs": [
    {
     "data": {
      "text/plain": [
       "array([91, 94, 93, 91, 95])"
      ]
     },
     "execution_count": 40,
     "metadata": {},
     "output_type": "execute_result"
    }
   ],
   "source": [
    "matrica8x8[matrica8x8 > 90]"
   ]
  },
  {
   "cell_type": "markdown",
   "metadata": {},
   "source": [
    "#### python native"
   ]
  },
  {
   "cell_type": "code",
   "execution_count": 41,
   "metadata": {},
   "outputs": [
    {
     "data": {
      "text/plain": [
       "[19,\n",
       " 39,\n",
       " 51,\n",
       " 19,\n",
       " 72,\n",
       " 25,\n",
       " 60,\n",
       " 30,\n",
       " 17,\n",
       " 68,\n",
       " 73,\n",
       " 60,\n",
       " 27,\n",
       " 95,\n",
       " 45,\n",
       " 98,\n",
       " 56,\n",
       " 18,\n",
       " 84,\n",
       " 30,\n",
       " 61,\n",
       " 44,\n",
       " 26,\n",
       " 36,\n",
       " 57,\n",
       " 14,\n",
       " 63,\n",
       " 92,\n",
       " 44,\n",
       " 39,\n",
       " 45,\n",
       " 12,\n",
       " 23,\n",
       " 27,\n",
       " 30,\n",
       " 89,\n",
       " 39,\n",
       " 15,\n",
       " 47,\n",
       " 47,\n",
       " 86,\n",
       " 48,\n",
       " 27,\n",
       " 40,\n",
       " 81,\n",
       " 18,\n",
       " 84,\n",
       " 98,\n",
       " 40,\n",
       " 70,\n",
       " 53,\n",
       " 69,\n",
       " 85,\n",
       " 66,\n",
       " 91,\n",
       " 25,\n",
       " 15,\n",
       " 45,\n",
       " 43,\n",
       " 67,\n",
       " 95,\n",
       " 66,\n",
       " 98,\n",
       " 68,\n",
       " 14,\n",
       " 92,\n",
       " 98,\n",
       " 49,\n",
       " 45,\n",
       " 29,\n",
       " 93,\n",
       " 99,\n",
       " 90,\n",
       " 11,\n",
       " 57,\n",
       " 93,\n",
       " 29,\n",
       " 100,\n",
       " 64,\n",
       " 41,\n",
       " 51,\n",
       " 89,\n",
       " 36,\n",
       " 51,\n",
       " 27,\n",
       " 97,\n",
       " 57,\n",
       " 41,\n",
       " 87,\n",
       " 60,\n",
       " 58,\n",
       " 55,\n",
       " 30,\n",
       " 29,\n",
       " 28,\n",
       " 80,\n",
       " 13,\n",
       " 13,\n",
       " 97,\n",
       " 21]"
      ]
     },
     "execution_count": 41,
     "metadata": {},
     "output_type": "execute_result"
    }
   ],
   "source": [
    "from random import randint\n",
    "eilute = []\n",
    "for i in range(0, 100):\n",
    "    eilute.append(randint(10, 100))\n",
    "\n",
    "eilute # [eilute > 50] neveiks"
   ]
  },
  {
   "cell_type": "markdown",
   "metadata": {},
   "source": [
    "### Numpy elgsenos ipatumai"
   ]
  },
  {
   "cell_type": "code",
   "execution_count": 42,
   "metadata": {},
   "outputs": [
    {
     "data": {
      "text/plain": [
       "array([ 8, 12, 14, 18,  3,  8, 15, 13,  2,  7,  6,  7,  4,  2,  5, 19,  5,  6,  7, 17])"
      ]
     },
     "execution_count": 42,
     "metadata": {},
     "output_type": "execute_result"
    }
   ],
   "source": [
    "pvz = np.random.randint(1, 21, 20)\n",
    "pvz"
   ]
  },
  {
   "cell_type": "code",
   "execution_count": 43,
   "metadata": {},
   "outputs": [
    {
     "data": {
      "text/plain": [
       "array([ 8, 15, 13,  2,  7,  6,  7,  4,  2,  5])"
      ]
     },
     "execution_count": 43,
     "metadata": {},
     "output_type": "execute_result"
    }
   ],
   "source": [
    "ispjova = pvz[5:15]\n",
    "ispjova"
   ]
  },
  {
   "cell_type": "code",
   "execution_count": 44,
   "metadata": {},
   "outputs": [
    {
     "data": {
      "text/plain": [
       "array([99, 99, 99, 99, 99, 99, 99, 99, 99, 99])"
      ]
     },
     "execution_count": 44,
     "metadata": {},
     "output_type": "execute_result"
    }
   ],
   "source": [
    "ispjova[:] = 99\n",
    "ispjova"
   ]
  },
  {
   "cell_type": "code",
   "execution_count": 45,
   "metadata": {},
   "outputs": [
    {
     "data": {
      "text/plain": [
       "array([ 8, 12, 14, 18,  3, 99, 99, 99, 99, 99, 99, 99, 99, 99, 99, 19,  5,  6,  7, 17])"
      ]
     },
     "execution_count": 45,
     "metadata": {},
     "output_type": "execute_result"
    }
   ],
   "source": [
    "pvz"
   ]
  },
  {
   "cell_type": "code",
   "execution_count": 46,
   "metadata": {},
   "outputs": [
    {
     "data": {
      "text/plain": [
       "array([ 8, 12, 14, 18,  3, 99, 99, 99, 99, 99, 99, 99, 99, 99, 99, 19,  5,  6,  7, 17])"
      ]
     },
     "execution_count": 46,
     "metadata": {},
     "output_type": "execute_result"
    }
   ],
   "source": [
    "pvzc = pvz.copy()\n",
    "pvzc"
   ]
  },
  {
   "cell_type": "code",
   "execution_count": 47,
   "metadata": {},
   "outputs": [
    {
     "data": {
      "text/plain": [
       "array([ True,  True,  True,  True,  True,  True,  True,  True,  True,  True,  True,  True,  True,  True,  True,  True,  True,  True,  True,  True])"
      ]
     },
     "execution_count": 47,
     "metadata": {},
     "output_type": "execute_result"
    }
   ],
   "source": [
    "pvzc == pvz"
   ]
  },
  {
   "cell_type": "code",
   "execution_count": 48,
   "metadata": {},
   "outputs": [
    {
     "data": {
      "text/plain": [
       "array([ 8, 12, 14, 18,  3, 77, 77, 77, 77, 77, 77, 77, 77, 77, 77, 19,  5,  6,  7, 17])"
      ]
     },
     "execution_count": 48,
     "metadata": {},
     "output_type": "execute_result"
    }
   ],
   "source": [
    "pvzc_ispjova = pvzc[5:15]\n",
    "pvzc_ispjova[:] = 77\n",
    "pvzc"
   ]
  },
  {
   "cell_type": "code",
   "execution_count": 49,
   "metadata": {},
   "outputs": [
    {
     "data": {
      "text/plain": [
       "array([ 8, 12, 14, 18,  3, 99, 99, 99, 99, 99, 99, 99, 99, 99, 99, 19,  5,  6,  7, 17])"
      ]
     },
     "execution_count": 49,
     "metadata": {},
     "output_type": "execute_result"
    }
   ],
   "source": [
    "pvz"
   ]
  },
  {
   "cell_type": "markdown",
   "metadata": {},
   "source": [
    "### matematines funkcijos"
   ]
  },
  {
   "cell_type": "code",
   "execution_count": 50,
   "metadata": {},
   "outputs": [
    {
     "data": {
      "text/plain": [
       "array([ 1,  2,  3,  4,  5,  6,  7,  8,  9, 10])"
      ]
     },
     "execution_count": 50,
     "metadata": {},
     "output_type": "execute_result"
    }
   ],
   "source": [
    "vektoriux = np.arange(1, 11)\n",
    "vektoriux"
   ]
  },
  {
   "cell_type": "code",
   "execution_count": 51,
   "metadata": {},
   "outputs": [
    {
     "data": {
      "text/plain": [
       "array([ 2,  4,  6,  8, 10, 12, 14, 16, 18, 20])"
      ]
     },
     "execution_count": 51,
     "metadata": {},
     "output_type": "execute_result"
    }
   ],
   "source": [
    "vektoriux * 2"
   ]
  },
  {
   "cell_type": "code",
   "execution_count": 52,
   "metadata": {},
   "outputs": [
    {
     "data": {
      "text/plain": [
       "array([  1,   4,   9,  16,  25,  36,  49,  64,  81, 100])"
      ]
     },
     "execution_count": 52,
     "metadata": {},
     "output_type": "execute_result"
    }
   ],
   "source": [
    "vektoriux * vektoriux"
   ]
  },
  {
   "cell_type": "code",
   "execution_count": 53,
   "metadata": {},
   "outputs": [
    {
     "data": {
      "text/plain": [
       "array([ 2,  4,  6,  8, 10, 12, 14, 16, 18, 20])"
      ]
     },
     "execution_count": 53,
     "metadata": {},
     "output_type": "execute_result"
    }
   ],
   "source": [
    "dvigubas_vektoriux = vektoriux + vektoriux\n",
    "dvigubas_vektoriux"
   ]
  },
  {
   "cell_type": "code",
   "execution_count": 54,
   "metadata": {},
   "outputs": [
    {
     "data": {
      "text/plain": [
       "array([0.07, 0.13, 0.2 , 0.27, 0.33, 0.4 , 0.47, 0.53, 0.6 , 0.67])"
      ]
     },
     "execution_count": 54,
     "metadata": {},
     "output_type": "execute_result"
    }
   ],
   "source": [
    "vektoriux / 15"
   ]
  },
  {
   "cell_type": "code",
   "execution_count": 55,
   "metadata": {},
   "outputs": [
    {
     "data": {
      "text/plain": [
       "array([         1,          4,         27,        256,       3125,      46656,     823543,   16777216,  387420489, 1410065408])"
      ]
     },
     "execution_count": 55,
     "metadata": {},
     "output_type": "execute_result"
    }
   ],
   "source": [
    "vektoriux ** vektoriux"
   ]
  },
  {
   "cell_type": "code",
   "execution_count": 56,
   "metadata": {},
   "outputs": [
    {
     "data": {
      "text/plain": [
       "array([ 0.84,  0.91,  0.14, -0.76, -0.96, -0.28,  0.66,  0.99,  0.41, -0.54])"
      ]
     },
     "execution_count": 56,
     "metadata": {},
     "output_type": "execute_result"
    }
   ],
   "source": [
    "np.sin(vektoriux)"
   ]
  },
  {
   "cell_type": "code",
   "execution_count": 57,
   "metadata": {},
   "outputs": [
    {
     "data": {
      "text/plain": [
       "array([ 0.54, -0.42, -0.99, -0.65,  0.28,  0.96,  0.75, -0.15, -0.91, -0.84])"
      ]
     },
     "execution_count": 57,
     "metadata": {},
     "output_type": "execute_result"
    }
   ],
   "source": [
    "np.cos(vektoriux)"
   ]
  },
  {
   "cell_type": "code",
   "execution_count": 58,
   "metadata": {},
   "outputs": [
    {
     "data": {
      "text/plain": [
       "array([ 1.56, -2.19, -0.14,  1.16, -3.38, -0.29,  0.87, -6.8 , -0.45,  0.65])"
      ]
     },
     "execution_count": 58,
     "metadata": {},
     "output_type": "execute_result"
    }
   ],
   "source": [
    "np.tan(vektoriux)"
   ]
  },
  {
   "cell_type": "code",
   "execution_count": 59,
   "metadata": {},
   "outputs": [
    {
     "data": {
      "text/plain": [
       "array([ 0.  ,  1.39,  3.3 ,  5.55,  8.05, 10.75, 13.62, 16.64, 19.78, 21.07])"
      ]
     },
     "execution_count": 59,
     "metadata": {},
     "output_type": "execute_result"
    }
   ],
   "source": [
    "np.log(vektoriux ** vektoriux)"
   ]
  }
 ],
 "metadata": {
  "interpreter": {
   "hash": "afa4dd3da4087d5c6238fd8833e07e71fa69923c9868061c584542cdf9b5a2b1"
  },
  "kernelspec": {
   "display_name": "Python 3.10.1 ('venv': venv)",
   "language": "python",
   "name": "python3"
  },
  "language_info": {
   "codemirror_mode": {
    "name": "ipython",
    "version": 3
   },
   "file_extension": ".py",
   "mimetype": "text/x-python",
   "name": "python",
   "nbconvert_exporter": "python",
   "pygments_lexer": "ipython3",
   "version": "3.10.1"
  },
  "orig_nbformat": 4
 },
 "nbformat": 4,
 "nbformat_minor": 2
}
