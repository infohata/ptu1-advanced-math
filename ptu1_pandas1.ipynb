{
 "cells": [
  {
   "cell_type": "code",
   "execution_count": null,
   "metadata": {},
   "outputs": [],
   "source": [
    "import numpy as np\n",
    "import pandas as pd"
   ]
  },
  {
   "cell_type": "markdown",
   "metadata": {},
   "source": [
    "## Serijos"
   ]
  },
  {
   "cell_type": "code",
   "execution_count": null,
   "metadata": {},
   "outputs": [],
   "source": [
    "pavadinimai = ['x', 'y', 'z']\n",
    "duomenys = [20, 30, 40]\n",
    "serija1 = pd.Series(data=duomenys, index=pavadinimai)\n",
    "serija1"
   ]
  },
  {
   "cell_type": "code",
   "execution_count": null,
   "metadata": {},
   "outputs": [],
   "source": [
    "zodynas = {'a': 5, 'b': 7, 'c': 9, 'd': 11}\n",
    "serija2 = pd.Series(zodynas)\n",
    "serija2"
   ]
  },
  {
   "cell_type": "code",
   "execution_count": null,
   "metadata": {},
   "outputs": [],
   "source": [
    "miestai = pd.Series([1,2,3,4,5], ['Vilnius', 'Kaunas', 'Klaipėda', 'Panevezys', 'Šiauliai'])\n",
    "miestai"
   ]
  },
  {
   "cell_type": "code",
   "execution_count": null,
   "metadata": {},
   "outputs": [],
   "source": [
    "miestai2 = pd.Series([1,2,3,4,5], ['Vilnius', 'Kaunas', 'Lentvaris', 'Šiauliai', 'Klaipėda'])\n",
    "miestai2\n"
   ]
  },
  {
   "cell_type": "code",
   "execution_count": null,
   "metadata": {},
   "outputs": [],
   "source": [
    "miestai + miestai2"
   ]
  },
  {
   "cell_type": "markdown",
   "metadata": {},
   "source": [
    "## DataFrames"
   ]
  },
  {
   "cell_type": "code",
   "execution_count": 14,
   "metadata": {},
   "outputs": [
    {
     "data": {
      "text/html": [
       "<div>\n",
       "<style scoped>\n",
       "    .dataframe tbody tr th:only-of-type {\n",
       "        vertical-align: middle;\n",
       "    }\n",
       "\n",
       "    .dataframe tbody tr th {\n",
       "        vertical-align: top;\n",
       "    }\n",
       "\n",
       "    .dataframe thead th {\n",
       "        text-align: right;\n",
       "    }\n",
       "</style>\n",
       "<table border=\"1\" class=\"dataframe\">\n",
       "  <thead>\n",
       "    <tr style=\"text-align: right;\">\n",
       "      <th></th>\n",
       "      <th>U</th>\n",
       "      <th>V</th>\n",
       "      <th>W</th>\n",
       "      <th>X</th>\n",
       "      <th>Y</th>\n",
       "      <th>Z</th>\n",
       "    </tr>\n",
       "  </thead>\n",
       "  <tbody>\n",
       "    <tr>\n",
       "      <th>a</th>\n",
       "      <td>0.354184</td>\n",
       "      <td>0.242149</td>\n",
       "      <td>0.521827</td>\n",
       "      <td>0.813850</td>\n",
       "      <td>0.842681</td>\n",
       "      <td>0.462119</td>\n",
       "    </tr>\n",
       "    <tr>\n",
       "      <th>b</th>\n",
       "      <td>0.891391</td>\n",
       "      <td>0.667592</td>\n",
       "      <td>0.855768</td>\n",
       "      <td>0.747718</td>\n",
       "      <td>0.999300</td>\n",
       "      <td>0.995674</td>\n",
       "    </tr>\n",
       "    <tr>\n",
       "      <th>c</th>\n",
       "      <td>0.784294</td>\n",
       "      <td>0.573606</td>\n",
       "      <td>0.859910</td>\n",
       "      <td>0.591285</td>\n",
       "      <td>0.036777</td>\n",
       "      <td>0.081550</td>\n",
       "    </tr>\n",
       "    <tr>\n",
       "      <th>d</th>\n",
       "      <td>0.005657</td>\n",
       "      <td>0.136350</td>\n",
       "      <td>0.540526</td>\n",
       "      <td>0.846217</td>\n",
       "      <td>0.258937</td>\n",
       "      <td>0.459018</td>\n",
       "    </tr>\n",
       "    <tr>\n",
       "      <th>e</th>\n",
       "      <td>0.640683</td>\n",
       "      <td>0.187444</td>\n",
       "      <td>0.053144</td>\n",
       "      <td>0.857582</td>\n",
       "      <td>0.533479</td>\n",
       "      <td>0.263298</td>\n",
       "    </tr>\n",
       "  </tbody>\n",
       "</table>\n",
       "</div>"
      ],
      "text/plain": [
       "          U         V         W         X         Y         Z\n",
       "a  0.354184  0.242149  0.521827  0.813850  0.842681  0.462119\n",
       "b  0.891391  0.667592  0.855768  0.747718  0.999300  0.995674\n",
       "c  0.784294  0.573606  0.859910  0.591285  0.036777  0.081550\n",
       "d  0.005657  0.136350  0.540526  0.846217  0.258937  0.459018\n",
       "e  0.640683  0.187444  0.053144  0.857582  0.533479  0.263298"
      ]
     },
     "execution_count": 14,
     "metadata": {},
     "output_type": "execute_result"
    }
   ],
   "source": [
    "df1 = pd.DataFrame(np.random.rand(5,6), \n",
    "                   ['a', 'b', 'c', 'd', 'e'],\n",
    "                   ['U', 'V', 'W', 'X', 'Y', 'Z']\n",
    ")\n",
    "df1"
   ]
  },
  {
   "cell_type": "code",
   "execution_count": 15,
   "metadata": {},
   "outputs": [
    {
     "data": {
      "text/plain": [
       "a    0.354184\n",
       "b    0.891391\n",
       "c    0.784294\n",
       "d    0.005657\n",
       "e    0.640683\n",
       "Name: U, dtype: float64"
      ]
     },
     "execution_count": 15,
     "metadata": {},
     "output_type": "execute_result"
    }
   ],
   "source": [
    "df1['U']"
   ]
  },
  {
   "cell_type": "code",
   "execution_count": 23,
   "metadata": {},
   "outputs": [
    {
     "data": {
      "text/plain": [
       "pandas.core.series.Series"
      ]
     },
     "execution_count": 23,
     "metadata": {},
     "output_type": "execute_result"
    }
   ],
   "source": [
    "type(df1['U'])"
   ]
  },
  {
   "cell_type": "code",
   "execution_count": 24,
   "metadata": {},
   "outputs": [
    {
     "data": {
      "text/plain": [
       "U    0.354184\n",
       "V    0.242149\n",
       "W    0.521827\n",
       "X    0.813850\n",
       "Y    0.842681\n",
       "Z    0.462119\n",
       "Name: a, dtype: float64"
      ]
     },
     "execution_count": 24,
     "metadata": {},
     "output_type": "execute_result"
    }
   ],
   "source": [
    "df1.loc['a']"
   ]
  },
  {
   "cell_type": "code",
   "execution_count": 25,
   "metadata": {},
   "outputs": [
    {
     "data": {
      "text/plain": [
       "pandas.core.series.Series"
      ]
     },
     "execution_count": 25,
     "metadata": {},
     "output_type": "execute_result"
    }
   ],
   "source": [
    "type(df1.loc['a'])"
   ]
  },
  {
   "cell_type": "code",
   "execution_count": 26,
   "metadata": {},
   "outputs": [
    {
     "data": {
      "text/html": [
       "<div>\n",
       "<style scoped>\n",
       "    .dataframe tbody tr th:only-of-type {\n",
       "        vertical-align: middle;\n",
       "    }\n",
       "\n",
       "    .dataframe tbody tr th {\n",
       "        vertical-align: top;\n",
       "    }\n",
       "\n",
       "    .dataframe thead th {\n",
       "        text-align: right;\n",
       "    }\n",
       "</style>\n",
       "<table border=\"1\" class=\"dataframe\">\n",
       "  <thead>\n",
       "    <tr style=\"text-align: right;\">\n",
       "      <th></th>\n",
       "      <th>U</th>\n",
       "      <th>X</th>\n",
       "      <th>Z</th>\n",
       "    </tr>\n",
       "  </thead>\n",
       "  <tbody>\n",
       "    <tr>\n",
       "      <th>a</th>\n",
       "      <td>0.354184</td>\n",
       "      <td>0.813850</td>\n",
       "      <td>0.462119</td>\n",
       "    </tr>\n",
       "    <tr>\n",
       "      <th>b</th>\n",
       "      <td>0.891391</td>\n",
       "      <td>0.747718</td>\n",
       "      <td>0.995674</td>\n",
       "    </tr>\n",
       "    <tr>\n",
       "      <th>c</th>\n",
       "      <td>0.784294</td>\n",
       "      <td>0.591285</td>\n",
       "      <td>0.081550</td>\n",
       "    </tr>\n",
       "    <tr>\n",
       "      <th>d</th>\n",
       "      <td>0.005657</td>\n",
       "      <td>0.846217</td>\n",
       "      <td>0.459018</td>\n",
       "    </tr>\n",
       "    <tr>\n",
       "      <th>e</th>\n",
       "      <td>0.640683</td>\n",
       "      <td>0.857582</td>\n",
       "      <td>0.263298</td>\n",
       "    </tr>\n",
       "  </tbody>\n",
       "</table>\n",
       "</div>"
      ],
      "text/plain": [
       "          U         X         Z\n",
       "a  0.354184  0.813850  0.462119\n",
       "b  0.891391  0.747718  0.995674\n",
       "c  0.784294  0.591285  0.081550\n",
       "d  0.005657  0.846217  0.459018\n",
       "e  0.640683  0.857582  0.263298"
      ]
     },
     "execution_count": 26,
     "metadata": {},
     "output_type": "execute_result"
    }
   ],
   "source": [
    "df1[['U', 'X', 'Z']]"
   ]
  },
  {
   "cell_type": "code",
   "execution_count": 28,
   "metadata": {},
   "outputs": [
    {
     "data": {
      "text/html": [
       "<div>\n",
       "<style scoped>\n",
       "    .dataframe tbody tr th:only-of-type {\n",
       "        vertical-align: middle;\n",
       "    }\n",
       "\n",
       "    .dataframe tbody tr th {\n",
       "        vertical-align: top;\n",
       "    }\n",
       "\n",
       "    .dataframe thead th {\n",
       "        text-align: right;\n",
       "    }\n",
       "</style>\n",
       "<table border=\"1\" class=\"dataframe\">\n",
       "  <thead>\n",
       "    <tr style=\"text-align: right;\">\n",
       "      <th></th>\n",
       "      <th>U</th>\n",
       "      <th>V</th>\n",
       "      <th>W</th>\n",
       "      <th>X</th>\n",
       "      <th>Y</th>\n",
       "      <th>Z</th>\n",
       "      <th>naujas</th>\n",
       "    </tr>\n",
       "  </thead>\n",
       "  <tbody>\n",
       "    <tr>\n",
       "      <th>a</th>\n",
       "      <td>0.354184</td>\n",
       "      <td>0.242149</td>\n",
       "      <td>0.521827</td>\n",
       "      <td>0.813850</td>\n",
       "      <td>0.842681</td>\n",
       "      <td>0.462119</td>\n",
       "      <td>1</td>\n",
       "    </tr>\n",
       "    <tr>\n",
       "      <th>b</th>\n",
       "      <td>0.891391</td>\n",
       "      <td>0.667592</td>\n",
       "      <td>0.855768</td>\n",
       "      <td>0.747718</td>\n",
       "      <td>0.999300</td>\n",
       "      <td>0.995674</td>\n",
       "      <td>2</td>\n",
       "    </tr>\n",
       "    <tr>\n",
       "      <th>c</th>\n",
       "      <td>0.784294</td>\n",
       "      <td>0.573606</td>\n",
       "      <td>0.859910</td>\n",
       "      <td>0.591285</td>\n",
       "      <td>0.036777</td>\n",
       "      <td>0.081550</td>\n",
       "      <td>3</td>\n",
       "    </tr>\n",
       "    <tr>\n",
       "      <th>d</th>\n",
       "      <td>0.005657</td>\n",
       "      <td>0.136350</td>\n",
       "      <td>0.540526</td>\n",
       "      <td>0.846217</td>\n",
       "      <td>0.258937</td>\n",
       "      <td>0.459018</td>\n",
       "      <td>4</td>\n",
       "    </tr>\n",
       "    <tr>\n",
       "      <th>e</th>\n",
       "      <td>0.640683</td>\n",
       "      <td>0.187444</td>\n",
       "      <td>0.053144</td>\n",
       "      <td>0.857582</td>\n",
       "      <td>0.533479</td>\n",
       "      <td>0.263298</td>\n",
       "      <td>5</td>\n",
       "    </tr>\n",
       "  </tbody>\n",
       "</table>\n",
       "</div>"
      ],
      "text/plain": [
       "          U         V         W         X         Y         Z  naujas\n",
       "a  0.354184  0.242149  0.521827  0.813850  0.842681  0.462119       1\n",
       "b  0.891391  0.667592  0.855768  0.747718  0.999300  0.995674       2\n",
       "c  0.784294  0.573606  0.859910  0.591285  0.036777  0.081550       3\n",
       "d  0.005657  0.136350  0.540526  0.846217  0.258937  0.459018       4\n",
       "e  0.640683  0.187444  0.053144  0.857582  0.533479  0.263298       5"
      ]
     },
     "execution_count": 28,
     "metadata": {},
     "output_type": "execute_result"
    }
   ],
   "source": [
    "df1['naujas'] = [1, 2, 3, 4, 5]\n",
    "df1"
   ]
  },
  {
   "cell_type": "code",
   "execution_count": null,
   "metadata": {},
   "outputs": [],
   "source": [
    "df1.drop('naujas', axis=1)"
   ]
  }
 ],
 "metadata": {
  "interpreter": {
   "hash": "1706fe01eaa9bec6f6d9404c41337c22cb1d0ee23e24b002b470c4ec736f498a"
  },
  "kernelspec": {
   "display_name": "Python 3.10.1 64-bit",
   "language": "python",
   "name": "python3"
  },
  "language_info": {
   "codemirror_mode": {
    "name": "ipython",
    "version": 3
   },
   "file_extension": ".py",
   "mimetype": "text/x-python",
   "name": "python",
   "nbconvert_exporter": "python",
   "pygments_lexer": "ipython3",
   "version": "3.10.1"
  },
  "orig_nbformat": 4
 },
 "nbformat": 4,
 "nbformat_minor": 2
}
