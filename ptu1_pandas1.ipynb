{
 "cells": [
  {
   "cell_type": "code",
   "execution_count": null,
   "metadata": {},
   "outputs": [],
   "source": [
    "import numpy as np\n",
    "import pandas as pd"
   ]
  },
  {
   "cell_type": "markdown",
   "metadata": {},
   "source": [
    "## Serijos"
   ]
  },
  {
   "cell_type": "code",
   "execution_count": null,
   "metadata": {},
   "outputs": [],
   "source": [
    "pavadinimai = ['x', 'y', 'z']\n",
    "duomenys = [20, 30, 40]\n",
    "serija1 = pd.Series(data=duomenys, index=pavadinimai)\n",
    "serija1"
   ]
  },
  {
   "cell_type": "code",
   "execution_count": null,
   "metadata": {},
   "outputs": [],
   "source": [
    "zodynas = {'a': 5, 'b': 7, 'c': 9, 'd': 11}\n",
    "serija2 = pd.Series(zodynas)\n",
    "serija2"
   ]
  },
  {
   "cell_type": "code",
   "execution_count": null,
   "metadata": {},
   "outputs": [],
   "source": [
    "miestai = pd.Series([1,2,3,4,5], ['Vilnius', 'Kaunas', 'Klaipėda', 'Panevezys', 'Šiauliai'])\n",
    "miestai"
   ]
  },
  {
   "cell_type": "code",
   "execution_count": null,
   "metadata": {},
   "outputs": [],
   "source": [
    "miestai2 = pd.Series([1,2,3,4,5], ['Vilnius', 'Kaunas', 'Lentvaris', 'Šiauliai', 'Klaipėda'])\n",
    "miestai2\n"
   ]
  },
  {
   "cell_type": "code",
   "execution_count": null,
   "metadata": {},
   "outputs": [],
   "source": [
    "miestai + miestai2"
   ]
  },
  {
   "cell_type": "markdown",
   "metadata": {},
   "source": [
    "## DataFrames"
   ]
  },
  {
   "cell_type": "code",
   "execution_count": 14,
   "metadata": {},
   "outputs": [
    {
     "data": {
      "text/html": [
       "<div>\n",
       "<style scoped>\n",
       "    .dataframe tbody tr th:only-of-type {\n",
       "        vertical-align: middle;\n",
       "    }\n",
       "\n",
       "    .dataframe tbody tr th {\n",
       "        vertical-align: top;\n",
       "    }\n",
       "\n",
       "    .dataframe thead th {\n",
       "        text-align: right;\n",
       "    }\n",
       "</style>\n",
       "<table border=\"1\" class=\"dataframe\">\n",
       "  <thead>\n",
       "    <tr style=\"text-align: right;\">\n",
       "      <th></th>\n",
       "      <th>U</th>\n",
       "      <th>V</th>\n",
       "      <th>W</th>\n",
       "      <th>X</th>\n",
       "      <th>Y</th>\n",
       "      <th>Z</th>\n",
       "    </tr>\n",
       "  </thead>\n",
       "  <tbody>\n",
       "    <tr>\n",
       "      <th>a</th>\n",
       "      <td>0.354184</td>\n",
       "      <td>0.242149</td>\n",
       "      <td>0.521827</td>\n",
       "      <td>0.813850</td>\n",
       "      <td>0.842681</td>\n",
       "      <td>0.462119</td>\n",
       "    </tr>\n",
       "    <tr>\n",
       "      <th>b</th>\n",
       "      <td>0.891391</td>\n",
       "      <td>0.667592</td>\n",
       "      <td>0.855768</td>\n",
       "      <td>0.747718</td>\n",
       "      <td>0.999300</td>\n",
       "      <td>0.995674</td>\n",
       "    </tr>\n",
       "    <tr>\n",
       "      <th>c</th>\n",
       "      <td>0.784294</td>\n",
       "      <td>0.573606</td>\n",
       "      <td>0.859910</td>\n",
       "      <td>0.591285</td>\n",
       "      <td>0.036777</td>\n",
       "      <td>0.081550</td>\n",
       "    </tr>\n",
       "    <tr>\n",
       "      <th>d</th>\n",
       "      <td>0.005657</td>\n",
       "      <td>0.136350</td>\n",
       "      <td>0.540526</td>\n",
       "      <td>0.846217</td>\n",
       "      <td>0.258937</td>\n",
       "      <td>0.459018</td>\n",
       "    </tr>\n",
       "    <tr>\n",
       "      <th>e</th>\n",
       "      <td>0.640683</td>\n",
       "      <td>0.187444</td>\n",
       "      <td>0.053144</td>\n",
       "      <td>0.857582</td>\n",
       "      <td>0.533479</td>\n",
       "      <td>0.263298</td>\n",
       "    </tr>\n",
       "  </tbody>\n",
       "</table>\n",
       "</div>"
      ],
      "text/plain": [
       "          U         V         W         X         Y         Z\n",
       "a  0.354184  0.242149  0.521827  0.813850  0.842681  0.462119\n",
       "b  0.891391  0.667592  0.855768  0.747718  0.999300  0.995674\n",
       "c  0.784294  0.573606  0.859910  0.591285  0.036777  0.081550\n",
       "d  0.005657  0.136350  0.540526  0.846217  0.258937  0.459018\n",
       "e  0.640683  0.187444  0.053144  0.857582  0.533479  0.263298"
      ]
     },
     "execution_count": 14,
     "metadata": {},
     "output_type": "execute_result"
    }
   ],
   "source": [
    "df1 = pd.DataFrame(np.random.rand(5,6), \n",
    "                   ['a', 'b', 'c', 'd', 'e'],\n",
    "                   ['U', 'V', 'W', 'X', 'Y', 'Z']\n",
    ")\n",
    "df1"
   ]
  },
  {
   "cell_type": "code",
   "execution_count": 15,
   "metadata": {},
   "outputs": [
    {
     "data": {
      "text/plain": [
       "a    0.354184\n",
       "b    0.891391\n",
       "c    0.784294\n",
       "d    0.005657\n",
       "e    0.640683\n",
       "Name: U, dtype: float64"
      ]
     },
     "execution_count": 15,
     "metadata": {},
     "output_type": "execute_result"
    }
   ],
   "source": [
    "df1['U']"
   ]
  },
  {
   "cell_type": "code",
   "execution_count": 23,
   "metadata": {},
   "outputs": [
    {
     "data": {
      "text/plain": [
       "pandas.core.series.Series"
      ]
     },
     "execution_count": 23,
     "metadata": {},
     "output_type": "execute_result"
    }
   ],
   "source": [
    "type(df1['U'])"
   ]
  },
  {
   "cell_type": "code",
   "execution_count": 24,
   "metadata": {},
   "outputs": [
    {
     "data": {
      "text/plain": [
       "U    0.354184\n",
       "V    0.242149\n",
       "W    0.521827\n",
       "X    0.813850\n",
       "Y    0.842681\n",
       "Z    0.462119\n",
       "Name: a, dtype: float64"
      ]
     },
     "execution_count": 24,
     "metadata": {},
     "output_type": "execute_result"
    }
   ],
   "source": [
    "df1.loc['a']"
   ]
  },
  {
   "cell_type": "code",
   "execution_count": 25,
   "metadata": {},
   "outputs": [
    {
     "data": {
      "text/plain": [
       "pandas.core.series.Series"
      ]
     },
     "execution_count": 25,
     "metadata": {},
     "output_type": "execute_result"
    }
   ],
   "source": [
    "type(df1.loc['a'])"
   ]
  },
  {
   "cell_type": "code",
   "execution_count": 26,
   "metadata": {},
   "outputs": [
    {
     "data": {
      "text/html": [
       "<div>\n",
       "<style scoped>\n",
       "    .dataframe tbody tr th:only-of-type {\n",
       "        vertical-align: middle;\n",
       "    }\n",
       "\n",
       "    .dataframe tbody tr th {\n",
       "        vertical-align: top;\n",
       "    }\n",
       "\n",
       "    .dataframe thead th {\n",
       "        text-align: right;\n",
       "    }\n",
       "</style>\n",
       "<table border=\"1\" class=\"dataframe\">\n",
       "  <thead>\n",
       "    <tr style=\"text-align: right;\">\n",
       "      <th></th>\n",
       "      <th>U</th>\n",
       "      <th>X</th>\n",
       "      <th>Z</th>\n",
       "    </tr>\n",
       "  </thead>\n",
       "  <tbody>\n",
       "    <tr>\n",
       "      <th>a</th>\n",
       "      <td>0.354184</td>\n",
       "      <td>0.813850</td>\n",
       "      <td>0.462119</td>\n",
       "    </tr>\n",
       "    <tr>\n",
       "      <th>b</th>\n",
       "      <td>0.891391</td>\n",
       "      <td>0.747718</td>\n",
       "      <td>0.995674</td>\n",
       "    </tr>\n",
       "    <tr>\n",
       "      <th>c</th>\n",
       "      <td>0.784294</td>\n",
       "      <td>0.591285</td>\n",
       "      <td>0.081550</td>\n",
       "    </tr>\n",
       "    <tr>\n",
       "      <th>d</th>\n",
       "      <td>0.005657</td>\n",
       "      <td>0.846217</td>\n",
       "      <td>0.459018</td>\n",
       "    </tr>\n",
       "    <tr>\n",
       "      <th>e</th>\n",
       "      <td>0.640683</td>\n",
       "      <td>0.857582</td>\n",
       "      <td>0.263298</td>\n",
       "    </tr>\n",
       "  </tbody>\n",
       "</table>\n",
       "</div>"
      ],
      "text/plain": [
       "          U         X         Z\n",
       "a  0.354184  0.813850  0.462119\n",
       "b  0.891391  0.747718  0.995674\n",
       "c  0.784294  0.591285  0.081550\n",
       "d  0.005657  0.846217  0.459018\n",
       "e  0.640683  0.857582  0.263298"
      ]
     },
     "execution_count": 26,
     "metadata": {},
     "output_type": "execute_result"
    }
   ],
   "source": [
    "df1[['U', 'X', 'Z']]"
   ]
  },
  {
   "cell_type": "code",
   "execution_count": 28,
   "metadata": {},
   "outputs": [
    {
     "data": {
      "text/html": [
       "<div>\n",
       "<style scoped>\n",
       "    .dataframe tbody tr th:only-of-type {\n",
       "        vertical-align: middle;\n",
       "    }\n",
       "\n",
       "    .dataframe tbody tr th {\n",
       "        vertical-align: top;\n",
       "    }\n",
       "\n",
       "    .dataframe thead th {\n",
       "        text-align: right;\n",
       "    }\n",
       "</style>\n",
       "<table border=\"1\" class=\"dataframe\">\n",
       "  <thead>\n",
       "    <tr style=\"text-align: right;\">\n",
       "      <th></th>\n",
       "      <th>U</th>\n",
       "      <th>V</th>\n",
       "      <th>W</th>\n",
       "      <th>X</th>\n",
       "      <th>Y</th>\n",
       "      <th>Z</th>\n",
       "      <th>naujas</th>\n",
       "    </tr>\n",
       "  </thead>\n",
       "  <tbody>\n",
       "    <tr>\n",
       "      <th>a</th>\n",
       "      <td>0.354184</td>\n",
       "      <td>0.242149</td>\n",
       "      <td>0.521827</td>\n",
       "      <td>0.813850</td>\n",
       "      <td>0.842681</td>\n",
       "      <td>0.462119</td>\n",
       "      <td>1</td>\n",
       "    </tr>\n",
       "    <tr>\n",
       "      <th>b</th>\n",
       "      <td>0.891391</td>\n",
       "      <td>0.667592</td>\n",
       "      <td>0.855768</td>\n",
       "      <td>0.747718</td>\n",
       "      <td>0.999300</td>\n",
       "      <td>0.995674</td>\n",
       "      <td>2</td>\n",
       "    </tr>\n",
       "    <tr>\n",
       "      <th>c</th>\n",
       "      <td>0.784294</td>\n",
       "      <td>0.573606</td>\n",
       "      <td>0.859910</td>\n",
       "      <td>0.591285</td>\n",
       "      <td>0.036777</td>\n",
       "      <td>0.081550</td>\n",
       "      <td>3</td>\n",
       "    </tr>\n",
       "    <tr>\n",
       "      <th>d</th>\n",
       "      <td>0.005657</td>\n",
       "      <td>0.136350</td>\n",
       "      <td>0.540526</td>\n",
       "      <td>0.846217</td>\n",
       "      <td>0.258937</td>\n",
       "      <td>0.459018</td>\n",
       "      <td>4</td>\n",
       "    </tr>\n",
       "    <tr>\n",
       "      <th>e</th>\n",
       "      <td>0.640683</td>\n",
       "      <td>0.187444</td>\n",
       "      <td>0.053144</td>\n",
       "      <td>0.857582</td>\n",
       "      <td>0.533479</td>\n",
       "      <td>0.263298</td>\n",
       "      <td>5</td>\n",
       "    </tr>\n",
       "  </tbody>\n",
       "</table>\n",
       "</div>"
      ],
      "text/plain": [
       "          U         V         W         X         Y         Z  naujas\n",
       "a  0.354184  0.242149  0.521827  0.813850  0.842681  0.462119       1\n",
       "b  0.891391  0.667592  0.855768  0.747718  0.999300  0.995674       2\n",
       "c  0.784294  0.573606  0.859910  0.591285  0.036777  0.081550       3\n",
       "d  0.005657  0.136350  0.540526  0.846217  0.258937  0.459018       4\n",
       "e  0.640683  0.187444  0.053144  0.857582  0.533479  0.263298       5"
      ]
     },
     "execution_count": 28,
     "metadata": {},
     "output_type": "execute_result"
    }
   ],
   "source": [
    "df1['naujas'] = [1, 2, 3, 4, 5]\n",
    "df1"
   ]
  },
  {
   "cell_type": "code",
   "execution_count": 31,
   "metadata": {},
   "outputs": [],
   "source": [
    "df1.drop('naujas', axis=1, inplace=True)"
   ]
  },
  {
   "cell_type": "code",
   "execution_count": 34,
   "metadata": {},
   "outputs": [
    {
     "data": {
      "text/html": [
       "<div>\n",
       "<style scoped>\n",
       "    .dataframe tbody tr th:only-of-type {\n",
       "        vertical-align: middle;\n",
       "    }\n",
       "\n",
       "    .dataframe tbody tr th {\n",
       "        vertical-align: top;\n",
       "    }\n",
       "\n",
       "    .dataframe thead th {\n",
       "        text-align: right;\n",
       "    }\n",
       "</style>\n",
       "<table border=\"1\" class=\"dataframe\">\n",
       "  <thead>\n",
       "    <tr style=\"text-align: right;\">\n",
       "      <th></th>\n",
       "      <th>U</th>\n",
       "      <th>V</th>\n",
       "      <th>W</th>\n",
       "      <th>X</th>\n",
       "      <th>Y</th>\n",
       "      <th>Z</th>\n",
       "    </tr>\n",
       "  </thead>\n",
       "  <tbody>\n",
       "    <tr>\n",
       "      <th>a</th>\n",
       "      <td>0.354184</td>\n",
       "      <td>0.242149</td>\n",
       "      <td>0.521827</td>\n",
       "      <td>0.813850</td>\n",
       "      <td>0.842681</td>\n",
       "      <td>0.462119</td>\n",
       "    </tr>\n",
       "    <tr>\n",
       "      <th>b</th>\n",
       "      <td>0.891391</td>\n",
       "      <td>0.667592</td>\n",
       "      <td>0.855768</td>\n",
       "      <td>0.747718</td>\n",
       "      <td>0.999300</td>\n",
       "      <td>0.995674</td>\n",
       "    </tr>\n",
       "    <tr>\n",
       "      <th>c</th>\n",
       "      <td>0.784294</td>\n",
       "      <td>0.573606</td>\n",
       "      <td>0.859910</td>\n",
       "      <td>0.591285</td>\n",
       "      <td>0.036777</td>\n",
       "      <td>0.081550</td>\n",
       "    </tr>\n",
       "    <tr>\n",
       "      <th>d</th>\n",
       "      <td>0.005657</td>\n",
       "      <td>0.136350</td>\n",
       "      <td>0.540526</td>\n",
       "      <td>0.846217</td>\n",
       "      <td>0.258937</td>\n",
       "      <td>0.459018</td>\n",
       "    </tr>\n",
       "    <tr>\n",
       "      <th>e</th>\n",
       "      <td>0.640683</td>\n",
       "      <td>0.187444</td>\n",
       "      <td>0.053144</td>\n",
       "      <td>0.857582</td>\n",
       "      <td>0.533479</td>\n",
       "      <td>0.263298</td>\n",
       "    </tr>\n",
       "  </tbody>\n",
       "</table>\n",
       "</div>"
      ],
      "text/plain": [
       "          U         V         W         X         Y         Z\n",
       "a  0.354184  0.242149  0.521827  0.813850  0.842681  0.462119\n",
       "b  0.891391  0.667592  0.855768  0.747718  0.999300  0.995674\n",
       "c  0.784294  0.573606  0.859910  0.591285  0.036777  0.081550\n",
       "d  0.005657  0.136350  0.540526  0.846217  0.258937  0.459018\n",
       "e  0.640683  0.187444  0.053144  0.857582  0.533479  0.263298"
      ]
     },
     "execution_count": 34,
     "metadata": {},
     "output_type": "execute_result"
    }
   ],
   "source": [
    "df1"
   ]
  },
  {
   "cell_type": "code",
   "execution_count": 33,
   "metadata": {},
   "outputs": [
    {
     "data": {
      "text/html": [
       "<div>\n",
       "<style scoped>\n",
       "    .dataframe tbody tr th:only-of-type {\n",
       "        vertical-align: middle;\n",
       "    }\n",
       "\n",
       "    .dataframe tbody tr th {\n",
       "        vertical-align: top;\n",
       "    }\n",
       "\n",
       "    .dataframe thead th {\n",
       "        text-align: right;\n",
       "    }\n",
       "</style>\n",
       "<table border=\"1\" class=\"dataframe\">\n",
       "  <thead>\n",
       "    <tr style=\"text-align: right;\">\n",
       "      <th></th>\n",
       "      <th>U</th>\n",
       "      <th>V</th>\n",
       "      <th>W</th>\n",
       "      <th>X</th>\n",
       "      <th>Y</th>\n",
       "      <th>Z</th>\n",
       "    </tr>\n",
       "  </thead>\n",
       "  <tbody>\n",
       "    <tr>\n",
       "      <th>a</th>\n",
       "      <td>0.354184</td>\n",
       "      <td>0.242149</td>\n",
       "      <td>0.521827</td>\n",
       "      <td>0.813850</td>\n",
       "      <td>0.842681</td>\n",
       "      <td>0.462119</td>\n",
       "    </tr>\n",
       "    <tr>\n",
       "      <th>b</th>\n",
       "      <td>0.891391</td>\n",
       "      <td>0.667592</td>\n",
       "      <td>0.855768</td>\n",
       "      <td>0.747718</td>\n",
       "      <td>0.999300</td>\n",
       "      <td>0.995674</td>\n",
       "    </tr>\n",
       "    <tr>\n",
       "      <th>c</th>\n",
       "      <td>0.784294</td>\n",
       "      <td>0.573606</td>\n",
       "      <td>0.859910</td>\n",
       "      <td>0.591285</td>\n",
       "      <td>0.036777</td>\n",
       "      <td>0.081550</td>\n",
       "    </tr>\n",
       "    <tr>\n",
       "      <th>d</th>\n",
       "      <td>0.005657</td>\n",
       "      <td>0.136350</td>\n",
       "      <td>0.540526</td>\n",
       "      <td>0.846217</td>\n",
       "      <td>0.258937</td>\n",
       "      <td>0.459018</td>\n",
       "    </tr>\n",
       "  </tbody>\n",
       "</table>\n",
       "</div>"
      ],
      "text/plain": [
       "          U         V         W         X         Y         Z\n",
       "a  0.354184  0.242149  0.521827  0.813850  0.842681  0.462119\n",
       "b  0.891391  0.667592  0.855768  0.747718  0.999300  0.995674\n",
       "c  0.784294  0.573606  0.859910  0.591285  0.036777  0.081550\n",
       "d  0.005657  0.136350  0.540526  0.846217  0.258937  0.459018"
      ]
     },
     "execution_count": 33,
     "metadata": {},
     "output_type": "execute_result"
    }
   ],
   "source": [
    "df1.drop('e')"
   ]
  },
  {
   "cell_type": "code",
   "execution_count": 35,
   "metadata": {},
   "outputs": [
    {
     "data": {
      "text/plain": [
       "U    0.640683\n",
       "V    0.187444\n",
       "W    0.053144\n",
       "X    0.857582\n",
       "Y    0.533479\n",
       "Z    0.263298\n",
       "Name: e, dtype: float64"
      ]
     },
     "execution_count": 35,
     "metadata": {},
     "output_type": "execute_result"
    }
   ],
   "source": [
    "df1.iloc[4]"
   ]
  },
  {
   "cell_type": "code",
   "execution_count": 36,
   "metadata": {},
   "outputs": [
    {
     "data": {
      "text/plain": [
       "0.5912847032712037"
      ]
     },
     "execution_count": 36,
     "metadata": {},
     "output_type": "execute_result"
    }
   ],
   "source": [
    "df1.loc['c', 'X']"
   ]
  },
  {
   "cell_type": "code",
   "execution_count": 37,
   "metadata": {},
   "outputs": [
    {
     "data": {
      "text/plain": [
       "0.5912847032712037"
      ]
     },
     "execution_count": 37,
     "metadata": {},
     "output_type": "execute_result"
    }
   ],
   "source": [
    "df1.iloc[2, 3]"
   ]
  },
  {
   "cell_type": "code",
   "execution_count": 38,
   "metadata": {},
   "outputs": [
    {
     "data": {
      "text/html": [
       "<div>\n",
       "<style scoped>\n",
       "    .dataframe tbody tr th:only-of-type {\n",
       "        vertical-align: middle;\n",
       "    }\n",
       "\n",
       "    .dataframe tbody tr th {\n",
       "        vertical-align: top;\n",
       "    }\n",
       "\n",
       "    .dataframe thead th {\n",
       "        text-align: right;\n",
       "    }\n",
       "</style>\n",
       "<table border=\"1\" class=\"dataframe\">\n",
       "  <thead>\n",
       "    <tr style=\"text-align: right;\">\n",
       "      <th></th>\n",
       "      <th>X</th>\n",
       "      <th>Y</th>\n",
       "      <th>Z</th>\n",
       "    </tr>\n",
       "  </thead>\n",
       "  <tbody>\n",
       "    <tr>\n",
       "      <th>d</th>\n",
       "      <td>0.846217</td>\n",
       "      <td>0.258937</td>\n",
       "      <td>0.459018</td>\n",
       "    </tr>\n",
       "    <tr>\n",
       "      <th>e</th>\n",
       "      <td>0.857582</td>\n",
       "      <td>0.533479</td>\n",
       "      <td>0.263298</td>\n",
       "    </tr>\n",
       "  </tbody>\n",
       "</table>\n",
       "</div>"
      ],
      "text/plain": [
       "          X         Y         Z\n",
       "d  0.846217  0.258937  0.459018\n",
       "e  0.857582  0.533479  0.263298"
      ]
     },
     "execution_count": 38,
     "metadata": {},
     "output_type": "execute_result"
    }
   ],
   "source": [
    "df1.loc[['d', 'e'], ['X', 'Y', 'Z']]"
   ]
  },
  {
   "cell_type": "code",
   "execution_count": 47,
   "metadata": {},
   "outputs": [
    {
     "data": {
      "text/html": [
       "<div>\n",
       "<style scoped>\n",
       "    .dataframe tbody tr th:only-of-type {\n",
       "        vertical-align: middle;\n",
       "    }\n",
       "\n",
       "    .dataframe tbody tr th {\n",
       "        vertical-align: top;\n",
       "    }\n",
       "\n",
       "    .dataframe thead th {\n",
       "        text-align: right;\n",
       "    }\n",
       "</style>\n",
       "<table border=\"1\" class=\"dataframe\">\n",
       "  <thead>\n",
       "    <tr style=\"text-align: right;\">\n",
       "      <th></th>\n",
       "      <th>W</th>\n",
       "      <th>X</th>\n",
       "    </tr>\n",
       "  </thead>\n",
       "  <tbody>\n",
       "    <tr>\n",
       "      <th>a</th>\n",
       "      <td>0.521827</td>\n",
       "      <td>0.813850</td>\n",
       "    </tr>\n",
       "    <tr>\n",
       "      <th>b</th>\n",
       "      <td>0.855768</td>\n",
       "      <td>0.747718</td>\n",
       "    </tr>\n",
       "    <tr>\n",
       "      <th>c</th>\n",
       "      <td>0.859910</td>\n",
       "      <td>0.591285</td>\n",
       "    </tr>\n",
       "    <tr>\n",
       "      <th>d</th>\n",
       "      <td>0.540526</td>\n",
       "      <td>0.846217</td>\n",
       "    </tr>\n",
       "    <tr>\n",
       "      <th>e</th>\n",
       "      <td>0.053144</td>\n",
       "      <td>0.857582</td>\n",
       "    </tr>\n",
       "  </tbody>\n",
       "</table>\n",
       "</div>"
      ],
      "text/plain": [
       "          W         X\n",
       "a  0.521827  0.813850\n",
       "b  0.855768  0.747718\n",
       "c  0.859910  0.591285\n",
       "d  0.540526  0.846217\n",
       "e  0.053144  0.857582"
      ]
     },
     "execution_count": 47,
     "metadata": {},
     "output_type": "execute_result"
    }
   ],
   "source": [
    "df1.iloc[:,[2, 3]]"
   ]
  },
  {
   "cell_type": "code",
   "execution_count": 48,
   "metadata": {},
   "outputs": [
    {
     "data": {
      "text/html": [
       "<div>\n",
       "<style scoped>\n",
       "    .dataframe tbody tr th:only-of-type {\n",
       "        vertical-align: middle;\n",
       "    }\n",
       "\n",
       "    .dataframe tbody tr th {\n",
       "        vertical-align: top;\n",
       "    }\n",
       "\n",
       "    .dataframe thead th {\n",
       "        text-align: right;\n",
       "    }\n",
       "</style>\n",
       "<table border=\"1\" class=\"dataframe\">\n",
       "  <thead>\n",
       "    <tr style=\"text-align: right;\">\n",
       "      <th></th>\n",
       "      <th>U</th>\n",
       "      <th>V</th>\n",
       "      <th>W</th>\n",
       "      <th>X</th>\n",
       "      <th>Y</th>\n",
       "      <th>Z</th>\n",
       "    </tr>\n",
       "  </thead>\n",
       "  <tbody>\n",
       "    <tr>\n",
       "      <th>a</th>\n",
       "      <td>NaN</td>\n",
       "      <td>NaN</td>\n",
       "      <td>0.521827</td>\n",
       "      <td>0.813850</td>\n",
       "      <td>0.842681</td>\n",
       "      <td>0.462119</td>\n",
       "    </tr>\n",
       "    <tr>\n",
       "      <th>b</th>\n",
       "      <td>0.891391</td>\n",
       "      <td>0.667592</td>\n",
       "      <td>0.855768</td>\n",
       "      <td>0.747718</td>\n",
       "      <td>0.999300</td>\n",
       "      <td>0.995674</td>\n",
       "    </tr>\n",
       "    <tr>\n",
       "      <th>c</th>\n",
       "      <td>0.784294</td>\n",
       "      <td>0.573606</td>\n",
       "      <td>0.859910</td>\n",
       "      <td>0.591285</td>\n",
       "      <td>NaN</td>\n",
       "      <td>NaN</td>\n",
       "    </tr>\n",
       "    <tr>\n",
       "      <th>d</th>\n",
       "      <td>NaN</td>\n",
       "      <td>NaN</td>\n",
       "      <td>0.540526</td>\n",
       "      <td>0.846217</td>\n",
       "      <td>NaN</td>\n",
       "      <td>0.459018</td>\n",
       "    </tr>\n",
       "    <tr>\n",
       "      <th>e</th>\n",
       "      <td>0.640683</td>\n",
       "      <td>NaN</td>\n",
       "      <td>NaN</td>\n",
       "      <td>0.857582</td>\n",
       "      <td>0.533479</td>\n",
       "      <td>NaN</td>\n",
       "    </tr>\n",
       "  </tbody>\n",
       "</table>\n",
       "</div>"
      ],
      "text/plain": [
       "          U         V         W         X         Y         Z\n",
       "a       NaN       NaN  0.521827  0.813850  0.842681  0.462119\n",
       "b  0.891391  0.667592  0.855768  0.747718  0.999300  0.995674\n",
       "c  0.784294  0.573606  0.859910  0.591285       NaN       NaN\n",
       "d       NaN       NaN  0.540526  0.846217       NaN  0.459018\n",
       "e  0.640683       NaN       NaN  0.857582  0.533479       NaN"
      ]
     },
     "execution_count": 48,
     "metadata": {},
     "output_type": "execute_result"
    }
   ],
   "source": [
    "df1[df1 > 0.4]"
   ]
  },
  {
   "cell_type": "code",
   "execution_count": 55,
   "metadata": {},
   "outputs": [
    {
     "data": {
      "text/html": [
       "<div>\n",
       "<style scoped>\n",
       "    .dataframe tbody tr th:only-of-type {\n",
       "        vertical-align: middle;\n",
       "    }\n",
       "\n",
       "    .dataframe tbody tr th {\n",
       "        vertical-align: top;\n",
       "    }\n",
       "\n",
       "    .dataframe thead th {\n",
       "        text-align: right;\n",
       "    }\n",
       "</style>\n",
       "<table border=\"1\" class=\"dataframe\">\n",
       "  <thead>\n",
       "    <tr style=\"text-align: right;\">\n",
       "      <th></th>\n",
       "      <th>U</th>\n",
       "      <th>V</th>\n",
       "      <th>W</th>\n",
       "      <th>X</th>\n",
       "      <th>Y</th>\n",
       "      <th>Z</th>\n",
       "    </tr>\n",
       "  </thead>\n",
       "  <tbody>\n",
       "    <tr>\n",
       "      <th>a</th>\n",
       "      <td>0.000000</td>\n",
       "      <td>0.000000</td>\n",
       "      <td>0.521827</td>\n",
       "      <td>0.813850</td>\n",
       "      <td>0.842681</td>\n",
       "      <td>0.462119</td>\n",
       "    </tr>\n",
       "    <tr>\n",
       "      <th>b</th>\n",
       "      <td>0.891391</td>\n",
       "      <td>0.667592</td>\n",
       "      <td>0.855768</td>\n",
       "      <td>0.747718</td>\n",
       "      <td>0.999300</td>\n",
       "      <td>0.995674</td>\n",
       "    </tr>\n",
       "    <tr>\n",
       "      <th>c</th>\n",
       "      <td>0.784294</td>\n",
       "      <td>0.573606</td>\n",
       "      <td>0.859910</td>\n",
       "      <td>0.591285</td>\n",
       "      <td>0.000000</td>\n",
       "      <td>0.000000</td>\n",
       "    </tr>\n",
       "    <tr>\n",
       "      <th>d</th>\n",
       "      <td>0.000000</td>\n",
       "      <td>0.000000</td>\n",
       "      <td>0.540526</td>\n",
       "      <td>0.846217</td>\n",
       "      <td>0.000000</td>\n",
       "      <td>0.459018</td>\n",
       "    </tr>\n",
       "    <tr>\n",
       "      <th>e</th>\n",
       "      <td>0.640683</td>\n",
       "      <td>0.000000</td>\n",
       "      <td>0.000000</td>\n",
       "      <td>0.857582</td>\n",
       "      <td>0.533479</td>\n",
       "      <td>0.000000</td>\n",
       "    </tr>\n",
       "  </tbody>\n",
       "</table>\n",
       "</div>"
      ],
      "text/plain": [
       "          U         V         W         X         Y         Z\n",
       "a  0.000000  0.000000  0.521827  0.813850  0.842681  0.462119\n",
       "b  0.891391  0.667592  0.855768  0.747718  0.999300  0.995674\n",
       "c  0.784294  0.573606  0.859910  0.591285  0.000000  0.000000\n",
       "d  0.000000  0.000000  0.540526  0.846217  0.000000  0.459018\n",
       "e  0.640683  0.000000  0.000000  0.857582  0.533479  0.000000"
      ]
     },
     "execution_count": 55,
     "metadata": {},
     "output_type": "execute_result"
    }
   ],
   "source": [
    "df1[df1 > 0.4].fillna(0)"
   ]
  },
  {
   "cell_type": "code",
   "execution_count": 52,
   "metadata": {},
   "outputs": [
    {
     "data": {
      "text/html": [
       "<div>\n",
       "<style scoped>\n",
       "    .dataframe tbody tr th:only-of-type {\n",
       "        vertical-align: middle;\n",
       "    }\n",
       "\n",
       "    .dataframe tbody tr th {\n",
       "        vertical-align: top;\n",
       "    }\n",
       "\n",
       "    .dataframe thead th {\n",
       "        text-align: right;\n",
       "    }\n",
       "</style>\n",
       "<table border=\"1\" class=\"dataframe\">\n",
       "  <thead>\n",
       "    <tr style=\"text-align: right;\">\n",
       "      <th></th>\n",
       "      <th>Y</th>\n",
       "      <th>Y</th>\n",
       "    </tr>\n",
       "  </thead>\n",
       "  <tbody>\n",
       "    <tr>\n",
       "      <th>a</th>\n",
       "      <td>0.842681</td>\n",
       "      <td>0.842681</td>\n",
       "    </tr>\n",
       "    <tr>\n",
       "      <th>b</th>\n",
       "      <td>0.999300</td>\n",
       "      <td>0.999300</td>\n",
       "    </tr>\n",
       "    <tr>\n",
       "      <th>e</th>\n",
       "      <td>0.533479</td>\n",
       "      <td>0.533479</td>\n",
       "    </tr>\n",
       "  </tbody>\n",
       "</table>\n",
       "</div>"
      ],
      "text/plain": [
       "          Y         Y\n",
       "a  0.842681  0.842681\n",
       "b  0.999300  0.999300\n",
       "e  0.533479  0.533479"
      ]
     },
     "execution_count": 52,
     "metadata": {},
     "output_type": "execute_result"
    }
   ],
   "source": [
    "df1[df1['Y'] > 0.4][['Y', 'Y']]"
   ]
  },
  {
   "cell_type": "code",
   "execution_count": 58,
   "metadata": {},
   "outputs": [
    {
     "data": {
      "text/html": [
       "<div>\n",
       "<style scoped>\n",
       "    .dataframe tbody tr th:only-of-type {\n",
       "        vertical-align: middle;\n",
       "    }\n",
       "\n",
       "    .dataframe tbody tr th {\n",
       "        vertical-align: top;\n",
       "    }\n",
       "\n",
       "    .dataframe thead th {\n",
       "        text-align: right;\n",
       "    }\n",
       "</style>\n",
       "<table border=\"1\" class=\"dataframe\">\n",
       "  <thead>\n",
       "    <tr style=\"text-align: right;\">\n",
       "      <th></th>\n",
       "      <th>U</th>\n",
       "      <th>V</th>\n",
       "      <th>W</th>\n",
       "      <th>X</th>\n",
       "      <th>Y</th>\n",
       "      <th>Z</th>\n",
       "    </tr>\n",
       "  </thead>\n",
       "  <tbody>\n",
       "    <tr>\n",
       "      <th>c</th>\n",
       "      <td>0.784294</td>\n",
       "      <td>0.573606</td>\n",
       "      <td>0.859910</td>\n",
       "      <td>0.591285</td>\n",
       "      <td>0.036777</td>\n",
       "      <td>0.081550</td>\n",
       "    </tr>\n",
       "    <tr>\n",
       "      <th>e</th>\n",
       "      <td>0.640683</td>\n",
       "      <td>0.187444</td>\n",
       "      <td>0.053144</td>\n",
       "      <td>0.857582</td>\n",
       "      <td>0.533479</td>\n",
       "      <td>0.263298</td>\n",
       "    </tr>\n",
       "  </tbody>\n",
       "</table>\n",
       "</div>"
      ],
      "text/plain": [
       "          U         V         W         X         Y         Z\n",
       "c  0.784294  0.573606  0.859910  0.591285  0.036777  0.081550\n",
       "e  0.640683  0.187444  0.053144  0.857582  0.533479  0.263298"
      ]
     },
     "execution_count": 58,
     "metadata": {},
     "output_type": "execute_result"
    }
   ],
   "source": [
    "df1[(df1['U'] > 0.5) & (df1['Z'] < 0.5)]"
   ]
  },
  {
   "cell_type": "code",
   "execution_count": 61,
   "metadata": {},
   "outputs": [
    {
     "data": {
      "text/html": [
       "<div>\n",
       "<style scoped>\n",
       "    .dataframe tbody tr th:only-of-type {\n",
       "        vertical-align: middle;\n",
       "    }\n",
       "\n",
       "    .dataframe tbody tr th {\n",
       "        vertical-align: top;\n",
       "    }\n",
       "\n",
       "    .dataframe thead th {\n",
       "        text-align: right;\n",
       "    }\n",
       "</style>\n",
       "<table border=\"1\" class=\"dataframe\">\n",
       "  <thead>\n",
       "    <tr style=\"text-align: right;\">\n",
       "      <th></th>\n",
       "      <th>U</th>\n",
       "      <th>Z</th>\n",
       "    </tr>\n",
       "  </thead>\n",
       "  <tbody>\n",
       "    <tr>\n",
       "      <th>b</th>\n",
       "      <td>0.891391</td>\n",
       "      <td>0.995674</td>\n",
       "    </tr>\n",
       "    <tr>\n",
       "      <th>c</th>\n",
       "      <td>0.784294</td>\n",
       "      <td>0.081550</td>\n",
       "    </tr>\n",
       "    <tr>\n",
       "      <th>e</th>\n",
       "      <td>0.640683</td>\n",
       "      <td>0.263298</td>\n",
       "    </tr>\n",
       "  </tbody>\n",
       "</table>\n",
       "</div>"
      ],
      "text/plain": [
       "          U         Z\n",
       "b  0.891391  0.995674\n",
       "c  0.784294  0.081550\n",
       "e  0.640683  0.263298"
      ]
     },
     "execution_count": 61,
     "metadata": {},
     "output_type": "execute_result"
    }
   ],
   "source": [
    "df1[(df1['U'] > 0.5) | (df1['Z'] < 0.3)][['U', 'Z']]"
   ]
  },
  {
   "cell_type": "markdown",
   "metadata": {},
   "source": [
    "## reindeksavimas"
   ]
  },
  {
   "cell_type": "code",
   "execution_count": 70,
   "metadata": {},
   "outputs": [
    {
     "data": {
      "text/html": [
       "<div>\n",
       "<style scoped>\n",
       "    .dataframe tbody tr th:only-of-type {\n",
       "        vertical-align: middle;\n",
       "    }\n",
       "\n",
       "    .dataframe tbody tr th {\n",
       "        vertical-align: top;\n",
       "    }\n",
       "\n",
       "    .dataframe thead th {\n",
       "        text-align: right;\n",
       "    }\n",
       "</style>\n",
       "<table border=\"1\" class=\"dataframe\">\n",
       "  <thead>\n",
       "    <tr style=\"text-align: right;\">\n",
       "      <th></th>\n",
       "      <th>index</th>\n",
       "      <th>U</th>\n",
       "      <th>V</th>\n",
       "      <th>W</th>\n",
       "      <th>X</th>\n",
       "      <th>Y</th>\n",
       "      <th>Z</th>\n",
       "      <th>Miestai</th>\n",
       "    </tr>\n",
       "  </thead>\n",
       "  <tbody>\n",
       "    <tr>\n",
       "      <th>0</th>\n",
       "      <td>a</td>\n",
       "      <td>0.354184</td>\n",
       "      <td>0.242149</td>\n",
       "      <td>0.521827</td>\n",
       "      <td>0.813850</td>\n",
       "      <td>0.842681</td>\n",
       "      <td>0.462119</td>\n",
       "      <td>Vilnius</td>\n",
       "    </tr>\n",
       "    <tr>\n",
       "      <th>1</th>\n",
       "      <td>b</td>\n",
       "      <td>0.891391</td>\n",
       "      <td>0.667592</td>\n",
       "      <td>0.855768</td>\n",
       "      <td>0.747718</td>\n",
       "      <td>0.999300</td>\n",
       "      <td>0.995674</td>\n",
       "      <td>Kaunas</td>\n",
       "    </tr>\n",
       "    <tr>\n",
       "      <th>2</th>\n",
       "      <td>c</td>\n",
       "      <td>0.784294</td>\n",
       "      <td>0.573606</td>\n",
       "      <td>0.859910</td>\n",
       "      <td>0.591285</td>\n",
       "      <td>0.036777</td>\n",
       "      <td>0.081550</td>\n",
       "      <td>Klaipeda</td>\n",
       "    </tr>\n",
       "    <tr>\n",
       "      <th>3</th>\n",
       "      <td>d</td>\n",
       "      <td>0.005657</td>\n",
       "      <td>0.136350</td>\n",
       "      <td>0.540526</td>\n",
       "      <td>0.846217</td>\n",
       "      <td>0.258937</td>\n",
       "      <td>0.459018</td>\n",
       "      <td>Panevezys</td>\n",
       "    </tr>\n",
       "    <tr>\n",
       "      <th>4</th>\n",
       "      <td>e</td>\n",
       "      <td>0.640683</td>\n",
       "      <td>0.187444</td>\n",
       "      <td>0.053144</td>\n",
       "      <td>0.857582</td>\n",
       "      <td>0.533479</td>\n",
       "      <td>0.263298</td>\n",
       "      <td>Siauliai</td>\n",
       "    </tr>\n",
       "  </tbody>\n",
       "</table>\n",
       "</div>"
      ],
      "text/plain": [
       "  index         U         V         W         X         Y         Z    Miestai\n",
       "0     a  0.354184  0.242149  0.521827  0.813850  0.842681  0.462119    Vilnius\n",
       "1     b  0.891391  0.667592  0.855768  0.747718  0.999300  0.995674     Kaunas\n",
       "2     c  0.784294  0.573606  0.859910  0.591285  0.036777  0.081550   Klaipeda\n",
       "3     d  0.005657  0.136350  0.540526  0.846217  0.258937  0.459018  Panevezys\n",
       "4     e  0.640683  0.187444  0.053144  0.857582  0.533479  0.263298   Siauliai"
      ]
     },
     "execution_count": 70,
     "metadata": {},
     "output_type": "execute_result"
    }
   ],
   "source": [
    "df1.reset_index()"
   ]
  },
  {
   "cell_type": "code",
   "execution_count": 64,
   "metadata": {},
   "outputs": [
    {
     "data": {
      "text/plain": [
       "['Vilnius', 'Kaunas', 'Klaipeda', 'Panevezys', 'Siauliai']"
      ]
     },
     "execution_count": 64,
     "metadata": {},
     "output_type": "execute_result"
    }
   ],
   "source": [
    "nauajas_indeksas = \"Vilnius Kaunas Klaipeda Panevezys Siauliai\".split()\n",
    "nauajas_indeksas"
   ]
  },
  {
   "cell_type": "code",
   "execution_count": 66,
   "metadata": {},
   "outputs": [
    {
     "data": {
      "text/html": [
       "<div>\n",
       "<style scoped>\n",
       "    .dataframe tbody tr th:only-of-type {\n",
       "        vertical-align: middle;\n",
       "    }\n",
       "\n",
       "    .dataframe tbody tr th {\n",
       "        vertical-align: top;\n",
       "    }\n",
       "\n",
       "    .dataframe thead th {\n",
       "        text-align: right;\n",
       "    }\n",
       "</style>\n",
       "<table border=\"1\" class=\"dataframe\">\n",
       "  <thead>\n",
       "    <tr style=\"text-align: right;\">\n",
       "      <th></th>\n",
       "      <th>U</th>\n",
       "      <th>V</th>\n",
       "      <th>W</th>\n",
       "      <th>X</th>\n",
       "      <th>Y</th>\n",
       "      <th>Z</th>\n",
       "      <th>Miestai</th>\n",
       "    </tr>\n",
       "  </thead>\n",
       "  <tbody>\n",
       "    <tr>\n",
       "      <th>a</th>\n",
       "      <td>0.354184</td>\n",
       "      <td>0.242149</td>\n",
       "      <td>0.521827</td>\n",
       "      <td>0.813850</td>\n",
       "      <td>0.842681</td>\n",
       "      <td>0.462119</td>\n",
       "      <td>Vilnius</td>\n",
       "    </tr>\n",
       "    <tr>\n",
       "      <th>b</th>\n",
       "      <td>0.891391</td>\n",
       "      <td>0.667592</td>\n",
       "      <td>0.855768</td>\n",
       "      <td>0.747718</td>\n",
       "      <td>0.999300</td>\n",
       "      <td>0.995674</td>\n",
       "      <td>Kaunas</td>\n",
       "    </tr>\n",
       "    <tr>\n",
       "      <th>c</th>\n",
       "      <td>0.784294</td>\n",
       "      <td>0.573606</td>\n",
       "      <td>0.859910</td>\n",
       "      <td>0.591285</td>\n",
       "      <td>0.036777</td>\n",
       "      <td>0.081550</td>\n",
       "      <td>Klaipeda</td>\n",
       "    </tr>\n",
       "    <tr>\n",
       "      <th>d</th>\n",
       "      <td>0.005657</td>\n",
       "      <td>0.136350</td>\n",
       "      <td>0.540526</td>\n",
       "      <td>0.846217</td>\n",
       "      <td>0.258937</td>\n",
       "      <td>0.459018</td>\n",
       "      <td>Panevezys</td>\n",
       "    </tr>\n",
       "    <tr>\n",
       "      <th>e</th>\n",
       "      <td>0.640683</td>\n",
       "      <td>0.187444</td>\n",
       "      <td>0.053144</td>\n",
       "      <td>0.857582</td>\n",
       "      <td>0.533479</td>\n",
       "      <td>0.263298</td>\n",
       "      <td>Siauliai</td>\n",
       "    </tr>\n",
       "  </tbody>\n",
       "</table>\n",
       "</div>"
      ],
      "text/plain": [
       "          U         V         W         X         Y         Z    Miestai\n",
       "a  0.354184  0.242149  0.521827  0.813850  0.842681  0.462119    Vilnius\n",
       "b  0.891391  0.667592  0.855768  0.747718  0.999300  0.995674     Kaunas\n",
       "c  0.784294  0.573606  0.859910  0.591285  0.036777  0.081550   Klaipeda\n",
       "d  0.005657  0.136350  0.540526  0.846217  0.258937  0.459018  Panevezys\n",
       "e  0.640683  0.187444  0.053144  0.857582  0.533479  0.263298   Siauliai"
      ]
     },
     "execution_count": 66,
     "metadata": {},
     "output_type": "execute_result"
    }
   ],
   "source": [
    "df1['Miestai'] = nauajas_indeksas\n",
    "df1"
   ]
  },
  {
   "cell_type": "code",
   "execution_count": 74,
   "metadata": {},
   "outputs": [],
   "source": [
    "df1.set_index('Miestai', inplace=True)"
   ]
  },
  {
   "cell_type": "code",
   "execution_count": 75,
   "metadata": {},
   "outputs": [
    {
     "data": {
      "text/html": [
       "<div>\n",
       "<style scoped>\n",
       "    .dataframe tbody tr th:only-of-type {\n",
       "        vertical-align: middle;\n",
       "    }\n",
       "\n",
       "    .dataframe tbody tr th {\n",
       "        vertical-align: top;\n",
       "    }\n",
       "\n",
       "    .dataframe thead th {\n",
       "        text-align: right;\n",
       "    }\n",
       "</style>\n",
       "<table border=\"1\" class=\"dataframe\">\n",
       "  <thead>\n",
       "    <tr style=\"text-align: right;\">\n",
       "      <th></th>\n",
       "      <th>U</th>\n",
       "      <th>V</th>\n",
       "      <th>W</th>\n",
       "      <th>X</th>\n",
       "      <th>Y</th>\n",
       "      <th>Z</th>\n",
       "    </tr>\n",
       "    <tr>\n",
       "      <th>Miestai</th>\n",
       "      <th></th>\n",
       "      <th></th>\n",
       "      <th></th>\n",
       "      <th></th>\n",
       "      <th></th>\n",
       "      <th></th>\n",
       "    </tr>\n",
       "  </thead>\n",
       "  <tbody>\n",
       "    <tr>\n",
       "      <th>Vilnius</th>\n",
       "      <td>0.354184</td>\n",
       "      <td>0.242149</td>\n",
       "      <td>0.521827</td>\n",
       "      <td>0.813850</td>\n",
       "      <td>0.842681</td>\n",
       "      <td>0.462119</td>\n",
       "    </tr>\n",
       "    <tr>\n",
       "      <th>Kaunas</th>\n",
       "      <td>0.891391</td>\n",
       "      <td>0.667592</td>\n",
       "      <td>0.855768</td>\n",
       "      <td>0.747718</td>\n",
       "      <td>0.999300</td>\n",
       "      <td>0.995674</td>\n",
       "    </tr>\n",
       "    <tr>\n",
       "      <th>Klaipeda</th>\n",
       "      <td>0.784294</td>\n",
       "      <td>0.573606</td>\n",
       "      <td>0.859910</td>\n",
       "      <td>0.591285</td>\n",
       "      <td>0.036777</td>\n",
       "      <td>0.081550</td>\n",
       "    </tr>\n",
       "    <tr>\n",
       "      <th>Panevezys</th>\n",
       "      <td>0.005657</td>\n",
       "      <td>0.136350</td>\n",
       "      <td>0.540526</td>\n",
       "      <td>0.846217</td>\n",
       "      <td>0.258937</td>\n",
       "      <td>0.459018</td>\n",
       "    </tr>\n",
       "    <tr>\n",
       "      <th>Siauliai</th>\n",
       "      <td>0.640683</td>\n",
       "      <td>0.187444</td>\n",
       "      <td>0.053144</td>\n",
       "      <td>0.857582</td>\n",
       "      <td>0.533479</td>\n",
       "      <td>0.263298</td>\n",
       "    </tr>\n",
       "  </tbody>\n",
       "</table>\n",
       "</div>"
      ],
      "text/plain": [
       "                  U         V         W         X         Y         Z\n",
       "Miestai                                                              \n",
       "Vilnius    0.354184  0.242149  0.521827  0.813850  0.842681  0.462119\n",
       "Kaunas     0.891391  0.667592  0.855768  0.747718  0.999300  0.995674\n",
       "Klaipeda   0.784294  0.573606  0.859910  0.591285  0.036777  0.081550\n",
       "Panevezys  0.005657  0.136350  0.540526  0.846217  0.258937  0.459018\n",
       "Siauliai   0.640683  0.187444  0.053144  0.857582  0.533479  0.263298"
      ]
     },
     "execution_count": 75,
     "metadata": {},
     "output_type": "execute_result"
    }
   ],
   "source": [
    "df1"
   ]
  }
 ],
 "metadata": {
  "interpreter": {
   "hash": "1706fe01eaa9bec6f6d9404c41337c22cb1d0ee23e24b002b470c4ec736f498a"
  },
  "kernelspec": {
   "display_name": "Python 3.10.1 64-bit",
   "language": "python",
   "name": "python3"
  },
  "language_info": {
   "codemirror_mode": {
    "name": "ipython",
    "version": 3
   },
   "file_extension": ".py",
   "mimetype": "text/x-python",
   "name": "python",
   "nbconvert_exporter": "python",
   "pygments_lexer": "ipython3",
   "version": "3.10.1"
  },
  "orig_nbformat": 4
 },
 "nbformat": 4,
 "nbformat_minor": 2
}
