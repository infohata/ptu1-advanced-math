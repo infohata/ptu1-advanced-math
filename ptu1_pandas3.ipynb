{
 "cells": [
  {
   "cell_type": "code",
   "execution_count": 39,
   "metadata": {},
   "outputs": [
    {
     "data": {
      "text/html": [
       "<div>\n",
       "<style scoped>\n",
       "    .dataframe tbody tr th:only-of-type {\n",
       "        vertical-align: middle;\n",
       "    }\n",
       "\n",
       "    .dataframe tbody tr th {\n",
       "        vertical-align: top;\n",
       "    }\n",
       "\n",
       "    .dataframe thead th {\n",
       "        text-align: right;\n",
       "    }\n",
       "</style>\n",
       "<table border=\"1\" class=\"dataframe\">\n",
       "  <thead>\n",
       "    <tr style=\"text-align: right;\">\n",
       "      <th></th>\n",
       "      <th>Unnamed: 0</th>\n",
       "      <th>Track.Name</th>\n",
       "      <th>Artist.Name</th>\n",
       "      <th>Genre</th>\n",
       "      <th>Beats.Per.Minute</th>\n",
       "      <th>Energy</th>\n",
       "      <th>Danceability</th>\n",
       "      <th>Loudness..dB..</th>\n",
       "      <th>Liveness</th>\n",
       "      <th>Valence.</th>\n",
       "      <th>Length.</th>\n",
       "      <th>Acousticness..</th>\n",
       "      <th>Speechiness.</th>\n",
       "      <th>Popularity</th>\n",
       "    </tr>\n",
       "  </thead>\n",
       "  <tbody>\n",
       "    <tr>\n",
       "      <th>0</th>\n",
       "      <td>1</td>\n",
       "      <td>Seï¿½orita</td>\n",
       "      <td>Shawn Mendes</td>\n",
       "      <td>canadian pop</td>\n",
       "      <td>117</td>\n",
       "      <td>55</td>\n",
       "      <td>76</td>\n",
       "      <td>-6</td>\n",
       "      <td>8</td>\n",
       "      <td>75</td>\n",
       "      <td>191</td>\n",
       "      <td>4</td>\n",
       "      <td>3</td>\n",
       "      <td>79</td>\n",
       "    </tr>\n",
       "    <tr>\n",
       "      <th>1</th>\n",
       "      <td>2</td>\n",
       "      <td>China</td>\n",
       "      <td>Anuel AA</td>\n",
       "      <td>reggaeton flow</td>\n",
       "      <td>105</td>\n",
       "      <td>81</td>\n",
       "      <td>79</td>\n",
       "      <td>-4</td>\n",
       "      <td>8</td>\n",
       "      <td>61</td>\n",
       "      <td>302</td>\n",
       "      <td>8</td>\n",
       "      <td>9</td>\n",
       "      <td>92</td>\n",
       "    </tr>\n",
       "    <tr>\n",
       "      <th>2</th>\n",
       "      <td>3</td>\n",
       "      <td>boyfriend (with Social House)</td>\n",
       "      <td>Ariana Grande</td>\n",
       "      <td>dance pop</td>\n",
       "      <td>190</td>\n",
       "      <td>80</td>\n",
       "      <td>40</td>\n",
       "      <td>-4</td>\n",
       "      <td>16</td>\n",
       "      <td>70</td>\n",
       "      <td>186</td>\n",
       "      <td>12</td>\n",
       "      <td>46</td>\n",
       "      <td>85</td>\n",
       "    </tr>\n",
       "    <tr>\n",
       "      <th>3</th>\n",
       "      <td>4</td>\n",
       "      <td>Beautiful People (feat. Khalid)</td>\n",
       "      <td>Ed Sheeran</td>\n",
       "      <td>pop</td>\n",
       "      <td>93</td>\n",
       "      <td>65</td>\n",
       "      <td>64</td>\n",
       "      <td>-8</td>\n",
       "      <td>8</td>\n",
       "      <td>55</td>\n",
       "      <td>198</td>\n",
       "      <td>12</td>\n",
       "      <td>19</td>\n",
       "      <td>86</td>\n",
       "    </tr>\n",
       "    <tr>\n",
       "      <th>4</th>\n",
       "      <td>5</td>\n",
       "      <td>Goodbyes (Feat. Young Thug)</td>\n",
       "      <td>Post Malone</td>\n",
       "      <td>dfw rap</td>\n",
       "      <td>150</td>\n",
       "      <td>65</td>\n",
       "      <td>58</td>\n",
       "      <td>-4</td>\n",
       "      <td>11</td>\n",
       "      <td>18</td>\n",
       "      <td>175</td>\n",
       "      <td>45</td>\n",
       "      <td>7</td>\n",
       "      <td>94</td>\n",
       "    </tr>\n",
       "  </tbody>\n",
       "</table>\n",
       "</div>"
      ],
      "text/plain": [
       "   Unnamed: 0                       Track.Name    Artist.Name           Genre  \\\n",
       "0           1                       Seï¿½orita   Shawn Mendes    canadian pop   \n",
       "1           2                            China       Anuel AA  reggaeton flow   \n",
       "2           3    boyfriend (with Social House)  Ariana Grande       dance pop   \n",
       "3           4  Beautiful People (feat. Khalid)     Ed Sheeran             pop   \n",
       "4           5      Goodbyes (Feat. Young Thug)    Post Malone         dfw rap   \n",
       "\n",
       "   Beats.Per.Minute  Energy  Danceability  Loudness..dB..  Liveness  Valence.  \\\n",
       "0               117      55            76              -6         8        75   \n",
       "1               105      81            79              -4         8        61   \n",
       "2               190      80            40              -4        16        70   \n",
       "3                93      65            64              -8         8        55   \n",
       "4               150      65            58              -4        11        18   \n",
       "\n",
       "   Length.  Acousticness..  Speechiness.  Popularity  \n",
       "0      191               4             3          79  \n",
       "1      302               8             9          92  \n",
       "2      186              12            46          85  \n",
       "3      198              12            19          86  \n",
       "4      175              45             7          94  "
      ]
     },
     "execution_count": 39,
     "metadata": {},
     "output_type": "execute_result"
    }
   ],
   "source": [
    "import numpy as np\n",
    "import pandas as pd\n",
    "top50 = pd.read_csv('top50.csv', encoding='ISO-8859-1')\n",
    "top50.head()"
   ]
  },
  {
   "cell_type": "code",
   "execution_count": 8,
   "metadata": {},
   "outputs": [
    {
     "data": {
      "text/plain": [
       "array(['canadian pop', 'reggaeton flow', 'dance pop', 'pop', 'dfw rap',\n",
       "       'trap music', 'country rap', 'electropop', 'reggaeton',\n",
       "       'panamanian pop', 'canadian hip hop', 'latin', 'escape room',\n",
       "       'pop house', 'australian pop', 'edm', 'atl hip hop', 'big room',\n",
       "       'boy band', 'r&b en espanol', 'brostep'], dtype=object)"
      ]
     },
     "execution_count": 8,
     "metadata": {},
     "output_type": "execute_result"
    }
   ],
   "source": [
    "top50['Genre'].unique()"
   ]
  },
  {
   "cell_type": "code",
   "execution_count": 7,
   "metadata": {},
   "outputs": [
    {
     "data": {
      "text/plain": [
       "21"
      ]
     },
     "execution_count": 7,
     "metadata": {},
     "output_type": "execute_result"
    }
   ],
   "source": [
    "top50['Genre'].nunique()"
   ]
  },
  {
   "cell_type": "code",
   "execution_count": 9,
   "metadata": {},
   "outputs": [
    {
     "data": {
      "text/plain": [
       "dance pop           8\n",
       "pop                 7\n",
       "latin               5\n",
       "canadian hip hop    3\n",
       "edm                 3\n",
       "reggaeton           2\n",
       "reggaeton flow      2\n",
       "panamanian pop      2\n",
       "canadian pop        2\n",
       "electropop          2\n",
       "country rap         2\n",
       "dfw rap             2\n",
       "brostep             2\n",
       "trap music          1\n",
       "escape room         1\n",
       "pop house           1\n",
       "australian pop      1\n",
       "atl hip hop         1\n",
       "big room            1\n",
       "boy band            1\n",
       "r&b en espanol      1\n",
       "Name: Genre, dtype: int64"
      ]
     },
     "execution_count": 9,
     "metadata": {},
     "output_type": "execute_result"
    }
   ],
   "source": [
    "top50['Genre'].value_counts()"
   ]
  },
  {
   "cell_type": "code",
   "execution_count": 12,
   "metadata": {},
   "outputs": [
    {
     "data": {
      "text/plain": [
       "10048"
      ]
     },
     "execution_count": 12,
     "metadata": {},
     "output_type": "execute_result"
    }
   ],
   "source": [
    "top50['Length.'].sum()"
   ]
  },
  {
   "cell_type": "code",
   "execution_count": 13,
   "metadata": {},
   "outputs": [
    {
     "name": "stdout",
     "output_type": "stream",
     "text": [
      "1:06\n"
     ]
    }
   ],
   "source": [
    "def minutes_seconds(secs):\n",
    "    minutes = secs // 60\n",
    "    seconds = secs % 60\n",
    "    return f'{minutes}:{seconds:02d}'\n",
    "\n",
    "print(minutes_seconds(66))"
   ]
  },
  {
   "cell_type": "code",
   "execution_count": 14,
   "metadata": {},
   "outputs": [
    {
     "data": {
      "text/plain": [
       "0    3:11\n",
       "1    5:02\n",
       "2    3:06\n",
       "3    3:18\n",
       "4    2:55\n",
       "Name: Length., dtype: object"
      ]
     },
     "execution_count": 14,
     "metadata": {},
     "output_type": "execute_result"
    }
   ],
   "source": [
    "top50['Length.'].apply(minutes_seconds).head()"
   ]
  },
  {
   "cell_type": "code",
   "execution_count": 16,
   "metadata": {},
   "outputs": [
    {
     "data": {
      "text/html": [
       "<div>\n",
       "<style scoped>\n",
       "    .dataframe tbody tr th:only-of-type {\n",
       "        vertical-align: middle;\n",
       "    }\n",
       "\n",
       "    .dataframe tbody tr th {\n",
       "        vertical-align: top;\n",
       "    }\n",
       "\n",
       "    .dataframe thead th {\n",
       "        text-align: right;\n",
       "    }\n",
       "</style>\n",
       "<table border=\"1\" class=\"dataframe\">\n",
       "  <thead>\n",
       "    <tr style=\"text-align: right;\">\n",
       "      <th></th>\n",
       "      <th>Unnamed: 0</th>\n",
       "      <th>Track.Name</th>\n",
       "      <th>Artist.Name</th>\n",
       "      <th>Genre</th>\n",
       "      <th>Beats.Per.Minute</th>\n",
       "      <th>Energy</th>\n",
       "      <th>Danceability</th>\n",
       "      <th>Loudness..dB..</th>\n",
       "      <th>Liveness</th>\n",
       "      <th>Valence.</th>\n",
       "      <th>Length.</th>\n",
       "      <th>Acousticness..</th>\n",
       "      <th>Speechiness.</th>\n",
       "      <th>Popularity</th>\n",
       "      <th>Length.Pretty</th>\n",
       "    </tr>\n",
       "  </thead>\n",
       "  <tbody>\n",
       "    <tr>\n",
       "      <th>10</th>\n",
       "      <td>11</td>\n",
       "      <td>Callaita</td>\n",
       "      <td>Bad Bunny</td>\n",
       "      <td>reggaeton</td>\n",
       "      <td>176</td>\n",
       "      <td>62</td>\n",
       "      <td>61</td>\n",
       "      <td>-5</td>\n",
       "      <td>24</td>\n",
       "      <td>24</td>\n",
       "      <td>251</td>\n",
       "      <td>60</td>\n",
       "      <td>31</td>\n",
       "      <td>93</td>\n",
       "      <td>4:11</td>\n",
       "    </tr>\n",
       "    <tr>\n",
       "      <th>11</th>\n",
       "      <td>12</td>\n",
       "      <td>Loco Contigo (feat. J. Balvin &amp; Tyga)</td>\n",
       "      <td>DJ Snake</td>\n",
       "      <td>dance pop</td>\n",
       "      <td>96</td>\n",
       "      <td>71</td>\n",
       "      <td>82</td>\n",
       "      <td>-4</td>\n",
       "      <td>15</td>\n",
       "      <td>38</td>\n",
       "      <td>185</td>\n",
       "      <td>28</td>\n",
       "      <td>7</td>\n",
       "      <td>86</td>\n",
       "      <td>3:05</td>\n",
       "    </tr>\n",
       "    <tr>\n",
       "      <th>12</th>\n",
       "      <td>13</td>\n",
       "      <td>Someone You Loved</td>\n",
       "      <td>Lewis Capaldi</td>\n",
       "      <td>pop</td>\n",
       "      <td>110</td>\n",
       "      <td>41</td>\n",
       "      <td>50</td>\n",
       "      <td>-6</td>\n",
       "      <td>11</td>\n",
       "      <td>45</td>\n",
       "      <td>182</td>\n",
       "      <td>75</td>\n",
       "      <td>3</td>\n",
       "      <td>88</td>\n",
       "      <td>3:02</td>\n",
       "    </tr>\n",
       "    <tr>\n",
       "      <th>13</th>\n",
       "      <td>14</td>\n",
       "      <td>Otro Trago - Remix</td>\n",
       "      <td>Sech</td>\n",
       "      <td>panamanian pop</td>\n",
       "      <td>176</td>\n",
       "      <td>79</td>\n",
       "      <td>73</td>\n",
       "      <td>-2</td>\n",
       "      <td>6</td>\n",
       "      <td>76</td>\n",
       "      <td>288</td>\n",
       "      <td>7</td>\n",
       "      <td>20</td>\n",
       "      <td>87</td>\n",
       "      <td>4:48</td>\n",
       "    </tr>\n",
       "    <tr>\n",
       "      <th>14</th>\n",
       "      <td>15</td>\n",
       "      <td>Money In The Grave (Drake ft. Rick Ross)</td>\n",
       "      <td>Drake</td>\n",
       "      <td>canadian hip hop</td>\n",
       "      <td>101</td>\n",
       "      <td>50</td>\n",
       "      <td>83</td>\n",
       "      <td>-4</td>\n",
       "      <td>12</td>\n",
       "      <td>10</td>\n",
       "      <td>205</td>\n",
       "      <td>10</td>\n",
       "      <td>5</td>\n",
       "      <td>92</td>\n",
       "      <td>3:25</td>\n",
       "    </tr>\n",
       "  </tbody>\n",
       "</table>\n",
       "</div>"
      ],
      "text/plain": [
       "    Unnamed: 0                                Track.Name    Artist.Name  \\\n",
       "10          11                                  Callaita      Bad Bunny   \n",
       "11          12     Loco Contigo (feat. J. Balvin & Tyga)       DJ Snake   \n",
       "12          13                         Someone You Loved  Lewis Capaldi   \n",
       "13          14                        Otro Trago - Remix           Sech   \n",
       "14          15  Money In The Grave (Drake ft. Rick Ross)          Drake   \n",
       "\n",
       "               Genre  Beats.Per.Minute  Energy  Danceability  Loudness..dB..  \\\n",
       "10         reggaeton               176      62            61              -5   \n",
       "11         dance pop                96      71            82              -4   \n",
       "12               pop               110      41            50              -6   \n",
       "13    panamanian pop               176      79            73              -2   \n",
       "14  canadian hip hop               101      50            83              -4   \n",
       "\n",
       "    Liveness  Valence.  Length.  Acousticness..  Speechiness.  Popularity  \\\n",
       "10        24        24      251              60            31          93   \n",
       "11        15        38      185              28             7          86   \n",
       "12        11        45      182              75             3          88   \n",
       "13         6        76      288               7            20          87   \n",
       "14        12        10      205              10             5          92   \n",
       "\n",
       "   Length.Pretty  \n",
       "10          4:11  \n",
       "11          3:05  \n",
       "12          3:02  \n",
       "13          4:48  \n",
       "14          3:25  "
      ]
     },
     "execution_count": 16,
     "metadata": {},
     "output_type": "execute_result"
    }
   ],
   "source": [
    "top50['Length.Pretty'] = top50['Length.'].apply(minutes_seconds)\n",
    "top50[10:15]"
   ]
  },
  {
   "cell_type": "code",
   "execution_count": 17,
   "metadata": {},
   "outputs": [
    {
     "data": {
      "text/plain": [
       "7     7\n",
       "8     6\n",
       "9     4\n",
       "10    6\n",
       "11    7\n",
       "12    4\n",
       "Name: Energy, dtype: int64"
      ]
     },
     "execution_count": 17,
     "metadata": {},
     "output_type": "execute_result"
    }
   ],
   "source": [
    "top50['Energy'].apply(lambda x: round(x/10))[7:13]"
   ]
  },
  {
   "cell_type": "code",
   "execution_count": 18,
   "metadata": {},
   "outputs": [
    {
     "data": {
      "text/plain": [
       "Index(['Unnamed: 0', 'Track.Name', 'Artist.Name', 'Genre', 'Beats.Per.Minute',\n",
       "       'Energy', 'Danceability', 'Loudness..dB..', 'Liveness', 'Valence.',\n",
       "       'Length.', 'Acousticness..', 'Speechiness.', 'Popularity',\n",
       "       'Length.Pretty'],\n",
       "      dtype='object')"
      ]
     },
     "execution_count": 18,
     "metadata": {},
     "output_type": "execute_result"
    }
   ],
   "source": [
    "top50.columns"
   ]
  },
  {
   "cell_type": "code",
   "execution_count": 19,
   "metadata": {},
   "outputs": [
    {
     "data": {
      "text/plain": [
       "RangeIndex(start=0, stop=50, step=1)"
      ]
     },
     "execution_count": 19,
     "metadata": {},
     "output_type": "execute_result"
    }
   ],
   "source": [
    "top50.index"
   ]
  },
  {
   "cell_type": "code",
   "execution_count": 21,
   "metadata": {},
   "outputs": [
    {
     "data": {
      "text/plain": [
       "(50, 15)"
      ]
     },
     "execution_count": 21,
     "metadata": {},
     "output_type": "execute_result"
    }
   ],
   "source": [
    "top50.shape"
   ]
  },
  {
   "cell_type": "code",
   "execution_count": 24,
   "metadata": {},
   "outputs": [
    {
     "data": {
      "text/html": [
       "<div>\n",
       "<style scoped>\n",
       "    .dataframe tbody tr th:only-of-type {\n",
       "        vertical-align: middle;\n",
       "    }\n",
       "\n",
       "    .dataframe tbody tr th {\n",
       "        vertical-align: top;\n",
       "    }\n",
       "\n",
       "    .dataframe thead th {\n",
       "        text-align: right;\n",
       "    }\n",
       "</style>\n",
       "<table border=\"1\" class=\"dataframe\">\n",
       "  <thead>\n",
       "    <tr style=\"text-align: right;\">\n",
       "      <th></th>\n",
       "      <th>Unnamed: 0</th>\n",
       "      <th>Track.Name</th>\n",
       "      <th>Artist.Name</th>\n",
       "      <th>Genre</th>\n",
       "      <th>Beats.Per.Minute</th>\n",
       "      <th>Energy</th>\n",
       "      <th>Danceability</th>\n",
       "      <th>Loudness..dB..</th>\n",
       "      <th>Liveness</th>\n",
       "      <th>Valence.</th>\n",
       "      <th>Length.</th>\n",
       "      <th>Acousticness..</th>\n",
       "      <th>Speechiness.</th>\n",
       "      <th>Popularity</th>\n",
       "      <th>Length.Pretty</th>\n",
       "    </tr>\n",
       "  </thead>\n",
       "  <tbody>\n",
       "    <tr>\n",
       "      <th>12</th>\n",
       "      <td>13</td>\n",
       "      <td>Someone You Loved</td>\n",
       "      <td>Lewis Capaldi</td>\n",
       "      <td>pop</td>\n",
       "      <td>110</td>\n",
       "      <td>41</td>\n",
       "      <td>50</td>\n",
       "      <td>-6</td>\n",
       "      <td>11</td>\n",
       "      <td>45</td>\n",
       "      <td>182</td>\n",
       "      <td>75</td>\n",
       "      <td>3</td>\n",
       "      <td>88</td>\n",
       "      <td>3:02</td>\n",
       "    </tr>\n",
       "    <tr>\n",
       "      <th>43</th>\n",
       "      <td>44</td>\n",
       "      <td>Talk</td>\n",
       "      <td>Khalid</td>\n",
       "      <td>pop</td>\n",
       "      <td>136</td>\n",
       "      <td>40</td>\n",
       "      <td>90</td>\n",
       "      <td>-9</td>\n",
       "      <td>6</td>\n",
       "      <td>35</td>\n",
       "      <td>198</td>\n",
       "      <td>5</td>\n",
       "      <td>13</td>\n",
       "      <td>84</td>\n",
       "      <td>3:18</td>\n",
       "    </tr>\n",
       "    <tr>\n",
       "      <th>42</th>\n",
       "      <td>43</td>\n",
       "      <td>Shallow</td>\n",
       "      <td>Lady Gaga</td>\n",
       "      <td>dance pop</td>\n",
       "      <td>96</td>\n",
       "      <td>39</td>\n",
       "      <td>57</td>\n",
       "      <td>-6</td>\n",
       "      <td>23</td>\n",
       "      <td>32</td>\n",
       "      <td>216</td>\n",
       "      <td>37</td>\n",
       "      <td>3</td>\n",
       "      <td>87</td>\n",
       "      <td>3:36</td>\n",
       "    </tr>\n",
       "    <tr>\n",
       "      <th>18</th>\n",
       "      <td>19</td>\n",
       "      <td>Lalala</td>\n",
       "      <td>Y2K</td>\n",
       "      <td>canadian hip hop</td>\n",
       "      <td>130</td>\n",
       "      <td>39</td>\n",
       "      <td>84</td>\n",
       "      <td>-8</td>\n",
       "      <td>14</td>\n",
       "      <td>50</td>\n",
       "      <td>161</td>\n",
       "      <td>18</td>\n",
       "      <td>8</td>\n",
       "      <td>88</td>\n",
       "      <td>2:41</td>\n",
       "    </tr>\n",
       "    <tr>\n",
       "      <th>31</th>\n",
       "      <td>32</td>\n",
       "      <td>7 rings</td>\n",
       "      <td>Ariana Grande</td>\n",
       "      <td>dance pop</td>\n",
       "      <td>140</td>\n",
       "      <td>32</td>\n",
       "      <td>78</td>\n",
       "      <td>-11</td>\n",
       "      <td>9</td>\n",
       "      <td>33</td>\n",
       "      <td>179</td>\n",
       "      <td>59</td>\n",
       "      <td>33</td>\n",
       "      <td>89</td>\n",
       "      <td>2:59</td>\n",
       "    </tr>\n",
       "  </tbody>\n",
       "</table>\n",
       "</div>"
      ],
      "text/plain": [
       "    Unnamed: 0         Track.Name    Artist.Name             Genre  \\\n",
       "12          13  Someone You Loved  Lewis Capaldi               pop   \n",
       "43          44               Talk         Khalid               pop   \n",
       "42          43            Shallow      Lady Gaga         dance pop   \n",
       "18          19             Lalala            Y2K  canadian hip hop   \n",
       "31          32            7 rings  Ariana Grande         dance pop   \n",
       "\n",
       "    Beats.Per.Minute  Energy  Danceability  Loudness..dB..  Liveness  \\\n",
       "12               110      41            50              -6        11   \n",
       "43               136      40            90              -9         6   \n",
       "42                96      39            57              -6        23   \n",
       "18               130      39            84              -8        14   \n",
       "31               140      32            78             -11         9   \n",
       "\n",
       "    Valence.  Length.  Acousticness..  Speechiness.  Popularity Length.Pretty  \n",
       "12        45      182              75             3          88          3:02  \n",
       "43        35      198               5            13          84          3:18  \n",
       "42        32      216              37             3          87          3:36  \n",
       "18        50      161              18             8          88          2:41  \n",
       "31        33      179              59            33          89          2:59  "
      ]
     },
     "execution_count": 24,
     "metadata": {},
     "output_type": "execute_result"
    }
   ],
   "source": [
    "top50.sort_values('Energy', ascending=False).tail()"
   ]
  },
  {
   "cell_type": "code",
   "execution_count": 25,
   "metadata": {},
   "outputs": [
    {
     "data": {
      "text/html": [
       "<div>\n",
       "<style scoped>\n",
       "    .dataframe tbody tr th:only-of-type {\n",
       "        vertical-align: middle;\n",
       "    }\n",
       "\n",
       "    .dataframe tbody tr th {\n",
       "        vertical-align: top;\n",
       "    }\n",
       "\n",
       "    .dataframe thead th {\n",
       "        text-align: right;\n",
       "    }\n",
       "</style>\n",
       "<table border=\"1\" class=\"dataframe\">\n",
       "  <thead>\n",
       "    <tr style=\"text-align: right;\">\n",
       "      <th></th>\n",
       "      <th>Unnamed: 0</th>\n",
       "      <th>Track.Name</th>\n",
       "      <th>Artist.Name</th>\n",
       "      <th>Genre</th>\n",
       "      <th>Beats.Per.Minute</th>\n",
       "      <th>Energy</th>\n",
       "      <th>Danceability</th>\n",
       "      <th>Loudness..dB..</th>\n",
       "      <th>Liveness</th>\n",
       "      <th>Valence.</th>\n",
       "      <th>Length.</th>\n",
       "      <th>Acousticness..</th>\n",
       "      <th>Speechiness.</th>\n",
       "      <th>Popularity</th>\n",
       "      <th>Length.Pretty</th>\n",
       "    </tr>\n",
       "  </thead>\n",
       "  <tbody>\n",
       "    <tr>\n",
       "      <th>34</th>\n",
       "      <td>35</td>\n",
       "      <td>Never Really Over</td>\n",
       "      <td>Katy Perry</td>\n",
       "      <td>dance pop</td>\n",
       "      <td>100</td>\n",
       "      <td>88</td>\n",
       "      <td>77</td>\n",
       "      <td>-5</td>\n",
       "      <td>32</td>\n",
       "      <td>39</td>\n",
       "      <td>224</td>\n",
       "      <td>19</td>\n",
       "      <td>6</td>\n",
       "      <td>89</td>\n",
       "      <td>3:44</td>\n",
       "    </tr>\n",
       "    <tr>\n",
       "      <th>28</th>\n",
       "      <td>29</td>\n",
       "      <td>Con Calma</td>\n",
       "      <td>Daddy Yankee</td>\n",
       "      <td>latin</td>\n",
       "      <td>94</td>\n",
       "      <td>86</td>\n",
       "      <td>74</td>\n",
       "      <td>-3</td>\n",
       "      <td>6</td>\n",
       "      <td>66</td>\n",
       "      <td>193</td>\n",
       "      <td>11</td>\n",
       "      <td>6</td>\n",
       "      <td>91</td>\n",
       "      <td>3:13</td>\n",
       "    </tr>\n",
       "    <tr>\n",
       "      <th>25</th>\n",
       "      <td>26</td>\n",
       "      <td>If I Can't Have You</td>\n",
       "      <td>Shawn Mendes</td>\n",
       "      <td>canadian pop</td>\n",
       "      <td>124</td>\n",
       "      <td>82</td>\n",
       "      <td>69</td>\n",
       "      <td>-4</td>\n",
       "      <td>13</td>\n",
       "      <td>87</td>\n",
       "      <td>191</td>\n",
       "      <td>49</td>\n",
       "      <td>6</td>\n",
       "      <td>70</td>\n",
       "      <td>3:11</td>\n",
       "    </tr>\n",
       "    <tr>\n",
       "      <th>37</th>\n",
       "      <td>38</td>\n",
       "      <td>Antisocial (with Travis Scott)</td>\n",
       "      <td>Ed Sheeran</td>\n",
       "      <td>pop</td>\n",
       "      <td>152</td>\n",
       "      <td>82</td>\n",
       "      <td>72</td>\n",
       "      <td>-5</td>\n",
       "      <td>36</td>\n",
       "      <td>91</td>\n",
       "      <td>162</td>\n",
       "      <td>13</td>\n",
       "      <td>5</td>\n",
       "      <td>87</td>\n",
       "      <td>2:42</td>\n",
       "    </tr>\n",
       "    <tr>\n",
       "      <th>1</th>\n",
       "      <td>2</td>\n",
       "      <td>China</td>\n",
       "      <td>Anuel AA</td>\n",
       "      <td>reggaeton flow</td>\n",
       "      <td>105</td>\n",
       "      <td>81</td>\n",
       "      <td>79</td>\n",
       "      <td>-4</td>\n",
       "      <td>8</td>\n",
       "      <td>61</td>\n",
       "      <td>302</td>\n",
       "      <td>8</td>\n",
       "      <td>9</td>\n",
       "      <td>92</td>\n",
       "      <td>5:02</td>\n",
       "    </tr>\n",
       "  </tbody>\n",
       "</table>\n",
       "</div>"
      ],
      "text/plain": [
       "    Unnamed: 0                      Track.Name   Artist.Name           Genre  \\\n",
       "34          35               Never Really Over    Katy Perry       dance pop   \n",
       "28          29                       Con Calma  Daddy Yankee           latin   \n",
       "25          26             If I Can't Have You  Shawn Mendes    canadian pop   \n",
       "37          38  Antisocial (with Travis Scott)    Ed Sheeran             pop   \n",
       "1            2                           China      Anuel AA  reggaeton flow   \n",
       "\n",
       "    Beats.Per.Minute  Energy  Danceability  Loudness..dB..  Liveness  \\\n",
       "34               100      88            77              -5        32   \n",
       "28                94      86            74              -3         6   \n",
       "25               124      82            69              -4        13   \n",
       "37               152      82            72              -5        36   \n",
       "1                105      81            79              -4         8   \n",
       "\n",
       "    Valence.  Length.  Acousticness..  Speechiness.  Popularity Length.Pretty  \n",
       "34        39      224              19             6          89          3:44  \n",
       "28        66      193              11             6          91          3:13  \n",
       "25        87      191              49             6          70          3:11  \n",
       "37        91      162              13             5          87          2:42  \n",
       "1         61      302               8             9          92          5:02  "
      ]
     },
     "execution_count": 25,
     "metadata": {},
     "output_type": "execute_result"
    }
   ],
   "source": [
    "top50e = top50.sort_values('Energy', ascending=False)\n",
    "top50e.head()"
   ]
  },
  {
   "cell_type": "code",
   "execution_count": 26,
   "metadata": {},
   "outputs": [],
   "source": [
    "top50e.to_csv(\"energy50.csv\")"
   ]
  },
  {
   "cell_type": "code",
   "execution_count": 30,
   "metadata": {},
   "outputs": [],
   "source": [
    "top50e.to_html(\"e50.html\")"
   ]
  },
  {
   "cell_type": "code",
   "execution_count": 34,
   "metadata": {},
   "outputs": [],
   "source": [
    "top50e.to_excel(\"e50.xlsx\")"
   ]
  },
  {
   "cell_type": "code",
   "execution_count": 41,
   "metadata": {},
   "outputs": [
    {
     "ename": "ImportError",
     "evalue": "lxml not found, please install it",
     "output_type": "error",
     "traceback": [
      "\u001b[1;31m---------------------------------------------------------------------------\u001b[0m",
      "\u001b[1;31mImportError\u001b[0m                               Traceback (most recent call last)",
      "\u001b[1;32mc:\\Users\\infoh\\Documents\\PythonPTU1\\ptu1-advanced-math\\ptu1_pandas3.ipynb Cell 18'\u001b[0m in \u001b[0;36m<cell line: 1>\u001b[1;34m()\u001b[0m\n\u001b[1;32m----> <a href='vscode-notebook-cell:/c%3A/Users/infoh/Documents/PythonPTU1/ptu1-advanced-math/ptu1_pandas3.ipynb#ch0000016?line=0'>1</a>\u001b[0m vilnius \u001b[39m=\u001b[39m pd\u001b[39m.\u001b[39;49mread_html(\u001b[39m'\u001b[39;49m\u001b[39mhttps://lt.wikipedia.org/wiki/Vilniaus_miesto_savivaldyb\u001b[39;49m\u001b[39m%\u001b[39;49m\u001b[39mC4\u001b[39;49m\u001b[39m%\u001b[39;49m\u001b[39m97\u001b[39;49m\u001b[39m'\u001b[39;49m)\n\u001b[0;32m      <a href='vscode-notebook-cell:/c%3A/Users/infoh/Documents/PythonPTU1/ptu1-advanced-math/ptu1_pandas3.ipynb#ch0000016?line=1'>2</a>\u001b[0m vilnius\n",
      "File \u001b[1;32mc:\\Users\\infoh\\Documents\\PythonPTU1\\ptu1-advanced-math\\venv\\lib\\site-packages\\pandas\\util\\_decorators.py:311\u001b[0m, in \u001b[0;36mdeprecate_nonkeyword_arguments.<locals>.decorate.<locals>.wrapper\u001b[1;34m(*args, **kwargs)\u001b[0m\n\u001b[0;32m    <a href='file:///c%3A/Users/infoh/Documents/PythonPTU1/ptu1-advanced-math/venv/lib/site-packages/pandas/util/_decorators.py?line=304'>305</a>\u001b[0m \u001b[39mif\u001b[39;00m \u001b[39mlen\u001b[39m(args) \u001b[39m>\u001b[39m num_allow_args:\n\u001b[0;32m    <a href='file:///c%3A/Users/infoh/Documents/PythonPTU1/ptu1-advanced-math/venv/lib/site-packages/pandas/util/_decorators.py?line=305'>306</a>\u001b[0m     warnings\u001b[39m.\u001b[39mwarn(\n\u001b[0;32m    <a href='file:///c%3A/Users/infoh/Documents/PythonPTU1/ptu1-advanced-math/venv/lib/site-packages/pandas/util/_decorators.py?line=306'>307</a>\u001b[0m         msg\u001b[39m.\u001b[39mformat(arguments\u001b[39m=\u001b[39marguments),\n\u001b[0;32m    <a href='file:///c%3A/Users/infoh/Documents/PythonPTU1/ptu1-advanced-math/venv/lib/site-packages/pandas/util/_decorators.py?line=307'>308</a>\u001b[0m         \u001b[39mFutureWarning\u001b[39;00m,\n\u001b[0;32m    <a href='file:///c%3A/Users/infoh/Documents/PythonPTU1/ptu1-advanced-math/venv/lib/site-packages/pandas/util/_decorators.py?line=308'>309</a>\u001b[0m         stacklevel\u001b[39m=\u001b[39mstacklevel,\n\u001b[0;32m    <a href='file:///c%3A/Users/infoh/Documents/PythonPTU1/ptu1-advanced-math/venv/lib/site-packages/pandas/util/_decorators.py?line=309'>310</a>\u001b[0m     )\n\u001b[1;32m--> <a href='file:///c%3A/Users/infoh/Documents/PythonPTU1/ptu1-advanced-math/venv/lib/site-packages/pandas/util/_decorators.py?line=310'>311</a>\u001b[0m \u001b[39mreturn\u001b[39;00m func(\u001b[39m*\u001b[39margs, \u001b[39m*\u001b[39m\u001b[39m*\u001b[39mkwargs)\n",
      "File \u001b[1;32mc:\\Users\\infoh\\Documents\\PythonPTU1\\ptu1-advanced-math\\venv\\lib\\site-packages\\pandas\\io\\html.py:1113\u001b[0m, in \u001b[0;36mread_html\u001b[1;34m(io, match, flavor, header, index_col, skiprows, attrs, parse_dates, thousands, encoding, decimal, converters, na_values, keep_default_na, displayed_only)\u001b[0m\n\u001b[0;32m   <a href='file:///c%3A/Users/infoh/Documents/PythonPTU1/ptu1-advanced-math/venv/lib/site-packages/pandas/io/html.py?line=1108'>1109</a>\u001b[0m validate_header_arg(header)\n\u001b[0;32m   <a href='file:///c%3A/Users/infoh/Documents/PythonPTU1/ptu1-advanced-math/venv/lib/site-packages/pandas/io/html.py?line=1110'>1111</a>\u001b[0m io \u001b[39m=\u001b[39m stringify_path(io)\n\u001b[1;32m-> <a href='file:///c%3A/Users/infoh/Documents/PythonPTU1/ptu1-advanced-math/venv/lib/site-packages/pandas/io/html.py?line=1112'>1113</a>\u001b[0m \u001b[39mreturn\u001b[39;00m _parse(\n\u001b[0;32m   <a href='file:///c%3A/Users/infoh/Documents/PythonPTU1/ptu1-advanced-math/venv/lib/site-packages/pandas/io/html.py?line=1113'>1114</a>\u001b[0m     flavor\u001b[39m=\u001b[39;49mflavor,\n\u001b[0;32m   <a href='file:///c%3A/Users/infoh/Documents/PythonPTU1/ptu1-advanced-math/venv/lib/site-packages/pandas/io/html.py?line=1114'>1115</a>\u001b[0m     io\u001b[39m=\u001b[39;49mio,\n\u001b[0;32m   <a href='file:///c%3A/Users/infoh/Documents/PythonPTU1/ptu1-advanced-math/venv/lib/site-packages/pandas/io/html.py?line=1115'>1116</a>\u001b[0m     match\u001b[39m=\u001b[39;49mmatch,\n\u001b[0;32m   <a href='file:///c%3A/Users/infoh/Documents/PythonPTU1/ptu1-advanced-math/venv/lib/site-packages/pandas/io/html.py?line=1116'>1117</a>\u001b[0m     header\u001b[39m=\u001b[39;49mheader,\n\u001b[0;32m   <a href='file:///c%3A/Users/infoh/Documents/PythonPTU1/ptu1-advanced-math/venv/lib/site-packages/pandas/io/html.py?line=1117'>1118</a>\u001b[0m     index_col\u001b[39m=\u001b[39;49mindex_col,\n\u001b[0;32m   <a href='file:///c%3A/Users/infoh/Documents/PythonPTU1/ptu1-advanced-math/venv/lib/site-packages/pandas/io/html.py?line=1118'>1119</a>\u001b[0m     skiprows\u001b[39m=\u001b[39;49mskiprows,\n\u001b[0;32m   <a href='file:///c%3A/Users/infoh/Documents/PythonPTU1/ptu1-advanced-math/venv/lib/site-packages/pandas/io/html.py?line=1119'>1120</a>\u001b[0m     parse_dates\u001b[39m=\u001b[39;49mparse_dates,\n\u001b[0;32m   <a href='file:///c%3A/Users/infoh/Documents/PythonPTU1/ptu1-advanced-math/venv/lib/site-packages/pandas/io/html.py?line=1120'>1121</a>\u001b[0m     thousands\u001b[39m=\u001b[39;49mthousands,\n\u001b[0;32m   <a href='file:///c%3A/Users/infoh/Documents/PythonPTU1/ptu1-advanced-math/venv/lib/site-packages/pandas/io/html.py?line=1121'>1122</a>\u001b[0m     attrs\u001b[39m=\u001b[39;49mattrs,\n\u001b[0;32m   <a href='file:///c%3A/Users/infoh/Documents/PythonPTU1/ptu1-advanced-math/venv/lib/site-packages/pandas/io/html.py?line=1122'>1123</a>\u001b[0m     encoding\u001b[39m=\u001b[39;49mencoding,\n\u001b[0;32m   <a href='file:///c%3A/Users/infoh/Documents/PythonPTU1/ptu1-advanced-math/venv/lib/site-packages/pandas/io/html.py?line=1123'>1124</a>\u001b[0m     decimal\u001b[39m=\u001b[39;49mdecimal,\n\u001b[0;32m   <a href='file:///c%3A/Users/infoh/Documents/PythonPTU1/ptu1-advanced-math/venv/lib/site-packages/pandas/io/html.py?line=1124'>1125</a>\u001b[0m     converters\u001b[39m=\u001b[39;49mconverters,\n\u001b[0;32m   <a href='file:///c%3A/Users/infoh/Documents/PythonPTU1/ptu1-advanced-math/venv/lib/site-packages/pandas/io/html.py?line=1125'>1126</a>\u001b[0m     na_values\u001b[39m=\u001b[39;49mna_values,\n\u001b[0;32m   <a href='file:///c%3A/Users/infoh/Documents/PythonPTU1/ptu1-advanced-math/venv/lib/site-packages/pandas/io/html.py?line=1126'>1127</a>\u001b[0m     keep_default_na\u001b[39m=\u001b[39;49mkeep_default_na,\n\u001b[0;32m   <a href='file:///c%3A/Users/infoh/Documents/PythonPTU1/ptu1-advanced-math/venv/lib/site-packages/pandas/io/html.py?line=1127'>1128</a>\u001b[0m     displayed_only\u001b[39m=\u001b[39;49mdisplayed_only,\n\u001b[0;32m   <a href='file:///c%3A/Users/infoh/Documents/PythonPTU1/ptu1-advanced-math/venv/lib/site-packages/pandas/io/html.py?line=1128'>1129</a>\u001b[0m )\n",
      "File \u001b[1;32mc:\\Users\\infoh\\Documents\\PythonPTU1\\ptu1-advanced-math\\venv\\lib\\site-packages\\pandas\\io\\html.py:915\u001b[0m, in \u001b[0;36m_parse\u001b[1;34m(flavor, io, match, attrs, encoding, displayed_only, **kwargs)\u001b[0m\n\u001b[0;32m    <a href='file:///c%3A/Users/infoh/Documents/PythonPTU1/ptu1-advanced-math/venv/lib/site-packages/pandas/io/html.py?line=912'>913</a>\u001b[0m retained \u001b[39m=\u001b[39m \u001b[39mNone\u001b[39;00m\n\u001b[0;32m    <a href='file:///c%3A/Users/infoh/Documents/PythonPTU1/ptu1-advanced-math/venv/lib/site-packages/pandas/io/html.py?line=913'>914</a>\u001b[0m \u001b[39mfor\u001b[39;00m flav \u001b[39min\u001b[39;00m flavor:\n\u001b[1;32m--> <a href='file:///c%3A/Users/infoh/Documents/PythonPTU1/ptu1-advanced-math/venv/lib/site-packages/pandas/io/html.py?line=914'>915</a>\u001b[0m     parser \u001b[39m=\u001b[39m _parser_dispatch(flav)\n\u001b[0;32m    <a href='file:///c%3A/Users/infoh/Documents/PythonPTU1/ptu1-advanced-math/venv/lib/site-packages/pandas/io/html.py?line=915'>916</a>\u001b[0m     p \u001b[39m=\u001b[39m parser(io, compiled_match, attrs, encoding, displayed_only)\n\u001b[0;32m    <a href='file:///c%3A/Users/infoh/Documents/PythonPTU1/ptu1-advanced-math/venv/lib/site-packages/pandas/io/html.py?line=917'>918</a>\u001b[0m     \u001b[39mtry\u001b[39;00m:\n",
      "File \u001b[1;32mc:\\Users\\infoh\\Documents\\PythonPTU1\\ptu1-advanced-math\\venv\\lib\\site-packages\\pandas\\io\\html.py:872\u001b[0m, in \u001b[0;36m_parser_dispatch\u001b[1;34m(flavor)\u001b[0m\n\u001b[0;32m    <a href='file:///c%3A/Users/infoh/Documents/PythonPTU1/ptu1-advanced-math/venv/lib/site-packages/pandas/io/html.py?line=869'>870</a>\u001b[0m \u001b[39melse\u001b[39;00m:\n\u001b[0;32m    <a href='file:///c%3A/Users/infoh/Documents/PythonPTU1/ptu1-advanced-math/venv/lib/site-packages/pandas/io/html.py?line=870'>871</a>\u001b[0m     \u001b[39mif\u001b[39;00m \u001b[39mnot\u001b[39;00m _HAS_LXML:\n\u001b[1;32m--> <a href='file:///c%3A/Users/infoh/Documents/PythonPTU1/ptu1-advanced-math/venv/lib/site-packages/pandas/io/html.py?line=871'>872</a>\u001b[0m         \u001b[39mraise\u001b[39;00m \u001b[39mImportError\u001b[39;00m(\u001b[39m\"\u001b[39m\u001b[39mlxml not found, please install it\u001b[39m\u001b[39m\"\u001b[39m)\n\u001b[0;32m    <a href='file:///c%3A/Users/infoh/Documents/PythonPTU1/ptu1-advanced-math/venv/lib/site-packages/pandas/io/html.py?line=872'>873</a>\u001b[0m \u001b[39mreturn\u001b[39;00m _valid_parsers[flavor]\n",
      "\u001b[1;31mImportError\u001b[0m: lxml not found, please install it"
     ]
    }
   ],
   "source": [
    "vilnius = pd.read_html('https://lt.wikipedia.org/wiki/Vilniaus_miesto_savivaldyb%C4%97')\n",
    "vilnius"
   ]
  },
  {
   "cell_type": "code",
   "execution_count": null,
   "metadata": {},
   "outputs": [],
   "source": []
  }
 ],
 "metadata": {
  "interpreter": {
   "hash": "afa4dd3da4087d5c6238fd8833e07e71fa69923c9868061c584542cdf9b5a2b1"
  },
  "kernelspec": {
   "display_name": "Python 3.10.1 ('venv': venv)",
   "language": "python",
   "name": "python3"
  },
  "language_info": {
   "codemirror_mode": {
    "name": "ipython",
    "version": 3
   },
   "file_extension": ".py",
   "mimetype": "text/x-python",
   "name": "python",
   "nbconvert_exporter": "python",
   "pygments_lexer": "ipython3",
   "version": "3.10.1"
  },
  "orig_nbformat": 4
 },
 "nbformat": 4,
 "nbformat_minor": 2
}
