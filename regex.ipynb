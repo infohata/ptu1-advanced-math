{
 "cells": [
  {
   "cell_type": "markdown",
   "metadata": {},
   "source": [
    "# Pradzia"
   ]
  },
  {
   "cell_type": "code",
   "execution_count": 18,
   "metadata": {},
   "outputs": [
    {
     "data": {
      "text/plain": [
       "re.compile(r'\\+370\\s\\d{3}\\s\\d{5}', re.UNICODE)"
      ]
     },
     "execution_count": 18,
     "metadata": {},
     "output_type": "execute_result"
    }
   ],
   "source": [
    "import re\n",
    "\n",
    "pattern = re.compile(r'\\+370\\s\\d{3}\\s\\d{5}')\n",
    "pattern"
   ]
  },
  {
   "cell_type": "code",
   "execution_count": 19,
   "metadata": {},
   "outputs": [],
   "source": [
    "text = '''\n",
    "Pirmas lefonas: +370 692 95411\n",
    "Antras lefonas: +370 699 99428\n",
    "'''"
   ]
  },
  {
   "cell_type": "code",
   "execution_count": 20,
   "metadata": {},
   "outputs": [
    {
     "data": {
      "text/plain": [
       "<re.Match object; span=(17, 31), match='+370 692 95411'>"
      ]
     },
     "execution_count": 20,
     "metadata": {},
     "output_type": "execute_result"
    }
   ],
   "source": [
    "res = pattern.search(text)\n",
    "res"
   ]
  },
  {
   "cell_type": "code",
   "execution_count": 21,
   "metadata": {},
   "outputs": [
    {
     "data": {
      "text/plain": [
       "'+370 692 95411'"
      ]
     },
     "execution_count": 21,
     "metadata": {},
     "output_type": "execute_result"
    }
   ],
   "source": [
    "res.group()"
   ]
  },
  {
   "cell_type": "code",
   "execution_count": 22,
   "metadata": {},
   "outputs": [
    {
     "data": {
      "text/plain": [
       "['+370 692 95411', '+370 699 99428']"
      ]
     },
     "execution_count": 22,
     "metadata": {},
     "output_type": "execute_result"
    }
   ],
   "source": [
    "all = pattern.findall(text)\n",
    "all"
   ]
  },
  {
   "cell_type": "markdown",
   "metadata": {},
   "source": [
    "# Pritaikymas"
   ]
  },
  {
   "cell_type": "code",
   "execution_count": 50,
   "metadata": {},
   "outputs": [],
   "source": [
    "def validate_email(email):\n",
    "    email_regex = re.compile(r'^([a-zA-Z0-9._%-]+)@([a-zA-Z0-9.-]+\\.[a-zA-Z]{2,6})$')\n",
    "    result = email_regex.search(email)\n",
    "    if result:\n",
    "        return result\n",
    "    return False"
   ]
  },
  {
   "cell_type": "code",
   "execution_count": 58,
   "metadata": {},
   "outputs": [
    {
     "data": {
      "text/plain": [
       "'office@code.academy.is.crazy'"
      ]
     },
     "execution_count": 58,
     "metadata": {},
     "output_type": "execute_result"
    }
   ],
   "source": [
    "res = validate_email('office@code.academy.is.crazy')\n",
    "res.group(0)\n"
   ]
  },
  {
   "cell_type": "markdown",
   "metadata": {},
   "source": [
    "# Grupavimas"
   ]
  },
  {
   "cell_type": "code",
   "execution_count": 42,
   "metadata": {},
   "outputs": [],
   "source": [
    "def split_names(name):\n",
    "    pattern = re.compile(r'^([A-Z]\\w{1,3}\\.)\\s([A-Z]\\w+)\\s([A-Z]\\w+)$')\n",
    "    result = pattern.search(name)\n",
    "    if result:\n",
    "        print(f'Visa eilute: {result.group(0)}')\n",
    "        print(f'Kreipinys: {result.group(1)}')\n",
    "        print(f'Vardas: {result.group(2)}')\n",
    "        print(f'Pavarde: {result.group(3)}')\n",
    "        print('...................................')\n",
    "        print(result.group())\n",
    "        print(result.groups())\n",
    "    else:\n",
    "        print('Neteisingas asmuo')\n"
   ]
  },
  {
   "cell_type": "code",
   "execution_count": 59,
   "metadata": {},
   "outputs": [
    {
     "name": "stdout",
     "output_type": "stream",
     "text": [
      "Visa eilute: Mr. Maxim Sban\n",
      "Kreipinys: Mr.\n",
      "Vardas: Maxim\n",
      "Pavarde: Sban\n",
      "...................................\n",
      "Mr. Maxim Sban\n",
      "('Mr.', 'Maxim', 'Sban')\n"
     ]
    }
   ],
   "source": [
    "split_names('Mr. Maxim Sban')"
   ]
  },
  {
   "cell_type": "markdown",
   "metadata": {},
   "source": [
    "# Slepiam"
   ]
  },
  {
   "cell_type": "code",
   "execution_count": 69,
   "metadata": {},
   "outputs": [
    {
     "data": {
      "text/plain": [
       "'card1: kortele su pabaiga 4456, card2: kortele su pabaiga 1112'"
      ]
     },
     "execution_count": 69,
     "metadata": {},
     "output_type": "execute_result"
    }
   ],
   "source": [
    "card = \"card1: 0425 6544 0004 4456, card2: 1234 4567 8910 1112\"\n",
    "pattern = re.compile(r'\\b\\d{4}\\s\\d{4}\\s\\d{4}\\s(\\d{4})\\b')\n",
    "res = pattern.sub('kortele su pabaiga \\g<1>', card)\n",
    "res"
   ]
  },
  {
   "cell_type": "markdown",
   "metadata": {},
   "source": [
    "# FLAGS"
   ]
  },
  {
   "cell_type": "code",
   "execution_count": 86,
   "metadata": {},
   "outputs": [
    {
     "data": {
      "text/plain": [
       "['Trumpas', 'tekstas', 'Tankus', 'tai', 'tinginiu']"
      ]
     },
     "execution_count": 86,
     "metadata": {},
     "output_type": "execute_result"
    }
   ],
   "source": [
    "tekstas = '''Trumpas tekstas apie Tankus..\n",
    "kazkaip tai keisTai\n",
    "ir siaip tinginiu kontora'''\n",
    "pattern = re.compile(r'\\bt\\w+', re.MULTILINE + re.IGNORECASE)\n",
    "res = pattern.findall(tekstas)\n",
    "res"
   ]
  },
  {
   "cell_type": "markdown",
   "metadata": {},
   "source": [
    "### verbose"
   ]
  },
  {
   "cell_type": "code",
   "execution_count": 93,
   "metadata": {},
   "outputs": [
    {
     "data": {
      "text/plain": [
       "[('Studentas', 'Nekantrusis', '699 99428')]"
      ]
     },
     "execution_count": 93,
     "metadata": {},
     "output_type": "execute_result"
    }
   ],
   "source": [
    "kontaktas = 'Studentas Nekantrusis, tel. +370 699 99428'\n",
    "pattern = re.compile(r'''\n",
    "                    ([A-Z]\\w+)        # vardas\n",
    "                    \\s                # tarpas\n",
    "                    ([A-Z]\\w+)        # pavarde\n",
    "                    ,\\s               # kablelis ir tarpas\n",
    "                    tel.\\s                    # \"tel.\" su tarpu\n",
    "                    \\+370\\s(6\\d{2}\\s\\d{5})    # lietuviskas mobilus telefono numeris\n",
    "''', re.VERBOSE | re.IGNORECASE)\n",
    "res = pattern.findall(kontaktas)\n",
    "res"
   ]
  },
  {
   "cell_type": "code",
   "execution_count": null,
   "metadata": {},
   "outputs": [],
   "source": [
    "pattern = re.compile(r'''(?:[a-z0-9!#$%&'*+/=?^_`{|}~-]+(?:\\.[a-z0-9!#$%&'*+/=?^_`{|}~-]+)*|\"(?:[\\x01-\\x08\\x0b\\x0c\\x0e-\\x1f\\x21\\x23-\\x5b\\x5d-\\x7f]|\\\\[\\x01-\\x09\\x0b\\x0c\\x0e-\\x7f])*\")@(?:(?:[a-z0-9](?:[a-z0-9-]*[a-z0-9])?\\.)+[a-z0-9](?:[a-z0-9-]*[a-z0-9])?|\\[(?:(?:25[0-5]|2[0-4][0-9]|[01]?[0-9][0-9]?)\\.){3}(?:25[0-5]|2[0-4][0-9]|[01]?[0-9][0-9]?|[a-z0-9-]*[a-z0-9]:(?:[\\x01-\\x08\\x0b\\x0c\\x0e-\\x1f\\x21-\\x5a\\x53-\\x7f]|\\\\[\\x01-\\x09\\x0b\\x0c\\x0e-\\x7f])+)\\])''')\n"
   ]
  }
 ],
 "metadata": {
  "interpreter": {
   "hash": "5ae69545c1cf3fb0aba38c2758566221bd22a383128d6c1b08b3df0fe12d454d"
  },
  "kernelspec": {
   "display_name": "Python 3.10.1 ('venv': venv)",
   "language": "python",
   "name": "python3"
  },
  "language_info": {
   "codemirror_mode": {
    "name": "ipython",
    "version": 3
   },
   "file_extension": ".py",
   "mimetype": "text/x-python",
   "name": "python",
   "nbconvert_exporter": "python",
   "pygments_lexer": "ipython3",
   "version": "3.10.1"
  },
  "orig_nbformat": 4
 },
 "nbformat": 4,
 "nbformat_minor": 2
}
