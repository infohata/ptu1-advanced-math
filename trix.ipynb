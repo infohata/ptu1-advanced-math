{
 "cells": [
  {
   "cell_type": "markdown",
   "metadata": {},
   "source": [
    "# map()"
   ]
  },
  {
   "cell_type": "code",
   "execution_count": 1,
   "metadata": {},
   "outputs": [
    {
     "data": {
      "text/plain": [
       "[16, 9, 4, 1]"
      ]
     },
     "execution_count": 1,
     "metadata": {},
     "output_type": "execute_result"
    }
   ],
   "source": [
    "sarasas = [4, 3, 2, 1]\n",
    "naujas_sarasas = []\n",
    "for skaicius in sarasas:\n",
    "    naujas_sarasas.append(skaicius ** 2)\n",
    "\n",
    "naujas_sarasas"
   ]
  },
  {
   "cell_type": "code",
   "execution_count": 4,
   "metadata": {},
   "outputs": [
    {
     "data": {
      "text/plain": [
       "[16, 9, 4, 1]"
      ]
     },
     "execution_count": 4,
     "metadata": {},
     "output_type": "execute_result"
    }
   ],
   "source": [
    "naujas = list(map(lambda skaicius: skaicius ** 2, sarasas))\n",
    "naujas"
   ]
  },
  {
   "cell_type": "code",
   "execution_count": 14,
   "metadata": {},
   "outputs": [
    {
     "data": {
      "text/plain": [
       "[16, 9, 4, 1]"
      ]
     },
     "execution_count": 14,
     "metadata": {},
     "output_type": "execute_result"
    }
   ],
   "source": [
    "import numpy as np\n",
    "masyvas = np.array(sarasas)\n",
    "trecias = map(lambda skaicius: skaicius ** 2, masyvas)\n",
    "# for skaicius in trecias:\n",
    "#     print(skaicius)\n",
    "list(trecias)"
   ]
  },
  {
   "cell_type": "code",
   "execution_count": 16,
   "metadata": {},
   "outputs": [
    {
     "data": {
      "text/plain": [
       "4000"
      ]
     },
     "execution_count": 16,
     "metadata": {},
     "output_type": "execute_result"
    }
   ],
   "source": [
    "data = \"2022-02-22\"\n",
    "metai, menuo, diena = map(int, data.split('-'))\n",
    "(metai - diena) * menuo"
   ]
  },
  {
   "cell_type": "code",
   "execution_count": 25,
   "metadata": {},
   "outputs": [
    {
     "data": {
      "text/plain": [
       "[7.5, 7.5, 10.5, 1.5, inf, 4.5, inf, 10.5]"
      ]
     },
     "execution_count": 25,
     "metadata": {},
     "output_type": "execute_result"
    }
   ],
   "source": [
    "def veiksmai(skaicius):\n",
    "    try:\n",
    "        skaicius = float(skaicius)\n",
    "    except:\n",
    "        skaicius = float(\"inf\")\n",
    "    return skaicius / 2 * 3\n",
    "\n",
    "stringas = \"5571a3x7\"\n",
    "skaitmenys_kvadratu = map(veiksmai, stringas)\n",
    "list(skaitmenys_kvadratu)"
   ]
  },
  {
   "cell_type": "markdown",
   "metadata": {},
   "source": [
    "# filter()"
   ]
  },
  {
   "cell_type": "code",
   "execution_count": 27,
   "metadata": {},
   "outputs": [
    {
     "data": {
      "text/plain": [
       "[4, 2]"
      ]
     },
     "execution_count": 27,
     "metadata": {},
     "output_type": "execute_result"
    }
   ],
   "source": [
    "sarasas\n",
    "lyginiai = []\n",
    "for skaicius in sarasas:\n",
    "    if skaicius % 2 == 0:\n",
    "        lyginiai.append(skaicius)\n",
    "lyginiai"
   ]
  },
  {
   "cell_type": "code",
   "execution_count": 30,
   "metadata": {},
   "outputs": [
    {
     "data": {
      "text/plain": [
       "(4, 2)"
      ]
     },
     "execution_count": 30,
     "metadata": {},
     "output_type": "execute_result"
    }
   ],
   "source": [
    "pirmas, antras = filter(lambda skaicius: skaicius % 2 == 0, sarasas)\n",
    "pirmas, antras"
   ]
  },
  {
   "cell_type": "code",
   "execution_count": 32,
   "metadata": {},
   "outputs": [
    {
     "data": {
      "text/plain": [
       "[1904,\n",
       " 1908,\n",
       " 1912,\n",
       " 1916,\n",
       " 1920,\n",
       " 1924,\n",
       " 1928,\n",
       " 1932,\n",
       " 1936,\n",
       " 1940,\n",
       " 1944,\n",
       " 1948,\n",
       " 1952,\n",
       " 1956,\n",
       " 1960,\n",
       " 1964,\n",
       " 1968,\n",
       " 1972,\n",
       " 1976,\n",
       " 1980,\n",
       " 1984,\n",
       " 1988,\n",
       " 1992,\n",
       " 1996,\n",
       " 2000,\n",
       " 2004,\n",
       " 2008,\n",
       " 2012,\n",
       " 2016,\n",
       " 2020,\n",
       " 2024,\n",
       " 2028,\n",
       " 2032,\n",
       " 2036,\n",
       " 2040,\n",
       " 2044,\n",
       " 2048,\n",
       " 2052,\n",
       " 2056,\n",
       " 2060,\n",
       " 2064,\n",
       " 2068,\n",
       " 2072,\n",
       " 2076,\n",
       " 2080,\n",
       " 2084,\n",
       " 2088,\n",
       " 2092,\n",
       " 2096,\n",
       " 2104]"
      ]
     },
     "execution_count": 32,
     "metadata": {},
     "output_type": "execute_result"
    }
   ],
   "source": [
    "from calendar import isleap\n",
    "metai = np.arange(1900, 2105, 4)\n",
    "keliamieji = filter(isleap, metai)\n",
    "list(keliamieji)"
   ]
  },
  {
   "cell_type": "markdown",
   "metadata": {},
   "source": [
    "# reduce()"
   ]
  },
  {
   "cell_type": "code",
   "execution_count": 37,
   "metadata": {},
   "outputs": [
    {
     "data": {
      "text/plain": [
       "24"
      ]
     },
     "execution_count": 37,
     "metadata": {},
     "output_type": "execute_result"
    }
   ],
   "source": [
    "from functools import reduce\n",
    "sarasas\n",
    "suma = reduce(lambda dedamoji, skaicius: dedamoji * skaicius, sarasas)\n",
    "suma"
   ]
  },
  {
   "cell_type": "markdown",
   "metadata": {},
   "source": [
    "# list comprehension\n",
    "#### sąrašo apibrėžimas"
   ]
  },
  {
   "cell_type": "code",
   "execution_count": 54,
   "metadata": {},
   "outputs": [
    {
     "data": {
      "text/plain": [
       "[5, 3, 7, 4]"
      ]
     },
     "execution_count": 54,
     "metadata": {},
     "output_type": "execute_result"
    }
   ],
   "source": [
    "saraselis = [5, 3, -1, 7, -6, 0, 1, 4]\n",
    "daugiau_uz_2 = [skaicius for skaicius in saraselis if skaicius > 2]\n",
    "daugiau_uz_2"
   ]
  },
  {
   "cell_type": "code",
   "execution_count": 44,
   "metadata": {},
   "outputs": [
    {
     "data": {
      "text/plain": [
       "[-6, 0, 4]"
      ]
     },
     "execution_count": 44,
     "metadata": {},
     "output_type": "execute_result"
    }
   ],
   "source": [
    "lyginiai = [skaicius for skaicius in saraselis if skaicius % 2 == 0]\n",
    "lyginiai"
   ]
  },
  {
   "cell_type": "code",
   "execution_count": 46,
   "metadata": {},
   "outputs": [
    {
     "data": {
      "text/plain": [
       "[25, 9, 1, 49, 36, 0, 1, 16]"
      ]
     },
     "execution_count": 46,
     "metadata": {},
     "output_type": "execute_result"
    }
   ],
   "source": [
    "kvadratai = (skaicius ** 2 for skaicius in saraselis)\n",
    "list(kvadratai)"
   ]
  },
  {
   "cell_type": "code",
   "execution_count": 50,
   "metadata": {},
   "outputs": [
    {
     "data": {
      "text/plain": [
       "0.0"
      ]
     },
     "execution_count": 50,
     "metadata": {},
     "output_type": "execute_result"
    }
   ],
   "source": [
    "kreivi_duomenys = (100, -5, 17, \"kibiras\", 33, \"stikline\", -145.0)\n",
    "suma = sum(skaicius for skaicius in kreivi_duomenys if type(skaicius) is int or type(skaicius) is float)\n",
    "suma"
   ]
  },
  {
   "cell_type": "markdown",
   "metadata": {},
   "source": [
    "# sort() ir sorted()"
   ]
  },
  {
   "cell_type": "code",
   "execution_count": 53,
   "metadata": {},
   "outputs": [
    {
     "data": {
      "text/plain": [
       "[-6, -1, 0, 1, 3, 4, 5, 7]"
      ]
     },
     "execution_count": 53,
     "metadata": {},
     "output_type": "execute_result"
    }
   ],
   "source": [
    "saraselis.sort()\n",
    "saraselis"
   ]
  },
  {
   "cell_type": "code",
   "execution_count": 60,
   "metadata": {},
   "outputs": [
    {
     "data": {
      "text/plain": [
       "([-6, -1, 0, 1, 3, 4, 5, 7], [5, 3, -1, 7, -6, 0, 1, 4])"
      ]
     },
     "execution_count": 60,
     "metadata": {},
     "output_type": "execute_result"
    }
   ],
   "source": [
    "isrusiuotas = sorted(saraselis)\n",
    "isrusiuotas, saraselis"
   ]
  },
  {
   "cell_type": "code",
   "execution_count": 63,
   "metadata": {},
   "outputs": [
    {
     "data": {
      "text/plain": [
       "[7, 5, 4, 3, 1, 0, -1, -6]"
      ]
     },
     "execution_count": 63,
     "metadata": {},
     "output_type": "execute_result"
    }
   ],
   "source": [
    "atbulai = sorted(saraselis, reverse=True)\n",
    "atbulai"
   ]
  },
  {
   "cell_type": "code",
   "execution_count": 65,
   "metadata": {},
   "outputs": [
    {
     "data": {
      "text/plain": [
       "[-77, 7, 9, 23, 42, 77, 88]"
      ]
     },
     "execution_count": 65,
     "metadata": {},
     "output_type": "execute_result"
    }
   ],
   "source": [
    "tupliux = (7, 88, 9, -77, 42, 23, 77)\n",
    "pertupliuotas = sorted(tupliux)\n",
    "pertupliuotas"
   ]
  },
  {
   "cell_type": "code",
   "execution_count": 72,
   "metadata": {},
   "outputs": [
    {
     "data": {
      "text/plain": [
       "['Dar jaunas', 'Januskev...', 'Kestutis']"
      ]
     },
     "execution_count": 72,
     "metadata": {},
     "output_type": "execute_result"
    }
   ],
   "source": [
    "zodynas = {\"Vardas\": \"Kestutis\", \"Pavarde\": \"Januskev...\", \"Amzius\": \"Dar jaunas\"}\n",
    "pagerintas = sorted(zodynas)\n",
    "pagerintas\n",
    "[zodynas[raktas] for raktas in pagerintas]"
   ]
  },
  {
   "cell_type": "code",
   "execution_count": 74,
   "metadata": {},
   "outputs": [
    {
     "data": {
      "text/plain": [
       "{'Amzius': 'Dar jaunas', 'Pavarde': 'Januskev...', 'Vardas': 'Kestutis'}"
      ]
     },
     "execution_count": 74,
     "metadata": {},
     "output_type": "execute_result"
    }
   ],
   "source": [
    "pagal_reiksme = sorted(zodynas.items(), key=lambda item: item[1])\n",
    "dict(pagal_reiksme)"
   ]
  },
  {
   "cell_type": "code",
   "execution_count": 76,
   "metadata": {},
   "outputs": [
    {
     "data": {
      "text/plain": [
       "[0, -1, 1, 3, 4, 5, -6, 7]"
      ]
     },
     "execution_count": 76,
     "metadata": {},
     "output_type": "execute_result"
    }
   ],
   "source": [
    "sorted(saraselis, key=abs)"
   ]
  },
  {
   "cell_type": "code",
   "execution_count": 123,
   "metadata": {},
   "outputs": [
    {
     "data": {
      "text/plain": [
       "['Bedarbis',\n",
       " Pythonistas gauna 10000 EURu,\n",
       " Januskevicius gauna 5000 EURu,\n",
       " Prezidentas gauna 17000 EURu,\n",
       " Tuberis gauna 25000 EURu]"
      ]
     },
     "execution_count": 123,
     "metadata": {},
     "output_type": "execute_result"
    }
   ],
   "source": [
    "class Darbuotojas:\n",
    "    def __init__(self, vardas, pavarde, atlyginimas = 0):\n",
    "        self.vardas = vardas\n",
    "        self.pavarde = pavarde\n",
    "        self.atlyginimas = atlyginimas\n",
    "\n",
    "    def __repr__(self):\n",
    "        return f'{self.pavarde} gauna {self.atlyginimas:d} EURu'\n",
    "    \n",
    "    def __str__(self):\n",
    "        return f'{self.vardas} {self.pavarde} uzdirba {self.atlyginimas:d} €'\n",
    "\n",
    "\n",
    "d1 = Darbuotojas(\"Kestutis\", \"Januskevicius\", 5000)\n",
    "d2 = Darbuotojas(\"Geras\", \"Pythonistas\", 10000)\n",
    "d3 = Darbuotojas(\"Zinomas\", \"Tuberis\", 25000)\n",
    "d4 = Darbuotojas(\"Lietuvos\", \"Prezidentas\", 17000)\n",
    "darbuotojai = [d3, d2, d1, d4, \"Bedarbis\"]\n",
    "\n",
    "def rusiavimas_pagal_varda(betkas):\n",
    "    if isinstance(betkas, Darbuotojas):\n",
    "        return betkas.vardas\n",
    "    return betkas\n",
    "\n",
    "# def rusiavimas_pagal_atlyginima(darbuotojo_klase):\n",
    "#     return darbuotojo_klase.atlyginimas\n",
    "\n",
    "surusiuoti = sorted(darbuotojai, key=rusiavimas_pagal_varda)\n",
    "surusiuoti"
   ]
  },
  {
   "cell_type": "code",
   "execution_count": 124,
   "metadata": {},
   "outputs": [
    {
     "data": {
      "text/plain": [
       "[Januskevicius gauna 5000 EURu,\n",
       " Pythonistas gauna 10000 EURu,\n",
       " Prezidentas gauna 17000 EURu,\n",
       " Tuberis gauna 25000 EURu]"
      ]
     },
     "execution_count": 124,
     "metadata": {},
     "output_type": "execute_result"
    }
   ],
   "source": [
    "darbuotojai = [d3, d2, d1, d4] # {'vardas': 'Bedarbis', 'atlyginimas': 0} # negalima\n",
    "surusiuoti = sorted(darbuotojai, key=lambda darbuotojas: darbuotojas.atlyginimas)\n",
    "surusiuoti"
   ]
  },
  {
   "cell_type": "code",
   "execution_count": 128,
   "metadata": {},
   "outputs": [
    {
     "data": {
      "text/plain": [
       "['Kestutis Januskevicius uzdirba 5000 €',\n",
       " 'Lietuvos Prezidentas uzdirba 17000 €',\n",
       " 'Geras Pythonistas uzdirba 10000 €',\n",
       " 'Zinomas Tuberis uzdirba 25000 €']"
      ]
     },
     "execution_count": 128,
     "metadata": {},
     "output_type": "execute_result"
    }
   ],
   "source": [
    "darbuotojai = [d3, d2, d1, d4] # {'vardas': 'Bedarbis', 'atlyginimas': 0} # negalima\n",
    "from operator import attrgetter\n",
    "surusiuoti = sorted(darbuotojai, key=attrgetter(\"pavarde\"))\n",
    "[str(darbuotojas) for darbuotojas in surusiuoti]"
   ]
  }
 ],
 "metadata": {
  "interpreter": {
   "hash": "afa4dd3da4087d5c6238fd8833e07e71fa69923c9868061c584542cdf9b5a2b1"
  },
  "kernelspec": {
   "display_name": "Python 3.10.1 ('venv': venv)",
   "language": "python",
   "name": "python3"
  },
  "language_info": {
   "codemirror_mode": {
    "name": "ipython",
    "version": 3
   },
   "file_extension": ".py",
   "mimetype": "text/x-python",
   "name": "python",
   "nbconvert_exporter": "python",
   "pygments_lexer": "ipython3",
   "version": "3.10.1"
  },
  "orig_nbformat": 4
 },
 "nbformat": 4,
 "nbformat_minor": 2
}
